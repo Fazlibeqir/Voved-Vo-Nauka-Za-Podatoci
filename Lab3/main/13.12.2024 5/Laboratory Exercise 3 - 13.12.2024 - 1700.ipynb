{
 "cells": [
  {
   "cell_type": "markdown",
   "metadata": {},
   "source": [
    "---\n",
    "# Install the required packages"
   ]
  },
  {
   "cell_type": "markdown",
   "metadata": {},
   "source": [
    "If needed install the following packages:"
   ]
  },
  {
   "cell_type": "code",
   "execution_count": 1,
   "metadata": {},
   "outputs": [],
   "source": [
    "#!pip install tensorflow keras"
   ]
  },
  {
   "cell_type": "markdown",
   "metadata": {},
   "source": [
    "---\n",
    "# Imports"
   ]
  },
  {
   "cell_type": "code",
   "execution_count": 2,
   "metadata": {},
   "outputs": [],
   "source": [
    "# Write your code here. Add as many boxes as you need.\n",
    "import pandas as pd\n",
    "import numpy as np \n",
    "import matplotlib.pyplot as plt \n",
    "import tensorflow as tf \n",
    "from tensorflow.keras.models import Sequential\n",
    "from tensorflow.keras.layers import Dense, LSTM, Conv1D, Flatten, Dropout\n",
    "from sklearn.model_selection import train_test_split\n",
    "from sklearn.metrics import mean_absolute_error, mean_squared_error, r2_score"
   ]
  },
  {
   "cell_type": "markdown",
   "metadata": {},
   "source": [
    "---\n",
    "# Laboratory Exercise - Run Mode (8 points)"
   ]
  },
  {
   "cell_type": "markdown",
   "metadata": {},
   "source": [
    "## Introduction\n",
    "In this laboratory assignment, the focus is on time series forecasting, specifically targeting the prediction of **R peak interval** for a patient. Your task involves employing deep learning methods to forecast the **required measurements**. To accomplish this you will be using a patient's ECG measurements from the MITDB database, which consists of the following values:\n",
    "\n",
    "- R peak Interval (int: the time the R peak appeared)\n",
    "- Beat Annotation (string: the beat type)\n",
    "- Episode Annotation (string: the episode type)\n",
    "\n",
    "**Note: You are required to perform this laboratory assignment on your local machine.**"
   ]
  },
  {
   "cell_type": "markdown",
   "metadata": {},
   "source": [
    "\n",
    "# Read the data"
   ]
  },
  {
   "cell_type": "markdown",
   "metadata": {},
   "source": [
    "You are required to load the given data from the `201_cleaned.ann` file (csv format). Load the data into a `pandas dataframe` and display the first 5 rows of the dataframe."
   ]
  },
  {
   "cell_type": "code",
   "execution_count": 3,
   "metadata": {},
   "outputs": [
    {
     "data": {
      "text/html": [
       "<div>\n",
       "<style scoped>\n",
       "    .dataframe tbody tr th:only-of-type {\n",
       "        vertical-align: middle;\n",
       "    }\n",
       "\n",
       "    .dataframe tbody tr th {\n",
       "        vertical-align: top;\n",
       "    }\n",
       "\n",
       "    .dataframe thead th {\n",
       "        text-align: right;\n",
       "    }\n",
       "</style>\n",
       "<table border=\"1\" class=\"dataframe\">\n",
       "  <thead>\n",
       "    <tr style=\"text-align: right;\">\n",
       "      <th></th>\n",
       "      <th>R peak Interval</th>\n",
       "      <th>Beat Annotation</th>\n",
       "      <th>Episode Annotation</th>\n",
       "    </tr>\n",
       "  </thead>\n",
       "  <tbody>\n",
       "    <tr>\n",
       "      <th>0</th>\n",
       "      <td>55</td>\n",
       "      <td>N</td>\n",
       "      <td>(AFIB</td>\n",
       "    </tr>\n",
       "    <tr>\n",
       "      <th>1</th>\n",
       "      <td>144</td>\n",
       "      <td>N</td>\n",
       "      <td>(AFIB</td>\n",
       "    </tr>\n",
       "    <tr>\n",
       "      <th>2</th>\n",
       "      <td>238</td>\n",
       "      <td>N</td>\n",
       "      <td>(AFIB</td>\n",
       "    </tr>\n",
       "    <tr>\n",
       "      <th>3</th>\n",
       "      <td>314</td>\n",
       "      <td>N</td>\n",
       "      <td>(AFIB</td>\n",
       "    </tr>\n",
       "    <tr>\n",
       "      <th>4</th>\n",
       "      <td>412</td>\n",
       "      <td>N</td>\n",
       "      <td>(AFIB</td>\n",
       "    </tr>\n",
       "  </tbody>\n",
       "</table>\n",
       "</div>"
      ],
      "text/plain": [
       "   R peak Interval Beat Annotation Episode Annotation\n",
       "0               55               N              (AFIB\n",
       "1              144               N              (AFIB\n",
       "2              238               N              (AFIB\n",
       "3              314               N              (AFIB\n",
       "4              412               N              (AFIB"
      ]
     },
     "execution_count": 3,
     "metadata": {},
     "output_type": "execute_result"
    }
   ],
   "source": [
    "# Write your code here. Add as many boxes as you need.\n",
    "data = pd.read_csv('201_cleaned.ann')\n",
    "data.head()"
   ]
  },
  {
   "cell_type": "markdown",
   "metadata": {},
   "source": [
    "---\n",
    "# EDA"
   ]
  },
  {
   "cell_type": "markdown",
   "metadata": {},
   "source": [
    "## Explore the Beat Annotation Distribution"
   ]
  },
  {
   "cell_type": "code",
   "execution_count": 4,
   "metadata": {},
   "outputs": [
    {
     "data": {
      "image/png": "[encoded data removed]",
      "text/plain": [
       "<Figure size 640x480 with 1 Axes>"
      ]
     },
     "metadata": {},
     "output_type": "display_data"
    }
   ],
   "source": [
    "# Write your code here. Add as many boxes as you need.\n",
    "data['Beat Annotation'].value_counts().plot(kind='bar')\n",
    "plt.show()"
   ]
  },
  {
   "cell_type": "markdown",
   "metadata": {},
   "source": [
    "## Explore the Episode Annotation Distribution"
   ]
  },
  {
   "cell_type": "code",
   "execution_count": 5,
   "metadata": {},
   "outputs": [
    {
     "data": {
      "image/png": "[encoded data removed]",
      "text/plain": [
       "<Figure size 640x480 with 1 Axes>"
      ]
     },
     "metadata": {},
     "output_type": "display_data"
    }
   ],
   "source": [
    "# Write your code here. Add as many boxes as you need.\n",
    "data['Episode Annotation'].value_counts().plot(kind='bar')\n",
    "plt.show()"
   ]
  },
  {
   "cell_type": "markdown",
   "metadata": {},
   "source": [
    "---\n",
    "# Feature Engineering"
   ]
  },
  {
   "cell_type": "markdown",
   "metadata": {},
   "source": [
    "## Re-Labeling the data (Beat Annotation)\n",
    "\n",
    "Re-label the data into 3 beat types:\n",
    "- Normal Beat (N)\n",
    "- Ventricular Beat (V)\n",
    "- Other Beats (Other)"
   ]
  },
  {
   "cell_type": "code",
   "execution_count": 6,
   "metadata": {},
   "outputs": [],
   "source": [
    "# Write your code here. Add as many boxes as you need.\n",
    "def relabel_beat_annotation(annotation):\n",
    "    if annotation == 'N':\n",
    "        return 'Normal Beat'\n",
    "    elif annotation == 'V':\n",
    "        return 'Ventricular Beat'\n",
    "    else:\n",
    "        return 'Other Beats'\n"
   ]
  },
  {
   "cell_type": "markdown",
   "metadata": {},
   "source": [
    "Check that the mapping worked:"
   ]
  },
  {
   "cell_type": "code",
   "execution_count": 7,
   "metadata": {},
   "outputs": [
    {
     "data": {
      "text/plain": [
       "Relabeled Beat\n",
       "Normal Beat         1625\n",
       "Ventricular Beat     198\n",
       "Other Beats          181\n",
       "Name: count, dtype: int64"
      ]
     },
     "execution_count": 7,
     "metadata": {},
     "output_type": "execute_result"
    }
   ],
   "source": [
    "# Write your code here. Add as many boxes as you need.\n",
    "data['Relabeled Beat'] = data['Beat Annotation'].apply(relabel_beat_annotation)\n",
    "data['Relabeled Beat'].value_counts()"
   ]
  },
  {
   "cell_type": "markdown",
   "metadata": {},
   "source": [
    "## Re-Labeling the data (Episode Annotation)\n",
    "\n",
    "Re-label the data into 3 beat types:\n",
    "- Normal Episode: (N\n",
    "- Atrial Fibrillation: (AFIB\n",
    "- Other Episode: (Other"
   ]
  },
  {
   "cell_type": "code",
   "execution_count": 8,
   "metadata": {},
   "outputs": [],
   "source": [
    "# Write your code here. Add as many boxes as you need.\n",
    "def relabel_episode_annotation(annotation):\n",
    "    if annotation == '(N':\n",
    "        return 'Normal Episode'\n",
    "    elif annotation == '(AFIB':\n",
    "        return 'Atrial Fibrillation'\n",
    "    else:\n",
    "        return 'Other Episode'"
   ]
  },
  {
   "cell_type": "markdown",
   "metadata": {},
   "source": [
    "Check that the mapping worked:"
   ]
  },
  {
   "cell_type": "code",
   "execution_count": 9,
   "metadata": {},
   "outputs": [
    {
     "data": {
      "text/plain": [
       "Relabeled Episode\n",
       "Atrial Fibrillation    911\n",
       "Normal Episode         730\n",
       "Other Episode          363\n",
       "Name: count, dtype: int64"
      ]
     },
     "execution_count": 9,
     "metadata": {},
     "output_type": "execute_result"
    }
   ],
   "source": [
    "# Write your code here. Add as many boxes as you need.\n",
    "data['Relabeled Episode'] = data['Episode Annotation'].apply(relabel_episode_annotation)\n",
    "data['Relabeled Episode'].value_counts()"
   ]
  },
  {
   "cell_type": "markdown",
   "metadata": {},
   "source": [
    "## Create Lag Features (5 prev values) for R peak Interval measurement"
   ]
  },
  {
   "cell_type": "markdown",
   "metadata": {},
   "source": [
    "Apply a lag for the R peak Interval, creating a set of features representing the historical patient data. To maintain dataset integrity, eliminate any resulting missing values at the beginning of the dataset.\n",
    "\n",
    "Hint: Use `df['column_name'].shift(period)`. Check the documentation at https://pandas.pydata.org/docs/reference/api/pandas.DataFrame.shift.html."
   ]
  },
  {
   "cell_type": "code",
   "execution_count": 10,
   "metadata": {},
   "outputs": [
    {
     "data": {
      "text/plain": [
       "Index(['R peak Interval', 'Beat Annotation', 'Episode Annotation',\n",
       "       'Relabeled Beat', 'Relabeled Episode'],\n",
       "      dtype='object')"
      ]
     },
     "execution_count": 10,
     "metadata": {},
     "output_type": "execute_result"
    }
   ],
   "source": [
    "data.columns"
   ]
  },
  {
   "cell_type": "code",
   "execution_count": 11,
   "metadata": {},
   "outputs": [],
   "source": [
    "# Write your code here. Add as many boxes as you need.\n",
    "for i in range(1, 6):\n",
    "    data[f'R_Peak_Lag_{i}'] = data['R peak Interval'].shift(i)\n",
    "\n",
    "data = data.dropna()"
   ]
  },
  {
   "cell_type": "markdown",
   "metadata": {},
   "source": [
    "Check that the mapping worked:"
   ]
  },
  {
   "cell_type": "code",
   "execution_count": 12,
   "metadata": {},
   "outputs": [
    {
     "data": {
      "text/html": [
       "<div>\n",
       "<style scoped>\n",
       "    .dataframe tbody tr th:only-of-type {\n",
       "        vertical-align: middle;\n",
       "    }\n",
       "\n",
       "    .dataframe tbody tr th {\n",
       "        vertical-align: top;\n",
       "    }\n",
       "\n",
       "    .dataframe thead th {\n",
       "        text-align: right;\n",
       "    }\n",
       "</style>\n",
       "<table border=\"1\" class=\"dataframe\">\n",
       "  <thead>\n",
       "    <tr style=\"text-align: right;\">\n",
       "      <th></th>\n",
       "      <th>R peak Interval</th>\n",
       "      <th>Beat Annotation</th>\n",
       "      <th>Episode Annotation</th>\n",
       "      <th>Relabeled Beat</th>\n",
       "      <th>Relabeled Episode</th>\n",
       "      <th>R_Peak_Lag_1</th>\n",
       "      <th>R_Peak_Lag_2</th>\n",
       "      <th>R_Peak_Lag_3</th>\n",
       "      <th>R_Peak_Lag_4</th>\n",
       "      <th>R_Peak_Lag_5</th>\n",
       "    </tr>\n",
       "  </thead>\n",
       "  <tbody>\n",
       "    <tr>\n",
       "      <th>5</th>\n",
       "      <td>493</td>\n",
       "      <td>N</td>\n",
       "      <td>(AFIB</td>\n",
       "      <td>Normal Beat</td>\n",
       "      <td>Atrial Fibrillation</td>\n",
       "      <td>412.0</td>\n",
       "      <td>314.0</td>\n",
       "      <td>238.0</td>\n",
       "      <td>144.0</td>\n",
       "      <td>55.0</td>\n",
       "    </tr>\n",
       "    <tr>\n",
       "      <th>6</th>\n",
       "      <td>562</td>\n",
       "      <td>N</td>\n",
       "      <td>(AFIB</td>\n",
       "      <td>Normal Beat</td>\n",
       "      <td>Atrial Fibrillation</td>\n",
       "      <td>493.0</td>\n",
       "      <td>412.0</td>\n",
       "      <td>314.0</td>\n",
       "      <td>238.0</td>\n",
       "      <td>144.0</td>\n",
       "    </tr>\n",
       "    <tr>\n",
       "      <th>7</th>\n",
       "      <td>682</td>\n",
       "      <td>N</td>\n",
       "      <td>(AFIB</td>\n",
       "      <td>Normal Beat</td>\n",
       "      <td>Atrial Fibrillation</td>\n",
       "      <td>562.0</td>\n",
       "      <td>493.0</td>\n",
       "      <td>412.0</td>\n",
       "      <td>314.0</td>\n",
       "      <td>238.0</td>\n",
       "    </tr>\n",
       "    <tr>\n",
       "      <th>8</th>\n",
       "      <td>776</td>\n",
       "      <td>N</td>\n",
       "      <td>(AFIB</td>\n",
       "      <td>Normal Beat</td>\n",
       "      <td>Atrial Fibrillation</td>\n",
       "      <td>682.0</td>\n",
       "      <td>562.0</td>\n",
       "      <td>493.0</td>\n",
       "      <td>412.0</td>\n",
       "      <td>314.0</td>\n",
       "    </tr>\n",
       "    <tr>\n",
       "      <th>9</th>\n",
       "      <td>866</td>\n",
       "      <td>N</td>\n",
       "      <td>(AFIB</td>\n",
       "      <td>Normal Beat</td>\n",
       "      <td>Atrial Fibrillation</td>\n",
       "      <td>776.0</td>\n",
       "      <td>682.0</td>\n",
       "      <td>562.0</td>\n",
       "      <td>493.0</td>\n",
       "      <td>412.0</td>\n",
       "    </tr>\n",
       "  </tbody>\n",
       "</table>\n",
       "</div>"
      ],
      "text/plain": [
       "   R peak Interval Beat Annotation Episode Annotation Relabeled Beat  \\\n",
       "5              493               N              (AFIB    Normal Beat   \n",
       "6              562               N              (AFIB    Normal Beat   \n",
       "7              682               N              (AFIB    Normal Beat   \n",
       "8              776               N              (AFIB    Normal Beat   \n",
       "9              866               N              (AFIB    Normal Beat   \n",
       "\n",
       "     Relabeled Episode  R_Peak_Lag_1  R_Peak_Lag_2  R_Peak_Lag_3  \\\n",
       "5  Atrial Fibrillation         412.0         314.0         238.0   \n",
       "6  Atrial Fibrillation         493.0         412.0         314.0   \n",
       "7  Atrial Fibrillation         562.0         493.0         412.0   \n",
       "8  Atrial Fibrillation         682.0         562.0         493.0   \n",
       "9  Atrial Fibrillation         776.0         682.0         562.0   \n",
       "\n",
       "   R_Peak_Lag_4  R_Peak_Lag_5  \n",
       "5         144.0          55.0  \n",
       "6         238.0         144.0  \n",
       "7         314.0         238.0  \n",
       "8         412.0         314.0  \n",
       "9         493.0         412.0  "
      ]
     },
     "execution_count": 12,
     "metadata": {},
     "output_type": "execute_result"
    }
   ],
   "source": [
    "# Write your code here. Add as many boxes as you need.\n",
    "data.head()"
   ]
  },
  {
   "cell_type": "markdown",
   "metadata": {},
   "source": [
    "## Generate R-R interval features\n"
   ]
  },
  {
   "cell_type": "markdown",
   "metadata": {},
   "source": [
    "For the past 5 R peak intervals ($R_{i}, i \\in \\{-1, -2, -3, -4, -5\\}$), generate the 4 R-R intervals as features.\n",
    "\n",
    "$RR_{i} = R_{i} - R_{i-1}$"
   ]
  },
  {
   "cell_type": "code",
   "execution_count": 13,
   "metadata": {},
   "outputs": [],
   "source": [
    "# Write your code here. Add as many boxes as you need.\n",
    "for i in range(1, 5):\n",
    "    data[f'RR_{i}'] = data[f'R_Peak_Lag_{i}'] - data[f'R_Peak_Lag_{i+1}']"
   ]
  },
  {
   "cell_type": "markdown",
   "metadata": {},
   "source": [
    "Additionally, generate the current R-R Interval, which we will be using as a target.  \n",
    "\n",
    "$RR_{curr} = (R_{0} - R_{-1})$"
   ]
  },
  {
   "cell_type": "code",
   "execution_count": 14,
   "metadata": {},
   "outputs": [],
   "source": [
    "# Write your code here. Add as many boxes as you need.\n",
    "data['RR_curr'] = data['R peak Interval'] - data['R_Peak_Lag_1']"
   ]
  },
  {
   "cell_type": "markdown",
   "metadata": {},
   "source": [
    "Check that the mapping worked:"
   ]
  },
  {
   "cell_type": "code",
   "execution_count": 15,
   "metadata": {},
   "outputs": [
    {
     "data": {
      "text/html": [
       "<div>\n",
       "<style scoped>\n",
       "    .dataframe tbody tr th:only-of-type {\n",
       "        vertical-align: middle;\n",
       "    }\n",
       "\n",
       "    .dataframe tbody tr th {\n",
       "        vertical-align: top;\n",
       "    }\n",
       "\n",
       "    .dataframe thead th {\n",
       "        text-align: right;\n",
       "    }\n",
       "</style>\n",
       "<table border=\"1\" class=\"dataframe\">\n",
       "  <thead>\n",
       "    <tr style=\"text-align: right;\">\n",
       "      <th></th>\n",
       "      <th>R peak Interval</th>\n",
       "      <th>Beat Annotation</th>\n",
       "      <th>Episode Annotation</th>\n",
       "      <th>Relabeled Beat</th>\n",
       "      <th>Relabeled Episode</th>\n",
       "      <th>R_Peak_Lag_1</th>\n",
       "      <th>R_Peak_Lag_2</th>\n",
       "      <th>R_Peak_Lag_3</th>\n",
       "      <th>R_Peak_Lag_4</th>\n",
       "      <th>R_Peak_Lag_5</th>\n",
       "      <th>RR_1</th>\n",
       "      <th>RR_2</th>\n",
       "      <th>RR_3</th>\n",
       "      <th>RR_4</th>\n",
       "      <th>RR_curr</th>\n",
       "    </tr>\n",
       "  </thead>\n",
       "  <tbody>\n",
       "    <tr>\n",
       "      <th>5</th>\n",
       "      <td>493</td>\n",
       "      <td>N</td>\n",
       "      <td>(AFIB</td>\n",
       "      <td>Normal Beat</td>\n",
       "      <td>Atrial Fibrillation</td>\n",
       "      <td>412.0</td>\n",
       "      <td>314.0</td>\n",
       "      <td>238.0</td>\n",
       "      <td>144.0</td>\n",
       "      <td>55.0</td>\n",
       "      <td>98.0</td>\n",
       "      <td>76.0</td>\n",
       "      <td>94.0</td>\n",
       "      <td>89.0</td>\n",
       "      <td>81.0</td>\n",
       "    </tr>\n",
       "    <tr>\n",
       "      <th>6</th>\n",
       "      <td>562</td>\n",
       "      <td>N</td>\n",
       "      <td>(AFIB</td>\n",
       "      <td>Normal Beat</td>\n",
       "      <td>Atrial Fibrillation</td>\n",
       "      <td>493.0</td>\n",
       "      <td>412.0</td>\n",
       "      <td>314.0</td>\n",
       "      <td>238.0</td>\n",
       "      <td>144.0</td>\n",
       "      <td>81.0</td>\n",
       "      <td>98.0</td>\n",
       "      <td>76.0</td>\n",
       "      <td>94.0</td>\n",
       "      <td>69.0</td>\n",
       "    </tr>\n",
       "    <tr>\n",
       "      <th>7</th>\n",
       "      <td>682</td>\n",
       "      <td>N</td>\n",
       "      <td>(AFIB</td>\n",
       "      <td>Normal Beat</td>\n",
       "      <td>Atrial Fibrillation</td>\n",
       "      <td>562.0</td>\n",
       "      <td>493.0</td>\n",
       "      <td>412.0</td>\n",
       "      <td>314.0</td>\n",
       "      <td>238.0</td>\n",
       "      <td>69.0</td>\n",
       "      <td>81.0</td>\n",
       "      <td>98.0</td>\n",
       "      <td>76.0</td>\n",
       "      <td>120.0</td>\n",
       "    </tr>\n",
       "    <tr>\n",
       "      <th>8</th>\n",
       "      <td>776</td>\n",
       "      <td>N</td>\n",
       "      <td>(AFIB</td>\n",
       "      <td>Normal Beat</td>\n",
       "      <td>Atrial Fibrillation</td>\n",
       "      <td>682.0</td>\n",
       "      <td>562.0</td>\n",
       "      <td>493.0</td>\n",
       "      <td>412.0</td>\n",
       "      <td>314.0</td>\n",
       "      <td>120.0</td>\n",
       "      <td>69.0</td>\n",
       "      <td>81.0</td>\n",
       "      <td>98.0</td>\n",
       "      <td>94.0</td>\n",
       "    </tr>\n",
       "    <tr>\n",
       "      <th>9</th>\n",
       "      <td>866</td>\n",
       "      <td>N</td>\n",
       "      <td>(AFIB</td>\n",
       "      <td>Normal Beat</td>\n",
       "      <td>Atrial Fibrillation</td>\n",
       "      <td>776.0</td>\n",
       "      <td>682.0</td>\n",
       "      <td>562.0</td>\n",
       "      <td>493.0</td>\n",
       "      <td>412.0</td>\n",
       "      <td>94.0</td>\n",
       "      <td>120.0</td>\n",
       "      <td>69.0</td>\n",
       "      <td>81.0</td>\n",
       "      <td>90.0</td>\n",
       "    </tr>\n",
       "  </tbody>\n",
       "</table>\n",
       "</div>"
      ],
      "text/plain": [
       "   R peak Interval Beat Annotation Episode Annotation Relabeled Beat  \\\n",
       "5              493               N              (AFIB    Normal Beat   \n",
       "6              562               N              (AFIB    Normal Beat   \n",
       "7              682               N              (AFIB    Normal Beat   \n",
       "8              776               N              (AFIB    Normal Beat   \n",
       "9              866               N              (AFIB    Normal Beat   \n",
       "\n",
       "     Relabeled Episode  R_Peak_Lag_1  R_Peak_Lag_2  R_Peak_Lag_3  \\\n",
       "5  Atrial Fibrillation         412.0         314.0         238.0   \n",
       "6  Atrial Fibrillation         493.0         412.0         314.0   \n",
       "7  Atrial Fibrillation         562.0         493.0         412.0   \n",
       "8  Atrial Fibrillation         682.0         562.0         493.0   \n",
       "9  Atrial Fibrillation         776.0         682.0         562.0   \n",
       "\n",
       "   R_Peak_Lag_4  R_Peak_Lag_5   RR_1   RR_2  RR_3  RR_4  RR_curr  \n",
       "5         144.0          55.0   98.0   76.0  94.0  89.0     81.0  \n",
       "6         238.0         144.0   81.0   98.0  76.0  94.0     69.0  \n",
       "7         314.0         238.0   69.0   81.0  98.0  76.0    120.0  \n",
       "8         412.0         314.0  120.0   69.0  81.0  98.0     94.0  \n",
       "9         493.0         412.0   94.0  120.0  69.0  81.0     90.0  "
      ]
     },
     "execution_count": 15,
     "metadata": {},
     "output_type": "execute_result"
    }
   ],
   "source": [
    "# Write your code here. Add as many boxes as you need.\n",
    "data.head()"
   ]
  },
  {
   "cell_type": "markdown",
   "metadata": {},
   "source": [
    "## Encode the categorical variables"
   ]
  },
  {
   "cell_type": "code",
   "execution_count": 16,
   "metadata": {},
   "outputs": [],
   "source": [
    "# Write your code here. Add as many boxes as you need.\n",
    "data = pd.get_dummies(data, columns=['Relabeled Beat', 'Relabeled Episode'], drop_first=True)"
   ]
  },
  {
   "cell_type": "markdown",
   "metadata": {},
   "source": [
    "Check that the mapping worked:"
   ]
  },
  {
   "cell_type": "code",
   "execution_count": 17,
   "metadata": {},
   "outputs": [
    {
     "data": {
      "text/html": [
       "<div>\n",
       "<style scoped>\n",
       "    .dataframe tbody tr th:only-of-type {\n",
       "        vertical-align: middle;\n",
       "    }\n",
       "\n",
       "    .dataframe tbody tr th {\n",
       "        vertical-align: top;\n",
       "    }\n",
       "\n",
       "    .dataframe thead th {\n",
       "        text-align: right;\n",
       "    }\n",
       "</style>\n",
       "<table border=\"1\" class=\"dataframe\">\n",
       "  <thead>\n",
       "    <tr style=\"text-align: right;\">\n",
       "      <th></th>\n",
       "      <th>R peak Interval</th>\n",
       "      <th>Beat Annotation</th>\n",
       "      <th>Episode Annotation</th>\n",
       "      <th>R_Peak_Lag_1</th>\n",
       "      <th>R_Peak_Lag_2</th>\n",
       "      <th>R_Peak_Lag_3</th>\n",
       "      <th>R_Peak_Lag_4</th>\n",
       "      <th>R_Peak_Lag_5</th>\n",
       "      <th>RR_1</th>\n",
       "      <th>RR_2</th>\n",
       "      <th>RR_3</th>\n",
       "      <th>RR_4</th>\n",
       "      <th>RR_curr</th>\n",
       "      <th>Relabeled Beat_Other Beats</th>\n",
       "      <th>Relabeled Beat_Ventricular Beat</th>\n",
       "      <th>Relabeled Episode_Normal Episode</th>\n",
       "      <th>Relabeled Episode_Other Episode</th>\n",
       "    </tr>\n",
       "  </thead>\n",
       "  <tbody>\n",
       "    <tr>\n",
       "      <th>5</th>\n",
       "      <td>493</td>\n",
       "      <td>N</td>\n",
       "      <td>(AFIB</td>\n",
       "      <td>412.0</td>\n",
       "      <td>314.0</td>\n",
       "      <td>238.0</td>\n",
       "      <td>144.0</td>\n",
       "      <td>55.0</td>\n",
       "      <td>98.0</td>\n",
       "      <td>76.0</td>\n",
       "      <td>94.0</td>\n",
       "      <td>89.0</td>\n",
       "      <td>81.0</td>\n",
       "      <td>False</td>\n",
       "      <td>False</td>\n",
       "      <td>False</td>\n",
       "      <td>False</td>\n",
       "    </tr>\n",
       "    <tr>\n",
       "      <th>6</th>\n",
       "      <td>562</td>\n",
       "      <td>N</td>\n",
       "      <td>(AFIB</td>\n",
       "      <td>493.0</td>\n",
       "      <td>412.0</td>\n",
       "      <td>314.0</td>\n",
       "      <td>238.0</td>\n",
       "      <td>144.0</td>\n",
       "      <td>81.0</td>\n",
       "      <td>98.0</td>\n",
       "      <td>76.0</td>\n",
       "      <td>94.0</td>\n",
       "      <td>69.0</td>\n",
       "      <td>False</td>\n",
       "      <td>False</td>\n",
       "      <td>False</td>\n",
       "      <td>False</td>\n",
       "    </tr>\n",
       "    <tr>\n",
       "      <th>7</th>\n",
       "      <td>682</td>\n",
       "      <td>N</td>\n",
       "      <td>(AFIB</td>\n",
       "      <td>562.0</td>\n",
       "      <td>493.0</td>\n",
       "      <td>412.0</td>\n",
       "      <td>314.0</td>\n",
       "      <td>238.0</td>\n",
       "      <td>69.0</td>\n",
       "      <td>81.0</td>\n",
       "      <td>98.0</td>\n",
       "      <td>76.0</td>\n",
       "      <td>120.0</td>\n",
       "      <td>False</td>\n",
       "      <td>False</td>\n",
       "      <td>False</td>\n",
       "      <td>False</td>\n",
       "    </tr>\n",
       "    <tr>\n",
       "      <th>8</th>\n",
       "      <td>776</td>\n",
       "      <td>N</td>\n",
       "      <td>(AFIB</td>\n",
       "      <td>682.0</td>\n",
       "      <td>562.0</td>\n",
       "      <td>493.0</td>\n",
       "      <td>412.0</td>\n",
       "      <td>314.0</td>\n",
       "      <td>120.0</td>\n",
       "      <td>69.0</td>\n",
       "      <td>81.0</td>\n",
       "      <td>98.0</td>\n",
       "      <td>94.0</td>\n",
       "      <td>False</td>\n",
       "      <td>False</td>\n",
       "      <td>False</td>\n",
       "      <td>False</td>\n",
       "    </tr>\n",
       "    <tr>\n",
       "      <th>9</th>\n",
       "      <td>866</td>\n",
       "      <td>N</td>\n",
       "      <td>(AFIB</td>\n",
       "      <td>776.0</td>\n",
       "      <td>682.0</td>\n",
       "      <td>562.0</td>\n",
       "      <td>493.0</td>\n",
       "      <td>412.0</td>\n",
       "      <td>94.0</td>\n",
       "      <td>120.0</td>\n",
       "      <td>69.0</td>\n",
       "      <td>81.0</td>\n",
       "      <td>90.0</td>\n",
       "      <td>False</td>\n",
       "      <td>False</td>\n",
       "      <td>False</td>\n",
       "      <td>False</td>\n",
       "    </tr>\n",
       "  </tbody>\n",
       "</table>\n",
       "</div>"
      ],
      "text/plain": [
       "   R peak Interval Beat Annotation Episode Annotation  R_Peak_Lag_1  \\\n",
       "5              493               N              (AFIB         412.0   \n",
       "6              562               N              (AFIB         493.0   \n",
       "7              682               N              (AFIB         562.0   \n",
       "8              776               N              (AFIB         682.0   \n",
       "9              866               N              (AFIB         776.0   \n",
       "\n",
       "   R_Peak_Lag_2  R_Peak_Lag_3  R_Peak_Lag_4  R_Peak_Lag_5   RR_1   RR_2  RR_3  \\\n",
       "5         314.0         238.0         144.0          55.0   98.0   76.0  94.0   \n",
       "6         412.0         314.0         238.0         144.0   81.0   98.0  76.0   \n",
       "7         493.0         412.0         314.0         238.0   69.0   81.0  98.0   \n",
       "8         562.0         493.0         412.0         314.0  120.0   69.0  81.0   \n",
       "9         682.0         562.0         493.0         412.0   94.0  120.0  69.0   \n",
       "\n",
       "   RR_4  RR_curr  Relabeled Beat_Other Beats  Relabeled Beat_Ventricular Beat  \\\n",
       "5  89.0     81.0                       False                            False   \n",
       "6  94.0     69.0                       False                            False   \n",
       "7  76.0    120.0                       False                            False   \n",
       "8  98.0     94.0                       False                            False   \n",
       "9  81.0     90.0                       False                            False   \n",
       "\n",
       "   Relabeled Episode_Normal Episode  Relabeled Episode_Other Episode  \n",
       "5                             False                            False  \n",
       "6                             False                            False  \n",
       "7                             False                            False  \n",
       "8                             False                            False  \n",
       "9                             False                            False  "
      ]
     },
     "execution_count": 17,
     "metadata": {},
     "output_type": "execute_result"
    }
   ],
   "source": [
    "# Write your code here. Add as many boxes as you need.\n",
    "data.head()"
   ]
  },
  {
   "cell_type": "markdown",
   "metadata": {},
   "source": [
    "---\n",
    "# Model Training"
   ]
  },
  {
   "cell_type": "markdown",
   "metadata": {},
   "source": [
    "## Remove unnecessary columns"
   ]
  },
  {
   "cell_type": "markdown",
   "metadata": {},
   "source": [
    "For the purposes of training we will only be using the following columns as features:\n",
    "- Beat Annotation\n",
    "- Episode Annotation\n",
    "- **All historical** 4 RR intervals\n",
    "\n",
    "Moreover, the target column we will be forcasting is the ```current RR``` interval."
   ]
  },
  {
   "cell_type": "code",
   "execution_count": 18,
   "metadata": {},
   "outputs": [
    {
     "name": "stdout",
     "output_type": "stream",
     "text": [
      "<class 'pandas.core.frame.DataFrame'>\n",
      "Index: 1999 entries, 5 to 2003\n",
      "Data columns (total 17 columns):\n",
      " #   Column                            Non-Null Count  Dtype  \n",
      "---  ------                            --------------  -----  \n",
      " 0   R peak Interval                   1999 non-null   int64  \n",
      " 1   Beat Annotation                   1999 non-null   object \n",
      " 2   Episode Annotation                1999 non-null   object \n",
      " 3   R_Peak_Lag_1                      1999 non-null   float64\n",
      " 4   R_Peak_Lag_2                      1999 non-null   float64\n",
      " 5   R_Peak_Lag_3                      1999 non-null   float64\n",
      " 6   R_Peak_Lag_4                      1999 non-null   float64\n",
      " 7   R_Peak_Lag_5                      1999 non-null   float64\n",
      " 8   RR_1                              1999 non-null   float64\n",
      " 9   RR_2                              1999 non-null   float64\n",
      " 10  RR_3                              1999 non-null   float64\n",
      " 11  RR_4                              1999 non-null   float64\n",
      " 12  RR_curr                           1999 non-null   float64\n",
      " 13  Relabeled Beat_Other Beats        1999 non-null   bool   \n",
      " 14  Relabeled Beat_Ventricular Beat   1999 non-null   bool   \n",
      " 15  Relabeled Episode_Normal Episode  1999 non-null   bool   \n",
      " 16  Relabeled Episode_Other Episode   1999 non-null   bool   \n",
      "dtypes: bool(4), float64(10), int64(1), object(2)\n",
      "memory usage: 226.4+ KB\n"
     ]
    }
   ],
   "source": [
    "data.info()"
   ]
  },
  {
   "cell_type": "code",
   "execution_count": 19,
   "metadata": {},
   "outputs": [
    {
     "name": "stdout",
     "output_type": "stream",
     "text": [
      "['RR_1', 'RR_2', 'RR_3', 'RR_4', 'Relabeled Beat_Other Beats', 'Relabeled Beat_Ventricular Beat', 'Relabeled Episode_Normal Episode', 'Relabeled Episode_Other Episode']\n",
      "RR_curr\n"
     ]
    }
   ],
   "source": [
    "# Write your code here. Add as many boxes as you need.\n",
    "columns = data.columns\n",
    "features = [col for col in columns if col.startswith('RR_') or col.startswith('Relabeled')]\n",
    "target = 'RR_curr'\n",
    "if target in features:\n",
    "    features.remove(target)\n",
    "print(features)\n",
    "print(target)"
   ]
  },
  {
   "cell_type": "markdown",
   "metadata": {},
   "source": [
    "## Dataset Splitting\n",
    "Partition the dataset into training and testing sets with an 80:20 ratio.\n",
    "\n",
    "**WARNING: DO NOT SHUFFLE THE DATASET.**"
   ]
  },
  {
   "cell_type": "code",
   "execution_count": 20,
   "metadata": {},
   "outputs": [],
   "source": [
    "# Write your code here. Add as many boxes as you need.\n",
    "X = data[features]\n",
    "y = data[target]\n",
    "\n",
    "X_train, X_test, y_train, y_test = train_test_split(X, y, test_size=0.2, shuffle=False)"
   ]
  },
  {
   "cell_type": "markdown",
   "metadata": {},
   "source": [
    "## Neural Network (RNN / CRNN)\n",
    "\n",
    "Create a deep (convolutional) recurrent neural network using:\n",
    "- Minimum of 1 Convolutional Layer **(+2 points Optional)** and\n",
    "- Minimum of 1 LSTM Layer"
   ]
  },
  {
   "cell_type": "code",
   "execution_count": 21,
   "metadata": {},
   "outputs": [],
   "source": [
    "# Write your code here. Add as many boxes as you need."
   ]
  },
  {
   "cell_type": "markdown",
   "metadata": {},
   "source": [
    "**Reshape Data If Necessary**"
   ]
  },
  {
   "cell_type": "code",
   "execution_count": 22,
   "metadata": {},
   "outputs": [
    {
     "name": "stdout",
     "output_type": "stream",
     "text": [
      "(1599, 8, 1)\n"
     ]
    }
   ],
   "source": [
    "# Write your code here. Add as many boxes as you need.\n",
    "X_train_reshaped = np.expand_dims(X_train.values, axis=-1)\n",
    "X_test_reshaped = np.expand_dims(X_test.values, axis=-1)\n",
    "print(X_train_reshaped.shape)"
   ]
  },
  {
   "cell_type": "markdown",
   "metadata": {},
   "source": [
    "Compile and fit the model (Run only train 3 Epoch)."
   ]
  },
  {
   "cell_type": "code",
   "execution_count": 23,
   "metadata": {},
   "outputs": [
    {
     "name": "stderr",
     "output_type": "stream",
     "text": [
      "C:\\Users\\Beqir\\AppData\\Local\\Programs\\Python\\Python312\\Lib\\site-packages\\keras\\src\\layers\\convolutional\\base_conv.py:107: UserWarning: Do not pass an `input_shape`/`input_dim` argument to a layer. When using Sequential models, prefer using an `Input(shape)` object as the first layer in the model instead.\n",
      "  super().__init__(activity_regularizer=activity_regularizer, **kwargs)\n"
     ]
    },
    {
     "name": "stdout",
     "output_type": "stream",
     "text": [
      "Epoch 1/50\n",
      "\u001b[1m40/40\u001b[0m \u001b[32m━━━━━━━━━━━━━━━━━━━━\u001b[0m\u001b[37m\u001b[0m \u001b[1m4s\u001b[0m 19ms/step - loss: 14078.2520 - mae: 111.0654 - val_loss: 16560.5293 - val_mae: 122.7405\n",
      "Epoch 2/50\n",
      "\u001b[1m40/40\u001b[0m \u001b[32m━━━━━━━━━━━━━━━━━━━━\u001b[0m\u001b[37m\u001b[0m \u001b[1m0s\u001b[0m 8ms/step - loss: 10989.0713 - mae: 96.0929 - val_loss: 11726.3916 - val_mae: 101.1740\n",
      "Epoch 3/50\n",
      "\u001b[1m40/40\u001b[0m \u001b[32m━━━━━━━━━━━━━━━━━━━━\u001b[0m\u001b[37m\u001b[0m \u001b[1m0s\u001b[0m 8ms/step - loss: 7113.8149 - mae: 73.5891 - val_loss: 7562.8491 - val_mae: 79.3940\n",
      "Epoch 4/50\n",
      "\u001b[1m40/40\u001b[0m \u001b[32m━━━━━━━━━━━━━━━━━━━━\u001b[0m\u001b[37m\u001b[0m \u001b[1m0s\u001b[0m 10ms/step - loss: 4390.9478 - mae: 53.6456 - val_loss: 4551.4707 - val_mae: 61.7803\n",
      "Epoch 5/50\n",
      "\u001b[1m40/40\u001b[0m \u001b[32m━━━━━━━━━━━━━━━━━━━━\u001b[0m\u001b[37m\u001b[0m \u001b[1m0s\u001b[0m 8ms/step - loss: 2754.6365 - mae: 40.0838 - val_loss: 2915.7183 - val_mae: 50.0276\n",
      "Epoch 6/50\n",
      "\u001b[1m40/40\u001b[0m \u001b[32m━━━━━━━━━━━━━━━━━━━━\u001b[0m\u001b[37m\u001b[0m \u001b[1m0s\u001b[0m 9ms/step - loss: 2107.3459 - mae: 36.7674 - val_loss: 2222.1504 - val_mae: 42.9465\n",
      "Epoch 7/50\n",
      "\u001b[1m40/40\u001b[0m \u001b[32m━━━━━━━━━━━━━━━━━━━━\u001b[0m\u001b[37m\u001b[0m \u001b[1m0s\u001b[0m 8ms/step - loss: 1596.6797 - mae: 33.6357 - val_loss: 2019.5354 - val_mae: 40.3187\n",
      "Epoch 8/50\n",
      "\u001b[1m40/40\u001b[0m \u001b[32m━━━━━━━━━━━━━━━━━━━━\u001b[0m\u001b[37m\u001b[0m \u001b[1m0s\u001b[0m 8ms/step - loss: 2103.1753 - mae: 36.2895 - val_loss: 1956.8298 - val_mae: 39.4226\n",
      "Epoch 9/50\n",
      "\u001b[1m40/40\u001b[0m \u001b[32m━━━━━━━━━━━━━━━━━━━━\u001b[0m\u001b[37m\u001b[0m \u001b[1m0s\u001b[0m 8ms/step - loss: 1869.1174 - mae: 36.1808 - val_loss: 1929.6674 - val_mae: 39.0219\n",
      "Epoch 10/50\n",
      "\u001b[1m40/40\u001b[0m \u001b[32m━━━━━━━━━━━━━━━━━━━━\u001b[0m\u001b[37m\u001b[0m \u001b[1m0s\u001b[0m 8ms/step - loss: 1684.6372 - mae: 34.9586 - val_loss: 1937.6725 - val_mae: 39.1413\n",
      "Epoch 11/50\n",
      "\u001b[1m40/40\u001b[0m \u001b[32m━━━━━━━━━━━━━━━━━━━━\u001b[0m\u001b[37m\u001b[0m \u001b[1m0s\u001b[0m 11ms/step - loss: 1881.4836 - mae: 36.1372 - val_loss: 1924.3002 - val_mae: 38.9413\n",
      "Epoch 12/50\n",
      "\u001b[1m40/40\u001b[0m \u001b[32m━━━━━━━━━━━━━━━━━━━━\u001b[0m\u001b[37m\u001b[0m \u001b[1m0s\u001b[0m 9ms/step - loss: 1798.8772 - mae: 35.7719 - val_loss: 1916.4860 - val_mae: 38.8230\n",
      "Epoch 13/50\n",
      "\u001b[1m40/40\u001b[0m \u001b[32m━━━━━━━━━━━━━━━━━━━━\u001b[0m\u001b[37m\u001b[0m \u001b[1m1s\u001b[0m 9ms/step - loss: 1759.9811 - mae: 35.2928 - val_loss: 1927.2272 - val_mae: 38.9853\n",
      "Epoch 14/50\n",
      "\u001b[1m40/40\u001b[0m \u001b[32m━━━━━━━━━━━━━━━━━━━━\u001b[0m\u001b[37m\u001b[0m \u001b[1m0s\u001b[0m 9ms/step - loss: 1718.1617 - mae: 34.7931 - val_loss: 1945.6238 - val_mae: 39.2589\n",
      "Epoch 15/50\n",
      "\u001b[1m40/40\u001b[0m \u001b[32m━━━━━━━━━━━━━━━━━━━━\u001b[0m\u001b[37m\u001b[0m \u001b[1m1s\u001b[0m 13ms/step - loss: 1740.0096 - mae: 35.2252 - val_loss: 1933.4017 - val_mae: 39.0982\n",
      "Epoch 16/50\n",
      "\u001b[1m40/40\u001b[0m \u001b[32m━━━━━━━━━━━━━━━━━━━━\u001b[0m\u001b[37m\u001b[0m \u001b[1m0s\u001b[0m 9ms/step - loss: 1775.1854 - mae: 35.1442 - val_loss: 1923.2963 - val_mae: 38.9177\n",
      "Epoch 17/50\n",
      "\u001b[1m40/40\u001b[0m \u001b[32m━━━━━━━━━━━━━━━━━━━━\u001b[0m\u001b[37m\u001b[0m \u001b[1m0s\u001b[0m 10ms/step - loss: 1811.7051 - mae: 35.2467 - val_loss: 1936.2761 - val_mae: 39.1128\n",
      "Epoch 18/50\n",
      "\u001b[1m40/40\u001b[0m \u001b[32m━━━━━━━━━━━━━━━━━━━━\u001b[0m\u001b[37m\u001b[0m \u001b[1m0s\u001b[0m 9ms/step - loss: 1763.6245 - mae: 33.9987 - val_loss: 1801.1198 - val_mae: 36.9271\n",
      "Epoch 19/50\n",
      "\u001b[1m40/40\u001b[0m \u001b[32m━━━━━━━━━━━━━━━━━━━━\u001b[0m\u001b[37m\u001b[0m \u001b[1m0s\u001b[0m 10ms/step - loss: 1311.9514 - mae: 28.5157 - val_loss: 1526.4458 - val_mae: 31.0502\n",
      "Epoch 20/50\n",
      "\u001b[1m40/40\u001b[0m \u001b[32m━━━━━━━━━━━━━━━━━━━━\u001b[0m\u001b[37m\u001b[0m \u001b[1m0s\u001b[0m 9ms/step - loss: 1132.4714 - mae: 25.2521 - val_loss: 1466.3167 - val_mae: 28.3362\n",
      "Epoch 21/50\n",
      "\u001b[1m40/40\u001b[0m \u001b[32m━━━━━━━━━━━━━━━━━━━━\u001b[0m\u001b[37m\u001b[0m \u001b[1m0s\u001b[0m 9ms/step - loss: 1175.4625 - mae: 24.5456 - val_loss: 1397.5453 - val_mae: 28.0608\n",
      "Epoch 22/50\n",
      "\u001b[1m40/40\u001b[0m \u001b[32m━━━━━━━━━━━━━━━━━━━━\u001b[0m\u001b[37m\u001b[0m \u001b[1m0s\u001b[0m 9ms/step - loss: 1031.5972 - mae: 23.1006 - val_loss: 1305.4873 - val_mae: 25.7533\n",
      "Epoch 23/50\n",
      "\u001b[1m40/40\u001b[0m \u001b[32m━━━━━━━━━━━━━━━━━━━━\u001b[0m\u001b[37m\u001b[0m \u001b[1m0s\u001b[0m 8ms/step - loss: 869.0524 - mae: 21.5790 - val_loss: 1112.0696 - val_mae: 23.6221\n",
      "Epoch 24/50\n",
      "\u001b[1m40/40\u001b[0m \u001b[32m━━━━━━━━━━━━━━━━━━━━\u001b[0m\u001b[37m\u001b[0m \u001b[1m0s\u001b[0m 9ms/step - loss: 755.4120 - mae: 19.5913 - val_loss: 946.3058 - val_mae: 21.3455\n",
      "Epoch 25/50\n",
      "\u001b[1m40/40\u001b[0m \u001b[32m━━━━━━━━━━━━━━━━━━━━\u001b[0m\u001b[37m\u001b[0m \u001b[1m0s\u001b[0m 10ms/step - loss: 786.3345 - mae: 19.0043 - val_loss: 854.7028 - val_mae: 19.8149\n",
      "Epoch 26/50\n",
      "\u001b[1m40/40\u001b[0m \u001b[32m━━━━━━━━━━━━━━━━━━━━\u001b[0m\u001b[37m\u001b[0m \u001b[1m0s\u001b[0m 8ms/step - loss: 687.3633 - mae: 17.9939 - val_loss: 823.5009 - val_mae: 19.5437\n",
      "Epoch 27/50\n",
      "\u001b[1m40/40\u001b[0m \u001b[32m━━━━━━━━━━━━━━━━━━━━\u001b[0m\u001b[37m\u001b[0m \u001b[1m0s\u001b[0m 12ms/step - loss: 924.3984 - mae: 18.1962 - val_loss: 677.5218 - val_mae: 18.1880\n",
      "Epoch 28/50\n",
      "\u001b[1m40/40\u001b[0m \u001b[32m━━━━━━━━━━━━━━━━━━━━\u001b[0m\u001b[37m\u001b[0m \u001b[1m0s\u001b[0m 9ms/step - loss: 552.9609 - mae: 16.2256 - val_loss: 615.7980 - val_mae: 17.6690\n",
      "Epoch 29/50\n",
      "\u001b[1m40/40\u001b[0m \u001b[32m━━━━━━━━━━━━━━━━━━━━\u001b[0m\u001b[37m\u001b[0m \u001b[1m0s\u001b[0m 8ms/step - loss: 647.7265 - mae: 16.7029 - val_loss: 591.3102 - val_mae: 17.5395\n",
      "Epoch 30/50\n",
      "\u001b[1m40/40\u001b[0m \u001b[32m━━━━━━━━━━━━━━━━━━━━\u001b[0m\u001b[37m\u001b[0m \u001b[1m0s\u001b[0m 9ms/step - loss: 620.2632 - mae: 17.0279 - val_loss: 531.2738 - val_mae: 16.9245\n",
      "Epoch 31/50\n",
      "\u001b[1m40/40\u001b[0m \u001b[32m━━━━━━━━━━━━━━━━━━━━\u001b[0m\u001b[37m\u001b[0m \u001b[1m0s\u001b[0m 9ms/step - loss: 600.9971 - mae: 16.8333 - val_loss: 503.8855 - val_mae: 16.5365\n",
      "Epoch 32/50\n",
      "\u001b[1m40/40\u001b[0m \u001b[32m━━━━━━━━━━━━━━━━━━━━\u001b[0m\u001b[37m\u001b[0m \u001b[1m0s\u001b[0m 9ms/step - loss: 510.1944 - mae: 15.7224 - val_loss: 507.0949 - val_mae: 17.0066\n",
      "Epoch 33/50\n",
      "\u001b[1m40/40\u001b[0m \u001b[32m━━━━━━━━━━━━━━━━━━━━\u001b[0m\u001b[37m\u001b[0m \u001b[1m0s\u001b[0m 9ms/step - loss: 684.0131 - mae: 17.3099 - val_loss: 447.8843 - val_mae: 15.6369\n",
      "Epoch 34/50\n",
      "\u001b[1m40/40\u001b[0m \u001b[32m━━━━━━━━━━━━━━━━━━━━\u001b[0m\u001b[37m\u001b[0m \u001b[1m0s\u001b[0m 9ms/step - loss: 624.8042 - mae: 16.3373 - val_loss: 461.9927 - val_mae: 16.3216\n",
      "Epoch 35/50\n",
      "\u001b[1m40/40\u001b[0m \u001b[32m━━━━━━━━━━━━━━━━━━━━\u001b[0m\u001b[37m\u001b[0m \u001b[1m0s\u001b[0m 9ms/step - loss: 793.1570 - mae: 17.2601 - val_loss: 421.4750 - val_mae: 15.3286\n",
      "Epoch 36/50\n",
      "\u001b[1m40/40\u001b[0m \u001b[32m━━━━━━━━━━━━━━━━━━━━\u001b[0m\u001b[37m\u001b[0m \u001b[1m0s\u001b[0m 8ms/step - loss: 742.6955 - mae: 16.3108 - val_loss: 401.5309 - val_mae: 14.7177\n",
      "Epoch 37/50\n",
      "\u001b[1m40/40\u001b[0m \u001b[32m━━━━━━━━━━━━━━━━━━━━\u001b[0m\u001b[37m\u001b[0m \u001b[1m0s\u001b[0m 9ms/step - loss: 796.5649 - mae: 16.9898 - val_loss: 398.7665 - val_mae: 14.7909\n",
      "Epoch 38/50\n",
      "\u001b[1m40/40\u001b[0m \u001b[32m━━━━━━━━━━━━━━━━━━━━\u001b[0m\u001b[37m\u001b[0m \u001b[1m0s\u001b[0m 8ms/step - loss: 722.7070 - mae: 16.7400 - val_loss: 390.9625 - val_mae: 14.7158\n",
      "Epoch 39/50\n",
      "\u001b[1m40/40\u001b[0m \u001b[32m━━━━━━━━━━━━━━━━━━━━\u001b[0m\u001b[37m\u001b[0m \u001b[1m0s\u001b[0m 9ms/step - loss: 555.5027 - mae: 15.9616 - val_loss: 381.8225 - val_mae: 14.5139\n",
      "Epoch 40/50\n",
      "\u001b[1m40/40\u001b[0m \u001b[32m━━━━━━━━━━━━━━━━━━━━\u001b[0m\u001b[37m\u001b[0m \u001b[1m0s\u001b[0m 11ms/step - loss: 583.8392 - mae: 16.0515 - val_loss: 377.5035 - val_mae: 14.5291\n",
      "Epoch 41/50\n",
      "\u001b[1m40/40\u001b[0m \u001b[32m━━━━━━━━━━━━━━━━━━━━\u001b[0m\u001b[37m\u001b[0m \u001b[1m0s\u001b[0m 9ms/step - loss: 677.8464 - mae: 16.1302 - val_loss: 367.8868 - val_mae: 14.1935\n",
      "Epoch 42/50\n",
      "\u001b[1m40/40\u001b[0m \u001b[32m━━━━━━━━━━━━━━━━━━━━\u001b[0m\u001b[37m\u001b[0m \u001b[1m0s\u001b[0m 8ms/step - loss: 656.1581 - mae: 17.2096 - val_loss: 361.6218 - val_mae: 14.0217\n",
      "Epoch 43/50\n",
      "\u001b[1m40/40\u001b[0m \u001b[32m━━━━━━━━━━━━━━━━━━━━\u001b[0m\u001b[37m\u001b[0m \u001b[1m0s\u001b[0m 8ms/step - loss: 524.9319 - mae: 15.5005 - val_loss: 362.7980 - val_mae: 14.1291\n",
      "Epoch 44/50\n",
      "\u001b[1m40/40\u001b[0m \u001b[32m━━━━━━━━━━━━━━━━━━━━\u001b[0m\u001b[37m\u001b[0m \u001b[1m0s\u001b[0m 8ms/step - loss: 577.0749 - mae: 16.1165 - val_loss: 352.9753 - val_mae: 13.7695\n",
      "Epoch 45/50\n",
      "\u001b[1m40/40\u001b[0m \u001b[32m━━━━━━━━━━━━━━━━━━━━\u001b[0m\u001b[37m\u001b[0m \u001b[1m0s\u001b[0m 9ms/step - loss: 607.7918 - mae: 15.9731 - val_loss: 347.6259 - val_mae: 13.5589\n",
      "Epoch 46/50\n",
      "\u001b[1m40/40\u001b[0m \u001b[32m━━━━━━━━━━━━━━━━━━━━\u001b[0m\u001b[37m\u001b[0m \u001b[1m0s\u001b[0m 9ms/step - loss: 522.2802 - mae: 15.7838 - val_loss: 344.7769 - val_mae: 13.5487\n",
      "Epoch 47/50\n",
      "\u001b[1m40/40\u001b[0m \u001b[32m━━━━━━━━━━━━━━━━━━━━\u001b[0m\u001b[37m\u001b[0m \u001b[1m0s\u001b[0m 8ms/step - loss: 679.1414 - mae: 17.2221 - val_loss: 382.9724 - val_mae: 14.8511\n",
      "Epoch 48/50\n",
      "\u001b[1m40/40\u001b[0m \u001b[32m━━━━━━━━━━━━━━━━━━━━\u001b[0m\u001b[37m\u001b[0m \u001b[1m0s\u001b[0m 9ms/step - loss: 619.2878 - mae: 16.3682 - val_loss: 347.1382 - val_mae: 13.3570\n",
      "Epoch 49/50\n",
      "\u001b[1m40/40\u001b[0m \u001b[32m━━━━━━━━━━━━━━━━━━━━\u001b[0m\u001b[37m\u001b[0m \u001b[1m0s\u001b[0m 9ms/step - loss: 729.6048 - mae: 16.8318 - val_loss: 340.6418 - val_mae: 13.2405\n",
      "Epoch 50/50\n",
      "\u001b[1m40/40\u001b[0m \u001b[32m━━━━━━━━━━━━━━━━━━━━\u001b[0m\u001b[37m\u001b[0m \u001b[1m1s\u001b[0m 12ms/step - loss: 655.9458 - mae: 16.1659 - val_loss: 336.3091 - val_mae: 13.4450\n"
     ]
    },
    {
     "data": {
      "text/plain": [
       "<keras.src.callbacks.history.History at 0x38430f20>"
      ]
     },
     "execution_count": 23,
     "metadata": {},
     "output_type": "execute_result"
    }
   ],
   "source": [
    "# Write your code here. Add as many boxes as you need.\n",
    "model = Sequential([\n",
    "    Conv1D(filters=32, kernel_size=3, activation='relu', input_shape=(X_train.shape[1], 1)),\n",
    "    LSTM(64, return_sequences=False),\n",
    "    Dense(32, activation='relu'),\n",
    "    Dense(1)\n",
    "])\n",
    "\n",
    "model.compile(optimizer='adam', loss='mean_squared_error', metrics=['mae'])\n",
    "model.fit(X_train, y_train, epochs=50, batch_size=32, validation_split=0.2)\n"
   ]
  },
  {
   "cell_type": "markdown",
   "metadata": {},
   "source": [
    "---\n",
    "# Model Evaluation"
   ]
  },
  {
   "cell_type": "markdown",
   "metadata": {},
   "source": [
    "Use the trained model to make predictions for the test set."
   ]
  },
  {
   "cell_type": "code",
   "execution_count": 24,
   "metadata": {},
   "outputs": [
    {
     "name": "stdout",
     "output_type": "stream",
     "text": [
      "\u001b[1m13/13\u001b[0m \u001b[32m━━━━━━━━━━━━━━━━━━━━\u001b[0m\u001b[37m\u001b[0m \u001b[1m1s\u001b[0m 25ms/step\n"
     ]
    }
   ],
   "source": [
    "# Write your code here. Add as many boxes as you need.\n",
    "y_pred = model.predict(X_test)"
   ]
  },
  {
   "cell_type": "markdown",
   "metadata": {},
   "source": [
    "Assess the performance of the model by using different metrics provided by the `scikit-learn` library."
   ]
  },
  {
   "cell_type": "code",
   "execution_count": 25,
   "metadata": {},
   "outputs": [
    {
     "name": "stdout",
     "output_type": "stream",
     "text": [
      "MAE: 20.010756187438965\n",
      "MSE: 969.9538429792635\n",
      "R^2 Score: 0.5322458322795212\n"
     ]
    }
   ],
   "source": [
    "# Write your code here. Add as many boxes as you need.\n",
    "mae = mean_absolute_error(y_test, y_pred)\n",
    "mse = mean_squared_error(y_test, y_pred)\n",
    "r2 = r2_score(y_test, y_pred)\n",
    "\n",
    "print(f\"MAE: {mae}\")\n",
    "print(f\"MSE: {mse}\")\n",
    "print(f\"R^2 Score: {r2}\")"
   ]
  }
 ],
 "metadata": {
  "kernelspec": {
   "display_name": "Python 3 (ipykernel)",
   "language": "python",
   "name": "python3"
  },
  "language_info": {
   "codemirror_mode": {
    "name": "ipython",
    "version": 3
   },
   "file_extension": ".py",
   "mimetype": "text/x-python",
   "name": "python",
   "nbconvert_exporter": "python",
   "pygments_lexer": "ipython3",
   "version": "3.12.0"
  }
 },
 "nbformat": 4,
 "nbformat_minor": 4
}
