{
  "cells": [
    {
      "cell_type": "markdown",
      "metadata": {
        "id": "skreU4ZawqQ_"
      },
      "source": [
        "# Lab Exercise 1. Scraping Static Websites\n"
      ]
    },
    {
      "cell_type": "code",
      "source": [
        "from google.colab import drive\n",
        "drive.mount('/content/drive')"
      ],
      "metadata": {
        "id": "iigGutG6jcqh",
        "outputId": "065e4900-3723-46cf-f874-3d1afcd27b8e",
        "colab": {
          "base_uri": "https://localhost:8080/"
        }
      },
      "execution_count": 1,
      "outputs": [
        {
          "output_type": "stream",
          "name": "stdout",
          "text": [
            "Mounted at /content/drive\n"
          ]
        }
      ]
    },
    {
      "cell_type": "markdown",
      "metadata": {
        "id": "VzAWoqz5wwT9"
      },
      "source": [
        "This is the warmup task for the first laboratory exercise. It consists of scraping static Websites with BeautifulSoap.\n",
        "\n",
        " It should be completed at home and presented at the laboratory."
      ]
    },
    {
      "cell_type": "markdown",
      "metadata": {
        "id": "qpdvbrsow5EE"
      },
      "source": [
        "**Total points: 2**"
      ]
    },
    {
      "cell_type": "markdown",
      "metadata": {
        "id": "6eDmGLrXx0t8"
      },
      "source": [
        "### Task Description"
      ]
    },
    {
      "cell_type": "markdown",
      "metadata": {
        "id": "RG42MHsDxAP_"
      },
      "source": [
        "Scrape the information about the products on the following page:\n",
        "https://clevershop.mk/product-category/mobilni-laptopi-i-tableti/"
      ]
    },
    {
      "cell_type": "markdown",
      "metadata": {
        "id": "uoTcMRl4xP3G"
      },
      "source": [
        "For each product scrape:\n",
        "\n",
        "\n",
        "*   Product title (selector `'.wd-entities-title'`)\n",
        "*   Product regular price (selector `'.woocommerce-Price-amount'`)\n",
        "*   Product discount price (if available), same selector as regular price\n",
        "*   URL to the product page\n",
        "*   Add to cart button URL\n",
        "\n",
        "***Help: There are multiple product pages, for each page you need to send a separate request***\n"
      ]
    },
    {
      "cell_type": "markdown",
      "metadata": {
        "id": "tc0QvUR8xxwt"
      },
      "source": [
        "Save the results as a DataFrame object"
      ]
    },
    {
      "cell_type": "markdown",
      "metadata": {
        "id": "peGjiUZLzbZt"
      },
      "source": [
        "You can add as many code cells as you need."
      ]
    },
    {
      "cell_type": "markdown",
      "metadata": {
        "id": "b7U-kwKSzUIV"
      },
      "source": [
        "________________________________________________________________"
      ]
    },
    {
      "cell_type": "markdown",
      "metadata": {
        "id": "yn5gyMzNx5Vk"
      },
      "source": [
        "### Requirements"
      ]
    },
    {
      "cell_type": "markdown",
      "metadata": {
        "id": "WZ3ifNLhx7tk"
      },
      "source": [
        "Import libraries and modules that you are going to use"
      ]
    },
    {
      "cell_type": "code",
      "execution_count": 2,
      "metadata": {
        "id": "GQ3zSO8WyJC_"
      },
      "outputs": [],
      "source": [
        "import requests\n",
        "from bs4 import BeautifulSoup\n",
        "import pandas as pd\n",
        "import time"
      ]
    },
    {
      "cell_type": "markdown",
      "metadata": {
        "id": "fsR71mugyJP7"
      },
      "source": [
        "### Send HTTP request to the target Website"
      ]
    },
    {
      "cell_type": "code",
      "execution_count": 3,
      "metadata": {
        "id": "61ImGen2yQff"
      },
      "outputs": [],
      "source": [
        "url = \"https://clevershop.mk/product-category/mobilni-laptopi-i-tableti/\"\n",
        "response = requests.get(url)"
      ]
    },
    {
      "cell_type": "markdown",
      "metadata": {
        "id": "lFnRsSVJyXit"
      },
      "source": [
        "check the response status code"
      ]
    },
    {
      "cell_type": "code",
      "execution_count": 4,
      "metadata": {
        "id": "xy6xJ3RGyXUN",
        "outputId": "5f9c2360-bde2-4e32-c4aa-35804f59edf5",
        "colab": {
          "base_uri": "https://localhost:8080/"
        }
      },
      "outputs": [
        {
          "output_type": "stream",
          "name": "stdout",
          "text": [
            "It is working\n"
          ]
        }
      ],
      "source": [
        "if response.status_code == 200:\n",
        "    print(\"It is working\")\n",
        "else:\n",
        "    print(\"Not working try again code:\",response.status_code)"
      ]
    },
    {
      "cell_type": "markdown",
      "metadata": {
        "id": "-MykzAV4yQ4j"
      },
      "source": [
        "### Parse the response content with BeautifulSoap"
      ]
    },
    {
      "cell_type": "code",
      "execution_count": 5,
      "metadata": {
        "id": "F92A3wvlyUBc"
      },
      "outputs": [],
      "source": [
        "soup = BeautifulSoup(response.content, 'html.parser')"
      ]
    },
    {
      "cell_type": "markdown",
      "metadata": {
        "id": "F8hifMvVycfV"
      },
      "source": [
        "### Extract data from the BeautifulSoap object using any selectors, attribute identifiers, etc."
      ]
    },
    {
      "cell_type": "markdown",
      "metadata": {
        "id": "sHgfHr61y2tD"
      },
      "source": [
        "* Product title (selector '.wd-entities-title')\n",
        "* Product regular price (selector '.woocommerce-Price-amount')\n",
        "* Product discount price (if available), same selector as regular price\n",
        "* URL to the product page\n",
        "* Add to cart button URL"
      ]
    },
    {
      "cell_type": "code",
      "execution_count": 6,
      "metadata": {
        "id": "UV1kZCRyycQF"
      },
      "outputs": [],
      "source": [
        "titles = []\n",
        "regular_prices = []\n",
        "discount_prices = []\n",
        "product_urls = []\n",
        "add_to_cart_urls = []"
      ]
    },
    {
      "cell_type": "markdown",
      "metadata": {
        "id": "gToy7d5Jy9Qk"
      },
      "source": [
        "Repeat the extraction process for each page of products"
      ]
    },
    {
      "cell_type": "code",
      "execution_count": 7,
      "metadata": {
        "id": "rVdYuEv3zArs"
      },
      "outputs": [],
      "source": [
        "products = soup.select(' .site-content')\n",
        "\n",
        "for product in products:\n",
        "    title = product.select_one(' .wd-entities-title')\n",
        "    titles.append(title)\n",
        "\n",
        "    price_elements = product.select(' .woocommerce-Price-amount')\n",
        "    regular_price = price_elements[0].text.strip() if price_elements else None\n",
        "    discount_price = price_elements[1].text.strip() if len(price_elements) > 1 else None\n",
        "    regular_prices.append(regular_price)\n",
        "    discount_prices.append(discount_price)\n",
        "\n",
        "    product_url = product.select_one('.wd-entities-title a')['href']\n",
        "    product_urls.append(product_url)\n",
        "\n",
        "    add_to_cart_button = product.select_one('.add_to_cart_button')\n",
        "    add_to_cart_url = add_to_cart_button['href'] if add_to_cart_button else None\n",
        "    add_to_cart_urls.append(add_to_cart_url)\n",
        ""
      ]
    },
    {
      "cell_type": "code",
      "execution_count": 8,
      "metadata": {
        "id": "79WOfWpojaBV",
        "outputId": "5c5c5fe3-866e-4f9a-f0d6-426b468310c2",
        "colab": {
          "base_uri": "https://localhost:8080/"
        }
      },
      "outputs": [
        {
          "output_type": "stream",
          "name": "stdout",
          "text": [
            "Title: <h3 class=\"wd-entities-title\"><a href=\"https://clevershop.mk/product/acer-a315-23-a7kd/\">Acer A315-23-A7KD</a></h3>\n",
            "Regular Price: 17.590 ден\n",
            "Discount Price: 27.490 ден\n",
            "Product URL: https://clevershop.mk/product/acer-a315-23-a7kd/\n",
            "Add to Cart URL: ?add-to-cart=21494\n"
          ]
        }
      ],
      "source": [
        " print(\"Title:\", title)\n",
        " print(\"Regular Price:\", regular_price)\n",
        " print(\"Discount Price:\", discount_price)\n",
        " print(\"Product URL:\", product_url)\n",
        " print(\"Add to Cart URL:\", add_to_cart_url)"
      ]
    },
    {
      "cell_type": "code",
      "execution_count": null,
      "metadata": {
        "id": "Fdc-uq98jaBV",
        "outputId": "4f329d2a-5735-4c76-ef78-3211b3d5665f"
      },
      "outputs": [
        {
          "name": "stdout",
          "output_type": "stream",
          "text": [
            "No more pages found.\n"
          ]
        }
      ],
      "source": [
        "page_number = 1\n",
        "while True:\n",
        "    page_url = f\"https://clevershop.mk/product-category/mobilni-laptopi-i-tableti/page/{page_number}/\"\n",
        "    response = requests.get(page_url)\n",
        "\n",
        "    if response.status_code != 200:\n",
        "        print(\"No more pages found.\")\n",
        "        break\n",
        "\n",
        "    soup = BeautifulSoup(response.content, 'html.parser')\n",
        "\n",
        "    products = soup.select('.site-content')\n",
        "    for product in products:\n",
        "        title = product.select_one('.wd-entities-title').text.strip()\n",
        "        titles.append(title)\n",
        "\n",
        "        price_elements = product.select('.woocommerce-Price-amount')\n",
        "        if price_elements:\n",
        "            regular_price = price_elements[0].text.strip()\n",
        "            regular_prices.append(regular_price)\n",
        "            discount_price = price_elements[1].text.strip() if len(price_elements) > 1 else None\n",
        "            discount_prices.append(discount_price)\n",
        "        else:\n",
        "            regular_prices.append(None)\n",
        "            discount_prices.append(None)\n",
        "\n",
        "        product_url = product.select_one('.wd-entities-title a')['href']\n",
        "        product_urls.append(product_url)\n",
        "\n",
        "        add_to_cart_button = product.select_one('.add_to_cart_button')\n",
        "        add_to_cart_url = add_to_cart_button['href'] if add_to_cart_button else None\n",
        "        add_to_cart_urls.append(add_to_cart_url)\n",
        "\n",
        "    page_number += 1\n",
        "    time.sleep(2)\n"
      ]
    },
    {
      "cell_type": "code",
      "execution_count": null,
      "metadata": {
        "id": "Q8z-WTz-jaBW",
        "outputId": "0b723b63-375c-4bbe-d8ef-3750c23f9126"
      },
      "outputs": [
        {
          "name": "stdout",
          "output_type": "stream",
          "text": [
            "Ttiles: 30\n",
            "Regular Prices: 29\n",
            "Discount Price: 29\n",
            "Product URL: 29\n",
            "Add to Cart URL: 29\n"
          ]
        }
      ],
      "source": [
        " print(\"Ttiles:\",len(titles))\n",
        " print(\"Regular Prices:\", len(regular_prices))\n",
        " print(\"Discount Price:\", len(discount_prices))\n",
        " print(\"Product URL:\", len(product_urls))\n",
        " print(\"Add to Cart URL:\", len(add_to_cart_urls))"
      ]
    },
    {
      "cell_type": "markdown",
      "metadata": {
        "id": "R4OIUt0AynuU"
      },
      "source": [
        "### Create a pandas DataFrame with the scraped products"
      ]
    },
    {
      "cell_type": "code",
      "execution_count": null,
      "metadata": {
        "id": "1v3ZpzsKjaBW",
        "outputId": "2a1da3f6-b223-41d7-b52f-fb0f9a741dd0"
      },
      "outputs": [
        {
          "name": "stdout",
          "output_type": "stream",
          "text": [
            "Missing data for Title: 'MON 27 LG 27GN850-B QHD IPS 1MS 144HZ HDMI' | Regular Price: None | Product URL: None\n",
            "\n",
            "Titles with Missing Data:\n",
            "MON 27 LG 27GN850-B QHD IPS 1MS 144HZ HDMI\n"
          ]
        }
      ],
      "source": [
        "\n",
        "missing_data_titles= []\n",
        "for i in range(len(titles)):\n",
        "    try:\n",
        "        regular_price = regular_prices[i]\n",
        "    except IndexError:\n",
        "        regular_price = None\n",
        "\n",
        "    try:\n",
        "        product_url = product_urls[i]\n",
        "    except IndexError:\n",
        "        product_url = None\n",
        "\n",
        "    if regular_price is None or product_url is None:\n",
        "        missing_data_titles.append(titles[i])\n",
        "        print(f\"Missing data for Title: '{titles[i]}' | Regular Price: {regular_price} | Product URL: {product_url}\")\n",
        "\n",
        "if missing_data_titles:\n",
        "    print(\"\\nTitles with Missing Data:\")\n",
        "    for title in missing_data_titles:\n",
        "        print(title)\n",
        "else:\n",
        "    print(\"No missing data found for any titles.\")"
      ]
    },
    {
      "cell_type": "code",
      "execution_count": null,
      "metadata": {
        "id": "-wCzGEj8yrKU",
        "outputId": "2f7331dd-7fac-4448-d5d1-52b1c3767065"
      },
      "outputs": [
        {
          "name": "stdout",
          "output_type": "stream",
          "text": [
            "                   Product Title Regular Price Discount Price  \\\n",
            "0          [[Acer A315-23-A7KD]]    17.590 ден     27.490 ден   \n",
            "1          [[Acer A315-23-A7KD]]    17.590 ден     27.490 ден   \n",
            "2              Acer A315-23-A7KD    66.990 ден     73.990 ден   \n",
            "3   Acer Nitro 5 Gaming AN515-45    49.990 ден     39.990 ден   \n",
            "4  Apple iPhone 12 128GB 4GB RAM    16.590 ден     20.490 ден   \n",
            "\n",
            "                                         Product URL     Add to Cart URL  \n",
            "0   https://clevershop.mk/product/acer-a315-23-a7kd/  ?add-to-cart=21494  \n",
            "1   https://clevershop.mk/product/acer-a315-23-a7kd/  ?add-to-cart=21494  \n",
            "2  https://clevershop.mk/product/acer-nitro-5-gam...  ?add-to-cart=21410  \n",
            "3  https://clevershop.mk/product/apple-iphone-12-...  ?add-to-cart=20023  \n",
            "4  https://clevershop.mk/product/dell-238-p2421d-...  ?add-to-cart=17338  \n"
          ]
        }
      ],
      "source": [
        "valid_titles = []\n",
        "valid_regular_prices = []\n",
        "valid_discount_prices = []\n",
        "valid_product_urls = []\n",
        "valid_add_to_cart_urls = []\n",
        "\n",
        "for i in range(len(titles)):\n",
        "    if (i < len(regular_prices) and regular_prices[i] is not None) and \\\n",
        "       (i < len(product_urls) and product_urls[i] is not None):\n",
        "\n",
        "        valid_titles.append(titles[i])\n",
        "        valid_regular_prices.append(regular_prices[i])\n",
        "        valid_discount_prices.append(discount_prices[i] if i < len(discount_prices) else None)\n",
        "        valid_product_urls.append(product_urls[i])\n",
        "        valid_add_to_cart_urls.append(add_to_cart_urls[i] if i < len(add_to_cart_urls) else None)\n",
        "\n",
        "\n",
        "data = {\n",
        "    \"Product Title\": valid_titles,\n",
        "    \"Regular Price\": valid_regular_prices,\n",
        "    \"Discount Price\": valid_discount_prices,\n",
        "    \"Product URL\" : valid_product_urls,\n",
        "    \"Add to Cart URL\": valid_add_to_cart_urls\n",
        "}\n",
        "\n",
        "df = pd.DataFrame(data)\n",
        "print(df.head())"
      ]
    },
    {
      "cell_type": "markdown",
      "metadata": {
        "id": "Rxbi54EOyrb8"
      },
      "source": [
        "Save the dataframe as `.csv`"
      ]
    },
    {
      "cell_type": "code",
      "execution_count": null,
      "metadata": {
        "id": "TLNfZQ07yuQE",
        "outputId": "c9e5a863-3b89-482e-e591-f21e692a2227"
      },
      "outputs": [
        {
          "name": "stdout",
          "output_type": "stream",
          "text": [
            "It is DONE FINALLY\n"
          ]
        }
      ],
      "source": [
        "df.to_csv(\"clevershop.csv\", index=False)\n",
        "print(\"It is DONE FINALLY\")"
      ]
    },
    {
      "cell_type": "code",
      "execution_count": null,
      "metadata": {
        "id": "yCu_GF0mjaBX"
      },
      "outputs": [],
      "source": []
    }
  ],
  "metadata": {
    "colab": {
      "provenance": []
    },
    "kernelspec": {
      "display_name": "Python 3 (ipykernel)",
      "language": "python",
      "name": "python3"
    },
    "language_info": {
      "codemirror_mode": {
        "name": "ipython",
        "version": 3
      },
      "file_extension": ".py",
      "mimetype": "text/x-python",
      "name": "python",
      "nbconvert_exporter": "python",
      "pygments_lexer": "ipython3",
      "version": "3.12.4"
    }
  },
  "nbformat": 4,
  "nbformat_minor": 0
}