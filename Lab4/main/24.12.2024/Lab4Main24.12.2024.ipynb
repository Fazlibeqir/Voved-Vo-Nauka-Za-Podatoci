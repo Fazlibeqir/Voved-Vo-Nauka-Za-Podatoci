{
 "cells": [
  {
   "cell_type": "markdown",
   "metadata": {
    "id": "rODb9vHvIEbp"
   },
   "source": [
    "# Requirements"
   ]
  },
  {
   "cell_type": "code",
   "execution_count": 1,
   "metadata": {
    "id": "U4KmHBd2cdx9"
   },
   "outputs": [],
   "source": [
    "# Add as many imports as you need.\n",
    "import pandas as pd\n",
    "from transformers import pipeline"
   ]
  },
  {
   "cell_type": "markdown",
   "metadata": {
    "id": "KNMMoUiUIW3L"
   },
   "source": [
    "# Laboratory Exercise - Run Mode (8 points)"
   ]
  },
  {
   "cell_type": "markdown",
   "metadata": {
    "id": "_rAh_91OIjeS"
   },
   "source": [
    "## Introduction\n",
    "In this laboratory assignment, the primary objective is to use Long Short-Term Memory (LSTM) networks for time series forecasting in order to predict the current **close price** of the Dow Jones Industrial Average index. To accomplish this use data from the past 7 days, which includes numeric information and news information. The goal is to employ LSTM, a type of recurrent neural network, to effectively forecast one future step for the index price (the following day).\n"
   ]
  },
  {
   "cell_type": "markdown",
   "metadata": {
    "id": "zBYI-EypaWom"
   },
   "source": [
    "## The DIJA Dataset\n",
    "\n",
    "This dataset consists of daily price records for the value of the Dow Jones Industrial Average index. The dataset includes the following attributes:\n",
    "\n",
    "- Date - date in the format YYYY-MM-DD,\n",
    "- Open - open price of the index on the specified date\n",
    "- Close - close price of the index on the specified date\n",
    "- High - high price of the index on the specified date\n",
    "- Low - low price of the index on the specified date\n",
    "- Volume - number of trades\n",
    "\n"
   ]
  },
  {
   "cell_type": "markdown",
   "metadata": {},
   "source": [
    "## The Reddit News Dataset"
   ]
  },
  {
   "cell_type": "markdown",
   "metadata": {},
   "source": [
    "This dataset consists of news headlines for a certain date that might impact the price:\n",
    "\n",
    "- Date - date in the format YYYY-MM-DD,\n",
    "- News - news headline scraped from Reddit\n",
    "\n",
    "<b>Note: You might have multiple headlines for each date. The number of news per date might not be the same for each date. <b>"
   ]
  },
  {
   "cell_type": "markdown",
   "metadata": {
    "id": "DCm1qm1mZwMr"
   },
   "source": [
    "Load the datasets into a `pandas` data frame."
   ]
  },
  {
   "cell_type": "code",
   "execution_count": 2,
   "metadata": {
    "id": "KMOn4fgcZn8s"
   },
   "outputs": [],
   "source": [
    "# Write your code here. Add as many boxes as you need.\n",
    "dtable_data = pd.read_csv('DJIA_table.csv')"
   ]
  },
  {
   "cell_type": "code",
   "execution_count": 3,
   "metadata": {},
   "outputs": [],
   "source": [
    "dtable_data['Date'] = pd.to_datetime(dtable_data['Date'])"
   ]
  },
  {
   "cell_type": "code",
   "execution_count": 4,
   "metadata": {},
   "outputs": [],
   "source": [
    "news_data = pd.read_csv('RedditNews.csv')"
   ]
  },
  {
   "cell_type": "code",
   "execution_count": 5,
   "metadata": {},
   "outputs": [],
   "source": [
    "news_data['Date'] = pd.to_datetime(news_data['Date'])"
   ]
  },
  {
   "cell_type": "code",
   "execution_count": 6,
   "metadata": {},
   "outputs": [
    {
     "data": {
      "text/html": [
       "<div>\n",
       "<style scoped>\n",
       "    .dataframe tbody tr th:only-of-type {\n",
       "        vertical-align: middle;\n",
       "    }\n",
       "\n",
       "    .dataframe tbody tr th {\n",
       "        vertical-align: top;\n",
       "    }\n",
       "\n",
       "    .dataframe thead th {\n",
       "        text-align: right;\n",
       "    }\n",
       "</style>\n",
       "<table border=\"1\" class=\"dataframe\">\n",
       "  <thead>\n",
       "    <tr style=\"text-align: right;\">\n",
       "      <th></th>\n",
       "      <th>Date</th>\n",
       "      <th>Open</th>\n",
       "      <th>High</th>\n",
       "      <th>Low</th>\n",
       "      <th>Close</th>\n",
       "      <th>Volume</th>\n",
       "    </tr>\n",
       "  </thead>\n",
       "  <tbody>\n",
       "    <tr>\n",
       "      <th>0</th>\n",
       "      <td>2016-07-01</td>\n",
       "      <td>17924.24023</td>\n",
       "      <td>18002.38086</td>\n",
       "      <td>17916.91016</td>\n",
       "      <td>17949.36914</td>\n",
       "      <td>82160000</td>\n",
       "    </tr>\n",
       "    <tr>\n",
       "      <th>1</th>\n",
       "      <td>2016-06-30</td>\n",
       "      <td>17712.75977</td>\n",
       "      <td>17930.60938</td>\n",
       "      <td>17711.80078</td>\n",
       "      <td>17929.99023</td>\n",
       "      <td>133030000</td>\n",
       "    </tr>\n",
       "    <tr>\n",
       "      <th>2</th>\n",
       "      <td>2016-06-29</td>\n",
       "      <td>17456.01953</td>\n",
       "      <td>17704.50977</td>\n",
       "      <td>17456.01953</td>\n",
       "      <td>17694.67969</td>\n",
       "      <td>106380000</td>\n",
       "    </tr>\n",
       "    <tr>\n",
       "      <th>3</th>\n",
       "      <td>2016-06-28</td>\n",
       "      <td>17190.50977</td>\n",
       "      <td>17409.72070</td>\n",
       "      <td>17190.50977</td>\n",
       "      <td>17409.72070</td>\n",
       "      <td>112190000</td>\n",
       "    </tr>\n",
       "    <tr>\n",
       "      <th>4</th>\n",
       "      <td>2016-06-27</td>\n",
       "      <td>17355.21094</td>\n",
       "      <td>17355.21094</td>\n",
       "      <td>17063.08008</td>\n",
       "      <td>17140.24023</td>\n",
       "      <td>138740000</td>\n",
       "    </tr>\n",
       "  </tbody>\n",
       "</table>\n",
       "</div>"
      ],
      "text/plain": [
       "        Date         Open         High          Low        Close     Volume\n",
       "0 2016-07-01  17924.24023  18002.38086  17916.91016  17949.36914   82160000\n",
       "1 2016-06-30  17712.75977  17930.60938  17711.80078  17929.99023  133030000\n",
       "2 2016-06-29  17456.01953  17704.50977  17456.01953  17694.67969  106380000\n",
       "3 2016-06-28  17190.50977  17409.72070  17190.50977  17409.72070  112190000\n",
       "4 2016-06-27  17355.21094  17355.21094  17063.08008  17140.24023  138740000"
      ]
     },
     "execution_count": 6,
     "metadata": {},
     "output_type": "execute_result"
    }
   ],
   "source": [
    "dtable_data.head()"
   ]
  },
  {
   "cell_type": "code",
   "execution_count": 7,
   "metadata": {},
   "outputs": [
    {
     "data": {
      "text/html": [
       "<div>\n",
       "<style scoped>\n",
       "    .dataframe tbody tr th:only-of-type {\n",
       "        vertical-align: middle;\n",
       "    }\n",
       "\n",
       "    .dataframe tbody tr th {\n",
       "        vertical-align: top;\n",
       "    }\n",
       "\n",
       "    .dataframe thead th {\n",
       "        text-align: right;\n",
       "    }\n",
       "</style>\n",
       "<table border=\"1\" class=\"dataframe\">\n",
       "  <thead>\n",
       "    <tr style=\"text-align: right;\">\n",
       "      <th></th>\n",
       "      <th>Date</th>\n",
       "      <th>News</th>\n",
       "    </tr>\n",
       "  </thead>\n",
       "  <tbody>\n",
       "    <tr>\n",
       "      <th>0</th>\n",
       "      <td>2016-07-01</td>\n",
       "      <td>A 117-year-old woman in Mexico City finally re...</td>\n",
       "    </tr>\n",
       "    <tr>\n",
       "      <th>1</th>\n",
       "      <td>2016-07-01</td>\n",
       "      <td>IMF chief backs Athens as permanent Olympic host</td>\n",
       "    </tr>\n",
       "    <tr>\n",
       "      <th>2</th>\n",
       "      <td>2016-07-01</td>\n",
       "      <td>The president of France says if Brexit won, so...</td>\n",
       "    </tr>\n",
       "    <tr>\n",
       "      <th>3</th>\n",
       "      <td>2016-07-01</td>\n",
       "      <td>British Man Who Must Give Police 24 Hours' Not...</td>\n",
       "    </tr>\n",
       "    <tr>\n",
       "      <th>4</th>\n",
       "      <td>2016-07-01</td>\n",
       "      <td>100+ Nobel laureates urge Greenpeace to stop o...</td>\n",
       "    </tr>\n",
       "  </tbody>\n",
       "</table>\n",
       "</div>"
      ],
      "text/plain": [
       "        Date                                               News\n",
       "0 2016-07-01  A 117-year-old woman in Mexico City finally re...\n",
       "1 2016-07-01   IMF chief backs Athens as permanent Olympic host\n",
       "2 2016-07-01  The president of France says if Brexit won, so...\n",
       "3 2016-07-01  British Man Who Must Give Police 24 Hours' Not...\n",
       "4 2016-07-01  100+ Nobel laureates urge Greenpeace to stop o..."
      ]
     },
     "execution_count": 7,
     "metadata": {},
     "output_type": "execute_result"
    }
   ],
   "source": [
    "news_data.head()"
   ]
  },
  {
   "cell_type": "markdown",
   "metadata": {
    "id": "5slwyyhCKRo9"
   },
   "source": [
    "Merge the datasets (be careful you can get multiple rows per date which is not desirable)"
   ]
  },
  {
   "cell_type": "code",
   "execution_count": 8,
   "metadata": {
    "id": "DFY6TKhGKOY4"
   },
   "outputs": [],
   "source": [
    "# Write your code here. Add as many boxes as you need.\n",
    "news_grouped = news_data.groupby('Date')['News'].apply(lambda x: ' '.join(x)).reset_index()"
   ]
  },
  {
   "cell_type": "code",
   "execution_count": 9,
   "metadata": {},
   "outputs": [
    {
     "data": {
      "text/html": [
       "<div>\n",
       "<style scoped>\n",
       "    .dataframe tbody tr th:only-of-type {\n",
       "        vertical-align: middle;\n",
       "    }\n",
       "\n",
       "    .dataframe tbody tr th {\n",
       "        vertical-align: top;\n",
       "    }\n",
       "\n",
       "    .dataframe thead th {\n",
       "        text-align: right;\n",
       "    }\n",
       "</style>\n",
       "<table border=\"1\" class=\"dataframe\">\n",
       "  <thead>\n",
       "    <tr style=\"text-align: right;\">\n",
       "      <th></th>\n",
       "      <th>Date</th>\n",
       "      <th>Open</th>\n",
       "      <th>High</th>\n",
       "      <th>Low</th>\n",
       "      <th>Close</th>\n",
       "      <th>Volume</th>\n",
       "      <th>News</th>\n",
       "    </tr>\n",
       "  </thead>\n",
       "  <tbody>\n",
       "    <tr>\n",
       "      <th>0</th>\n",
       "      <td>2016-07-01</td>\n",
       "      <td>17924.24023</td>\n",
       "      <td>18002.38086</td>\n",
       "      <td>17916.91016</td>\n",
       "      <td>17949.36914</td>\n",
       "      <td>82160000</td>\n",
       "      <td>A 117-year-old woman in Mexico City finally re...</td>\n",
       "    </tr>\n",
       "    <tr>\n",
       "      <th>1</th>\n",
       "      <td>2016-06-30</td>\n",
       "      <td>17712.75977</td>\n",
       "      <td>17930.60938</td>\n",
       "      <td>17711.80078</td>\n",
       "      <td>17929.99023</td>\n",
       "      <td>133030000</td>\n",
       "      <td>Jamaica proposes marijuana dispensers for tour...</td>\n",
       "    </tr>\n",
       "    <tr>\n",
       "      <th>2</th>\n",
       "      <td>2016-06-29</td>\n",
       "      <td>17456.01953</td>\n",
       "      <td>17704.50977</td>\n",
       "      <td>17456.01953</td>\n",
       "      <td>17694.67969</td>\n",
       "      <td>106380000</td>\n",
       "      <td>Explosion At Airport In Istanbul Yemeni former...</td>\n",
       "    </tr>\n",
       "    <tr>\n",
       "      <th>3</th>\n",
       "      <td>2016-06-28</td>\n",
       "      <td>17190.50977</td>\n",
       "      <td>17409.72070</td>\n",
       "      <td>17190.50977</td>\n",
       "      <td>17409.72070</td>\n",
       "      <td>112190000</td>\n",
       "      <td>2,500 Scientists To Australia: If You Want To ...</td>\n",
       "    </tr>\n",
       "    <tr>\n",
       "      <th>4</th>\n",
       "      <td>2016-06-27</td>\n",
       "      <td>17355.21094</td>\n",
       "      <td>17355.21094</td>\n",
       "      <td>17063.08008</td>\n",
       "      <td>17140.24023</td>\n",
       "      <td>138740000</td>\n",
       "      <td>Barclays and RBS shares suspended from trading...</td>\n",
       "    </tr>\n",
       "  </tbody>\n",
       "</table>\n",
       "</div>"
      ],
      "text/plain": [
       "        Date         Open         High          Low        Close     Volume  \\\n",
       "0 2016-07-01  17924.24023  18002.38086  17916.91016  17949.36914   82160000   \n",
       "1 2016-06-30  17712.75977  17930.60938  17711.80078  17929.99023  133030000   \n",
       "2 2016-06-29  17456.01953  17704.50977  17456.01953  17694.67969  106380000   \n",
       "3 2016-06-28  17190.50977  17409.72070  17190.50977  17409.72070  112190000   \n",
       "4 2016-06-27  17355.21094  17355.21094  17063.08008  17140.24023  138740000   \n",
       "\n",
       "                                                News  \n",
       "0  A 117-year-old woman in Mexico City finally re...  \n",
       "1  Jamaica proposes marijuana dispensers for tour...  \n",
       "2  Explosion At Airport In Istanbul Yemeni former...  \n",
       "3  2,500 Scientists To Australia: If You Want To ...  \n",
       "4  Barclays and RBS shares suspended from trading...  "
      ]
     },
     "execution_count": 9,
     "metadata": {},
     "output_type": "execute_result"
    }
   ],
   "source": [
    "merged_data = pd.merge(dtable_data, news_grouped, on='Date', how='inner')\n",
    "merged_data.head()"
   ]
  },
  {
   "cell_type": "markdown",
   "metadata": {
    "id": "hZceBEFuiGpI"
   },
   "source": [
    "## Feauture Extraction\n",
    "\n",
    "\n",
    "1. DIJA Table\n",
    "Apply a lag of one, up to 7 days to each feature, creating a set of features representing the index price from the previous 7 days. To maintain dataset integrity, eliminate any resulting missing values at the beginning of the dataset.\n",
    "\n",
    "2. Reddit News Table\n",
    "Create a numeric representation for the news (for example average embedding or average sentiment). <b> You must create lags of the news features as well since we will not know the news for the future. </b>\n",
    "\n",
    "Hint: Use `df['column_name'].shift(period)`. Check the documentation at https://pandas.pydata.org/docs/reference/api/pandas.DataFrame.shift.html."
   ]
  },
  {
   "cell_type": "code",
   "execution_count": 10,
   "metadata": {},
   "outputs": [],
   "source": [
    "dtable_data=dtable_data.drop(columns=['Date'])"
   ]
  },
  {
   "cell_type": "code",
   "execution_count": 11,
   "metadata": {
    "id": "S-xymWvjTFt-"
   },
   "outputs": [],
   "source": [
    "# Write your code here. Add as many boxes as you need.\n",
    "for lag in range(1,8):\n",
    "    for col in dtable_data.columns:\n",
    "        merged_data[f'{col}_lag{lag}'] = merged_data[col].shift(lag)\n",
    "merged_data = merged_data.dropna().reset_index(drop=True)"
   ]
  },
  {
   "cell_type": "code",
   "execution_count": 12,
   "metadata": {},
   "outputs": [
    {
     "name": "stderr",
     "output_type": "stream",
     "text": [
      "No model was supplied, defaulted to distilbert/distilbert-base-uncased-finetuned-sst-2-english and revision 714eb0f (https://huggingface.co/distilbert/distilbert-base-uncased-finetuned-sst-2-english).\n",
      "Using a pipeline without specifying a model name and revision in production is not recommended.\n"
     ]
    },
    {
     "name": "stdout",
     "output_type": "stream",
     "text": [
      "WARNING:tensorflow:From F:\\Anaconda\\Lib\\site-packages\\tf_keras\\src\\losses.py:2976: The name tf.losses.sparse_softmax_cross_entropy is deprecated. Please use tf.compat.v1.losses.sparse_softmax_cross_entropy instead.\n",
      "\n"
     ]
    },
    {
     "name": "stderr",
     "output_type": "stream",
     "text": [
      "You seem to be using the pipelines sequentially on GPU. In order to maximize efficiency please use a dataset\n"
     ]
    }
   ],
   "source": [
    "sentiment_analyzer = pipeline('sentiment-analysis',device=0)\n",
    "merged_data['News_Sentiment'] = merged_data['News'].apply(\n",
    "    lambda x: sentiment_analyzer(x, truncation=True, max_length=512)[0]['score']\n",
    ")"
   ]
  },
  {
   "cell_type": "code",
   "execution_count": 13,
   "metadata": {},
   "outputs": [],
   "source": [
    "for lag in range(1,8):\n",
    "    merged_data[f'New_Sentiment_lag{lag}'] = merged_data['News_Sentiment'].shift(lag)\n",
    "merged_data = merged_data.dropna().reset_index(drop=True)"
   ]
  },
  {
   "cell_type": "markdown",
   "metadata": {
    "id": "tls69_PrbJKW"
   },
   "source": [
    "## Dataset Splitting\n",
    "Partition the dataset into training and testing sets with an 80:20 ratio.\n",
    "\n",
    "**WARNING: DO NOT SHUFFLE THE DATASET.**\n",
    "\n"
   ]
  },
  {
   "cell_type": "code",
   "execution_count": 19,
   "metadata": {
    "id": "PjGGGMxebeoB"
   },
   "outputs": [],
   "source": [
    "# Write your code here. Add as many boxes as you need.\n",
    "features = merged_data.drop(columns=['Date','Open','High','Low','Volume','Close', 'News', 'News_Sentiment'])\n",
    "target = merged_data['Close']"
   ]
  },
  {
   "cell_type": "code",
   "execution_count": 20,
   "metadata": {},
   "outputs": [],
   "source": [
    "from sklearn.model_selection import train_test_split\n",
    "X_train, X_test, y_train, y_test = train_test_split(features, target, test_size=0.2, shuffle=False)"
   ]
  },
  {
   "cell_type": "code",
   "execution_count": 21,
   "metadata": {},
   "outputs": [
    {
     "data": {
      "text/html": [
       "<div>\n",
       "<style scoped>\n",
       "    .dataframe tbody tr th:only-of-type {\n",
       "        vertical-align: middle;\n",
       "    }\n",
       "\n",
       "    .dataframe tbody tr th {\n",
       "        vertical-align: top;\n",
       "    }\n",
       "\n",
       "    .dataframe thead th {\n",
       "        text-align: right;\n",
       "    }\n",
       "</style>\n",
       "<table border=\"1\" class=\"dataframe\">\n",
       "  <thead>\n",
       "    <tr style=\"text-align: right;\">\n",
       "      <th></th>\n",
       "      <th>Open_lag1</th>\n",
       "      <th>High_lag1</th>\n",
       "      <th>Low_lag1</th>\n",
       "      <th>Close_lag1</th>\n",
       "      <th>Volume_lag1</th>\n",
       "      <th>Open_lag2</th>\n",
       "      <th>High_lag2</th>\n",
       "      <th>Low_lag2</th>\n",
       "      <th>Close_lag2</th>\n",
       "      <th>Volume_lag2</th>\n",
       "      <th>...</th>\n",
       "      <th>Low_lag7</th>\n",
       "      <th>Close_lag7</th>\n",
       "      <th>Volume_lag7</th>\n",
       "      <th>New_Sentiment_lag1</th>\n",
       "      <th>New_Sentiment_lag2</th>\n",
       "      <th>New_Sentiment_lag3</th>\n",
       "      <th>New_Sentiment_lag4</th>\n",
       "      <th>New_Sentiment_lag5</th>\n",
       "      <th>New_Sentiment_lag6</th>\n",
       "      <th>New_Sentiment_lag7</th>\n",
       "    </tr>\n",
       "  </thead>\n",
       "  <tbody>\n",
       "    <tr>\n",
       "      <th>0</th>\n",
       "      <td>17710.76953</td>\n",
       "      <td>17733.91992</td>\n",
       "      <td>17595.78906</td>\n",
       "      <td>17674.82031</td>\n",
       "      <td>93740000.0</td>\n",
       "      <td>17703.65039</td>\n",
       "      <td>17762.96094</td>\n",
       "      <td>17629.00977</td>\n",
       "      <td>17640.16992</td>\n",
       "      <td>94130000.0</td>\n",
       "      <td>...</td>\n",
       "      <td>17770.35938</td>\n",
       "      <td>17780.83008</td>\n",
       "      <td>89440000.0</td>\n",
       "      <td>0.991829</td>\n",
       "      <td>0.989460</td>\n",
       "      <td>0.993334</td>\n",
       "      <td>0.996921</td>\n",
       "      <td>0.997005</td>\n",
       "      <td>0.998601</td>\n",
       "      <td>0.982631</td>\n",
       "    </tr>\n",
       "    <tr>\n",
       "      <th>1</th>\n",
       "      <td>17830.50000</td>\n",
       "      <td>17893.27930</td>\n",
       "      <td>17731.34961</td>\n",
       "      <td>17732.48047</td>\n",
       "      <td>101690000.0</td>\n",
       "      <td>17710.76953</td>\n",
       "      <td>17733.91992</td>\n",
       "      <td>17595.78906</td>\n",
       "      <td>17674.82031</td>\n",
       "      <td>93740000.0</td>\n",
       "      <td>...</td>\n",
       "      <td>17799.80078</td>\n",
       "      <td>17829.73047</td>\n",
       "      <td>85130000.0</td>\n",
       "      <td>0.993033</td>\n",
       "      <td>0.991829</td>\n",
       "      <td>0.989460</td>\n",
       "      <td>0.993334</td>\n",
       "      <td>0.996921</td>\n",
       "      <td>0.997005</td>\n",
       "      <td>0.998601</td>\n",
       "    </tr>\n",
       "    <tr>\n",
       "      <th>2</th>\n",
       "      <td>17938.82031</td>\n",
       "      <td>17938.82031</td>\n",
       "      <td>17812.33984</td>\n",
       "      <td>17865.33984</td>\n",
       "      <td>90540000.0</td>\n",
       "      <td>17830.50000</td>\n",
       "      <td>17893.27930</td>\n",
       "      <td>17731.34961</td>\n",
       "      <td>17732.48047</td>\n",
       "      <td>101690000.0</td>\n",
       "      <td>...</td>\n",
       "      <td>17736.86914</td>\n",
       "      <td>17804.86914</td>\n",
       "      <td>99380000.0</td>\n",
       "      <td>0.995395</td>\n",
       "      <td>0.993033</td>\n",
       "      <td>0.991829</td>\n",
       "      <td>0.989460</td>\n",
       "      <td>0.993334</td>\n",
       "      <td>0.996921</td>\n",
       "      <td>0.997005</td>\n",
       "    </tr>\n",
       "    <tr>\n",
       "      <th>3</th>\n",
       "      <td>17969.98047</td>\n",
       "      <td>18005.22070</td>\n",
       "      <td>17915.88086</td>\n",
       "      <td>17985.18945</td>\n",
       "      <td>69690000.0</td>\n",
       "      <td>17938.82031</td>\n",
       "      <td>17938.82031</td>\n",
       "      <td>17812.33984</td>\n",
       "      <td>17865.33984</td>\n",
       "      <td>90540000.0</td>\n",
       "      <td>...</td>\n",
       "      <td>17602.77930</td>\n",
       "      <td>17675.16016</td>\n",
       "      <td>248680000.0</td>\n",
       "      <td>0.998964</td>\n",
       "      <td>0.995395</td>\n",
       "      <td>0.993033</td>\n",
       "      <td>0.991829</td>\n",
       "      <td>0.989460</td>\n",
       "      <td>0.993334</td>\n",
       "      <td>0.996921</td>\n",
       "    </tr>\n",
       "    <tr>\n",
       "      <th>4</th>\n",
       "      <td>17931.91016</td>\n",
       "      <td>18016.00000</td>\n",
       "      <td>17931.91016</td>\n",
       "      <td>18005.05078</td>\n",
       "      <td>71260000.0</td>\n",
       "      <td>17969.98047</td>\n",
       "      <td>18005.22070</td>\n",
       "      <td>17915.88086</td>\n",
       "      <td>17985.18945</td>\n",
       "      <td>69690000.0</td>\n",
       "      <td>...</td>\n",
       "      <td>17471.28906</td>\n",
       "      <td>17733.09961</td>\n",
       "      <td>91950000.0</td>\n",
       "      <td>0.993949</td>\n",
       "      <td>0.998964</td>\n",
       "      <td>0.995395</td>\n",
       "      <td>0.993033</td>\n",
       "      <td>0.991829</td>\n",
       "      <td>0.989460</td>\n",
       "      <td>0.993334</td>\n",
       "    </tr>\n",
       "    <tr>\n",
       "      <th>...</th>\n",
       "      <td>...</td>\n",
       "      <td>...</td>\n",
       "      <td>...</td>\n",
       "      <td>...</td>\n",
       "      <td>...</td>\n",
       "      <td>...</td>\n",
       "      <td>...</td>\n",
       "      <td>...</td>\n",
       "      <td>...</td>\n",
       "      <td>...</td>\n",
       "      <td>...</td>\n",
       "      <td>...</td>\n",
       "      <td>...</td>\n",
       "      <td>...</td>\n",
       "      <td>...</td>\n",
       "      <td>...</td>\n",
       "      <td>...</td>\n",
       "      <td>...</td>\n",
       "      <td>...</td>\n",
       "      <td>...</td>\n",
       "      <td>...</td>\n",
       "    </tr>\n",
       "    <tr>\n",
       "      <th>1575</th>\n",
       "      <td>10611.76953</td>\n",
       "      <td>10644.95020</td>\n",
       "      <td>10594.83984</td>\n",
       "      <td>10624.69043</td>\n",
       "      <td>166140000.0</td>\n",
       "      <td>10623.41016</td>\n",
       "      <td>10644.19043</td>\n",
       "      <td>10570.50977</td>\n",
       "      <td>10642.15039</td>\n",
       "      <td>160570000.0</td>\n",
       "      <td>...</td>\n",
       "      <td>10695.12988</td>\n",
       "      <td>10785.88965</td>\n",
       "      <td>157200000.0</td>\n",
       "      <td>0.997633</td>\n",
       "      <td>0.998095</td>\n",
       "      <td>0.997214</td>\n",
       "      <td>0.989274</td>\n",
       "      <td>0.990978</td>\n",
       "      <td>0.998664</td>\n",
       "      <td>0.998984</td>\n",
       "    </tr>\n",
       "    <tr>\n",
       "      <th>1576</th>\n",
       "      <td>10560.98047</td>\n",
       "      <td>10611.83984</td>\n",
       "      <td>10507.16992</td>\n",
       "      <td>10611.83984</td>\n",
       "      <td>150000000.0</td>\n",
       "      <td>10611.76953</td>\n",
       "      <td>10644.95020</td>\n",
       "      <td>10594.83984</td>\n",
       "      <td>10624.69043</td>\n",
       "      <td>166140000.0</td>\n",
       "      <td>...</td>\n",
       "      <td>10694.21973</td>\n",
       "      <td>10741.98047</td>\n",
       "      <td>434190000.0</td>\n",
       "      <td>0.998543</td>\n",
       "      <td>0.997633</td>\n",
       "      <td>0.998095</td>\n",
       "      <td>0.997214</td>\n",
       "      <td>0.989274</td>\n",
       "      <td>0.990978</td>\n",
       "      <td>0.998664</td>\n",
       "    </tr>\n",
       "    <tr>\n",
       "      <th>1577</th>\n",
       "      <td>10560.12988</td>\n",
       "      <td>10601.79004</td>\n",
       "      <td>10526.51953</td>\n",
       "      <td>10567.33008</td>\n",
       "      <td>186570000.0</td>\n",
       "      <td>10560.98047</td>\n",
       "      <td>10611.83984</td>\n",
       "      <td>10507.16992</td>\n",
       "      <td>10611.83984</td>\n",
       "      <td>150000000.0</td>\n",
       "      <td>...</td>\n",
       "      <td>10728.15039</td>\n",
       "      <td>10779.16992</td>\n",
       "      <td>153280000.0</td>\n",
       "      <td>0.990247</td>\n",
       "      <td>0.998543</td>\n",
       "      <td>0.997633</td>\n",
       "      <td>0.998095</td>\n",
       "      <td>0.997214</td>\n",
       "      <td>0.989274</td>\n",
       "      <td>0.990978</td>\n",
       "    </tr>\n",
       "    <tr>\n",
       "      <th>1578</th>\n",
       "      <td>10552.24023</td>\n",
       "      <td>10612.59961</td>\n",
       "      <td>10533.92969</td>\n",
       "      <td>10564.37988</td>\n",
       "      <td>219860000.0</td>\n",
       "      <td>10560.12988</td>\n",
       "      <td>10601.79004</td>\n",
       "      <td>10526.51953</td>\n",
       "      <td>10567.33008</td>\n",
       "      <td>186570000.0</td>\n",
       "      <td>...</td>\n",
       "      <td>10686.36035</td>\n",
       "      <td>10733.66992</td>\n",
       "      <td>194190000.0</td>\n",
       "      <td>0.994318</td>\n",
       "      <td>0.990247</td>\n",
       "      <td>0.998543</td>\n",
       "      <td>0.997633</td>\n",
       "      <td>0.998095</td>\n",
       "      <td>0.997214</td>\n",
       "      <td>0.989274</td>\n",
       "    </tr>\n",
       "    <tr>\n",
       "      <th>1579</th>\n",
       "      <td>10563.78027</td>\n",
       "      <td>10587.74023</td>\n",
       "      <td>10542.38965</td>\n",
       "      <td>10552.51953</td>\n",
       "      <td>171780000.0</td>\n",
       "      <td>10552.24023</td>\n",
       "      <td>10612.59961</td>\n",
       "      <td>10533.92969</td>\n",
       "      <td>10564.37988</td>\n",
       "      <td>219860000.0</td>\n",
       "      <td>...</td>\n",
       "      <td>10621.90039</td>\n",
       "      <td>10685.98047</td>\n",
       "      <td>227410000.0</td>\n",
       "      <td>0.995207</td>\n",
       "      <td>0.994318</td>\n",
       "      <td>0.990247</td>\n",
       "      <td>0.998543</td>\n",
       "      <td>0.997633</td>\n",
       "      <td>0.998095</td>\n",
       "      <td>0.997214</td>\n",
       "    </tr>\n",
       "  </tbody>\n",
       "</table>\n",
       "<p>1580 rows × 42 columns</p>\n",
       "</div>"
      ],
      "text/plain": [
       "        Open_lag1    High_lag1     Low_lag1   Close_lag1  Volume_lag1  \\\n",
       "0     17710.76953  17733.91992  17595.78906  17674.82031   93740000.0   \n",
       "1     17830.50000  17893.27930  17731.34961  17732.48047  101690000.0   \n",
       "2     17938.82031  17938.82031  17812.33984  17865.33984   90540000.0   \n",
       "3     17969.98047  18005.22070  17915.88086  17985.18945   69690000.0   \n",
       "4     17931.91016  18016.00000  17931.91016  18005.05078   71260000.0   \n",
       "...           ...          ...          ...          ...          ...   \n",
       "1575  10611.76953  10644.95020  10594.83984  10624.69043  166140000.0   \n",
       "1576  10560.98047  10611.83984  10507.16992  10611.83984  150000000.0   \n",
       "1577  10560.12988  10601.79004  10526.51953  10567.33008  186570000.0   \n",
       "1578  10552.24023  10612.59961  10533.92969  10564.37988  219860000.0   \n",
       "1579  10563.78027  10587.74023  10542.38965  10552.51953  171780000.0   \n",
       "\n",
       "        Open_lag2    High_lag2     Low_lag2   Close_lag2  Volume_lag2  ...  \\\n",
       "0     17703.65039  17762.96094  17629.00977  17640.16992   94130000.0  ...   \n",
       "1     17710.76953  17733.91992  17595.78906  17674.82031   93740000.0  ...   \n",
       "2     17830.50000  17893.27930  17731.34961  17732.48047  101690000.0  ...   \n",
       "3     17938.82031  17938.82031  17812.33984  17865.33984   90540000.0  ...   \n",
       "4     17969.98047  18005.22070  17915.88086  17985.18945   69690000.0  ...   \n",
       "...           ...          ...          ...          ...          ...  ...   \n",
       "1575  10623.41016  10644.19043  10570.50977  10642.15039  160570000.0  ...   \n",
       "1576  10611.76953  10644.95020  10594.83984  10624.69043  166140000.0  ...   \n",
       "1577  10560.98047  10611.83984  10507.16992  10611.83984  150000000.0  ...   \n",
       "1578  10560.12988  10601.79004  10526.51953  10567.33008  186570000.0  ...   \n",
       "1579  10552.24023  10612.59961  10533.92969  10564.37988  219860000.0  ...   \n",
       "\n",
       "         Low_lag7   Close_lag7  Volume_lag7  New_Sentiment_lag1  \\\n",
       "0     17770.35938  17780.83008   89440000.0            0.991829   \n",
       "1     17799.80078  17829.73047   85130000.0            0.993033   \n",
       "2     17736.86914  17804.86914   99380000.0            0.995395   \n",
       "3     17602.77930  17675.16016  248680000.0            0.998964   \n",
       "4     17471.28906  17733.09961   91950000.0            0.993949   \n",
       "...           ...          ...          ...                 ...   \n",
       "1575  10695.12988  10785.88965  157200000.0            0.997633   \n",
       "1576  10694.21973  10741.98047  434190000.0            0.998543   \n",
       "1577  10728.15039  10779.16992  153280000.0            0.990247   \n",
       "1578  10686.36035  10733.66992  194190000.0            0.994318   \n",
       "1579  10621.90039  10685.98047  227410000.0            0.995207   \n",
       "\n",
       "      New_Sentiment_lag2  New_Sentiment_lag3  New_Sentiment_lag4  \\\n",
       "0               0.989460            0.993334            0.996921   \n",
       "1               0.991829            0.989460            0.993334   \n",
       "2               0.993033            0.991829            0.989460   \n",
       "3               0.995395            0.993033            0.991829   \n",
       "4               0.998964            0.995395            0.993033   \n",
       "...                  ...                 ...                 ...   \n",
       "1575            0.998095            0.997214            0.989274   \n",
       "1576            0.997633            0.998095            0.997214   \n",
       "1577            0.998543            0.997633            0.998095   \n",
       "1578            0.990247            0.998543            0.997633   \n",
       "1579            0.994318            0.990247            0.998543   \n",
       "\n",
       "      New_Sentiment_lag5  New_Sentiment_lag6  New_Sentiment_lag7  \n",
       "0               0.997005            0.998601            0.982631  \n",
       "1               0.996921            0.997005            0.998601  \n",
       "2               0.993334            0.996921            0.997005  \n",
       "3               0.989460            0.993334            0.996921  \n",
       "4               0.991829            0.989460            0.993334  \n",
       "...                  ...                 ...                 ...  \n",
       "1575            0.990978            0.998664            0.998984  \n",
       "1576            0.989274            0.990978            0.998664  \n",
       "1577            0.997214            0.989274            0.990978  \n",
       "1578            0.998095            0.997214            0.989274  \n",
       "1579            0.997633            0.998095            0.997214  \n",
       "\n",
       "[1580 rows x 42 columns]"
      ]
     },
     "execution_count": 21,
     "metadata": {},
     "output_type": "execute_result"
    }
   ],
   "source": [
    "X_train"
   ]
  },
  {
   "cell_type": "markdown",
   "metadata": {
    "id": "lwhDHS-nRRhW"
   },
   "source": [
    "## Feauture Scaling\n",
    "Scale the extracted features using an appropriate scaler if needed."
   ]
  },
  {
   "cell_type": "code",
   "execution_count": 22,
   "metadata": {},
   "outputs": [],
   "source": [
    "import numpy as np"
   ]
  },
  {
   "cell_type": "code",
   "execution_count": 23,
   "metadata": {
    "id": "xlvbs68wRaVj"
   },
   "outputs": [],
   "source": [
    "# Write your code here. Add as many boxes as you need.\n",
    "from sklearn.preprocessing import MinMaxScaler\n",
    "import numpy as np\n",
    "scaler = MinMaxScaler()\n",
    "y_scaler = MinMaxScaler()\n",
    "X_train = scaler.fit_transform(X_train)\n",
    "X_test = scaler.transform(X_test)\n",
    "\n",
    "y_train = np.array(y_train)\n",
    "y_test = np.array(y_test)\n",
    "\n",
    "y_train = y_scaler.fit_transform(y_train.reshape(-1, 1))\n",
    "y_test = y_scaler.fit_transform(y_test.reshape(-1, 1))"
   ]
  },
  {
   "cell_type": "code",
   "execution_count": 24,
   "metadata": {},
   "outputs": [
    {
     "data": {
      "text/plain": [
       "(1580, 42)"
      ]
     },
     "execution_count": 24,
     "metadata": {},
     "output_type": "execute_result"
    }
   ],
   "source": [
    " X_train.shape"
   ]
  },
  {
   "cell_type": "markdown",
   "metadata": {
    "id": "xI53ZRmfW8WG"
   },
   "source": [
    "## Feature Reshaping"
   ]
  },
  {
   "cell_type": "markdown",
   "metadata": {
    "id": "sK9naW8AXVaU"
   },
   "source": [
    "Reshape the feature dimensions into the shape `(samples, timesteps, features)`."
   ]
  },
  {
   "cell_type": "code",
   "execution_count": 25,
   "metadata": {
    "id": "3D-1-V9bW8tl"
   },
   "outputs": [],
   "source": [
    "# Write your code here. Add as many boxes as you need.\n",
    "timesteps = 7\n",
    "X_train_lstm = X_train.reshape(X_train.shape[0], timesteps, 42 //7)\n",
    "X_test_lstm = X_test.reshape(X_test.shape[0], timesteps, 42 //7)"
   ]
  },
  {
   "cell_type": "markdown",
   "metadata": {
    "id": "VIkAR1Hibiwr"
   },
   "source": [
    "## Long Short-Term Memory (LSTM) Network\n"
   ]
  },
  {
   "cell_type": "markdown",
   "metadata": {
    "id": "qWn1pafKbnxH"
   },
   "source": [
    "Define the forecasting model using the **Keras Sequential API** (`keras.models.Sequential`), incorporating one or more LSTM layers along with additional relevant layers (`keras.layers`). Be cautious when specifying the configuration of the final layer to ensure proper model output for the forecasting task."
   ]
  },
  {
   "cell_type": "code",
   "execution_count": 26,
   "metadata": {
    "id": "IXFIrQthbnkb"
   },
   "outputs": [
    {
     "name": "stderr",
     "output_type": "stream",
     "text": [
      "F:\\Anaconda\\Lib\\site-packages\\keras\\src\\layers\\rnn\\rnn.py:200: UserWarning: Do not pass an `input_shape`/`input_dim` argument to a layer. When using Sequential models, prefer using an `Input(shape)` object as the first layer in the model instead.\n",
      "  super().__init__(**kwargs)\n"
     ]
    }
   ],
   "source": [
    "# Write your code here. Add as many boxes as you need.\n",
    "from tensorflow.keras.models import Sequential\n",
    "from tensorflow.keras.layers import LSTM, Dense, Dropout\n",
    "model = Sequential()\n",
    "model.add(LSTM(50, activation='relu', return_sequences=True, input_shape=(X_train_lstm.shape[1], X_train_lstm.shape[2])))\n",
    "model.add(Dropout(0.2))\n",
    "model.add(LSTM(50, activation='relu'))\n",
    "model.add(Dropout(0.2))\n",
    "model.add(Dense(1))"
   ]
  },
  {
   "cell_type": "markdown",
   "metadata": {
    "id": "tAM-g59xSO4V"
   },
   "source": [
    "Compile the previously defined model specifying **loss function** (`keras.losses`), **optimizer** (`keras.optimizers`) and **evaluation metrics** (`keras.metics`)."
   ]
  },
  {
   "cell_type": "code",
   "execution_count": 27,
   "metadata": {
    "id": "ZBtCCy9VSQpF"
   },
   "outputs": [],
   "source": [
    "# Write your code here. Add as many boxes as you need.\n",
    "model.compile(optimizer='adam', loss='mse' , metrics=['mae'])"
   ]
  },
  {
   "cell_type": "markdown",
   "metadata": {
    "id": "lygUzi0QTXgZ"
   },
   "source": [
    "Train the model on the training set, specifying the **batch size** and **number of epochs** for the training process. Allocate 20% of the samples for **validation**, and ensure that the dataset remains **unshuffled** during training."
   ]
  },
  {
   "cell_type": "code",
   "execution_count": 28,
   "metadata": {
    "id": "Fkj3k5p8TXEF"
   },
   "outputs": [
    {
     "name": "stdout",
     "output_type": "stream",
     "text": [
      "Epoch 1/10\n",
      "\u001b[1m10/10\u001b[0m \u001b[32m━━━━━━━━━━━━━━━━━━━━\u001b[0m\u001b[37m\u001b[0m \u001b[1m4s\u001b[0m 95ms/step - loss: 0.7614 - mae: 0.8685 - val_loss: 0.6163 - val_mae: 0.7844\n",
      "Epoch 2/10\n",
      "\u001b[1m10/10\u001b[0m \u001b[32m━━━━━━━━━━━━━━━━━━━━\u001b[0m\u001b[37m\u001b[0m \u001b[1m0s\u001b[0m 16ms/step - loss: 0.5008 - mae: 0.6997 - val_loss: 0.2277 - val_mae: 0.4749\n",
      "Epoch 3/10\n",
      "\u001b[1m10/10\u001b[0m \u001b[32m━━━━━━━━━━━━━━━━━━━━\u001b[0m\u001b[37m\u001b[0m \u001b[1m0s\u001b[0m 15ms/step - loss: 0.1580 - mae: 0.3619 - val_loss: 0.1226 - val_mae: 0.2993\n",
      "Epoch 4/10\n",
      "\u001b[1m10/10\u001b[0m \u001b[32m━━━━━━━━━━━━━━━━━━━━\u001b[0m\u001b[37m\u001b[0m \u001b[1m0s\u001b[0m 16ms/step - loss: 0.0636 - mae: 0.2098 - val_loss: 0.0099 - val_mae: 0.0809\n",
      "Epoch 5/10\n",
      "\u001b[1m10/10\u001b[0m \u001b[32m━━━━━━━━━━━━━━━━━━━━\u001b[0m\u001b[37m\u001b[0m \u001b[1m0s\u001b[0m 15ms/step - loss: 0.0262 - mae: 0.1328 - val_loss: 0.0120 - val_mae: 0.0923\n",
      "Epoch 6/10\n",
      "\u001b[1m10/10\u001b[0m \u001b[32m━━━━━━━━━━━━━━━━━━━━\u001b[0m\u001b[37m\u001b[0m \u001b[1m0s\u001b[0m 16ms/step - loss: 0.0225 - mae: 0.1265 - val_loss: 0.0186 - val_mae: 0.1097\n",
      "Epoch 7/10\n",
      "\u001b[1m10/10\u001b[0m \u001b[32m━━━━━━━━━━━━━━━━━━━━\u001b[0m\u001b[37m\u001b[0m \u001b[1m0s\u001b[0m 17ms/step - loss: 0.0207 - mae: 0.1119 - val_loss: 0.0120 - val_mae: 0.0896\n",
      "Epoch 8/10\n",
      "\u001b[1m10/10\u001b[0m \u001b[32m━━━━━━━━━━━━━━━━━━━━\u001b[0m\u001b[37m\u001b[0m \u001b[1m0s\u001b[0m 17ms/step - loss: 0.0160 - mae: 0.1022 - val_loss: 0.0109 - val_mae: 0.0885\n",
      "Epoch 9/10\n",
      "\u001b[1m10/10\u001b[0m \u001b[32m━━━━━━━━━━━━━━━━━━━━\u001b[0m\u001b[37m\u001b[0m \u001b[1m0s\u001b[0m 22ms/step - loss: 0.0188 - mae: 0.1070 - val_loss: 0.0150 - val_mae: 0.1000\n",
      "Epoch 10/10\n",
      "\u001b[1m10/10\u001b[0m \u001b[32m━━━━━━━━━━━━━━━━━━━━\u001b[0m\u001b[37m\u001b[0m \u001b[1m0s\u001b[0m 16ms/step - loss: 0.0165 - mae: 0.1024 - val_loss: 0.0111 - val_mae: 0.0882\n"
     ]
    }
   ],
   "source": [
    "# Write your code here. Add as many boxes as you need.\n",
    "history = model.fit(\n",
    "    X_test_lstm, y_train,\n",
    "    validation_split=0.2,\n",
    "    epochs=10,\n",
    "    batch_size=32,\n",
    "    shuffle=False\n",
    ")"
   ]
  },
  {
   "cell_type": "markdown",
   "metadata": {
    "id": "BgK9j0GrUs2l"
   },
   "source": [
    "Create a line plot illustrating both the **training** and **validation loss** over the training epochs."
   ]
  },
  {
   "cell_type": "code",
   "execution_count": 29,
   "metadata": {
    "id": "2u1RylwfUtR0"
   },
   "outputs": [
    {
     "data": {
      "image/png": "[encoded data removed]",
      "text/plain": [
       "<Figure size 640x480 with 1 Axes>"
      ]
     },
     "metadata": {},
     "output_type": "display_data"
    }
   ],
   "source": [
    "# Write your code here. Add as many boxes as you need.\n",
    "import matplotlib.pyplot as plt\n",
    "\n",
    "plt.plot(history.history['loss'], label='Training loss')\n",
    "plt.plot(history.history['val_loss'], label='Val loss')\n",
    "plt.xlabel('Epochs')\n",
    "plt.ylabel('Loss')\n",
    "plt.legend()\n",
    "plt.show()"
   ]
  },
  {
   "cell_type": "markdown",
   "metadata": {
    "id": "gyXZwAVab8Cp"
   },
   "source": [
    "Use the trained model to make predictions for the test set."
   ]
  },
  {
   "cell_type": "code",
   "execution_count": 30,
   "metadata": {
    "id": "EvMfVum6b_9b"
   },
   "outputs": [
    {
     "name": "stdout",
     "output_type": "stream",
     "text": [
      "\u001b[1m13/13\u001b[0m \u001b[32m━━━━━━━━━━━━━━━━━━━━\u001b[0m\u001b[37m\u001b[0m \u001b[1m1s\u001b[0m 30ms/step\n"
     ]
    }
   ],
   "source": [
    "# Write your code here. Add as many boxes as you need.\n",
    "y_pred = model.predict(X_test_lstm)\n",
    "\n",
    "y_pred = y_scaler.inverse_transform(y_pred)\n",
    "y_test = y_scaler.inverse_transform(y_test)"
   ]
  },
  {
   "cell_type": "markdown",
   "metadata": {
    "id": "3VxAvDPtcNCh"
   },
   "source": [
    "Assess the performance of the model by using different metrics provided by the `scikit-learn` library."
   ]
  },
  {
   "cell_type": "code",
   "execution_count": 31,
   "metadata": {
    "id": "V4axpktycQhp"
   },
   "outputs": [
    {
     "name": "stdout",
     "output_type": "stream",
     "text": [
      "RMSE: 2264.3378967924905\n",
      "R^2 Score: -2.7731204047181066\n"
     ]
    }
   ],
   "source": [
    "# Write your code here. Add as many boxes as you need.\n",
    "from sklearn.metrics import mean_squared_error, r2_score\n",
    "\n",
    "rmse = np.sqrt(mean_squared_error(y_test,y_pred))\n",
    "r2 = r2_score(y_test, y_pred)\n",
    "print(f\"RMSE: {rmse}\")\n",
    "print(f\"R^2 Score: {r2}\")"
   ]
  },
  {
   "cell_type": "markdown",
   "metadata": {
    "id": "X01Q7Pb9VOAI"
   },
   "source": [
    "Create a line plot in order to compare the actual and predicted mean temperatures for the test set."
   ]
  },
  {
   "cell_type": "code",
   "execution_count": 32,
   "metadata": {
    "id": "oeS852CkVPVJ"
   },
   "outputs": [
    {
     "data": {
      "image/png": "[encoded data removed]",
      "text/plain": [
       "<Figure size 1000x600 with 1 Axes>"
      ]
     },
     "metadata": {},
     "output_type": "display_data"
    }
   ],
   "source": [
    "# Write your code here. Add as many boxes as you need.\n",
    "plt.figure(figsize=(10,6))\n",
    "plt.plot(y_test, label='actual')\n",
    "plt.plot(y_pred, label='predicted')\n",
    "plt.xlabel('Days')\n",
    "plt.ylabel('Close Price')\n",
    "plt.legend()\n",
    "plt.show()"
   ]
  }
 ],
 "metadata": {
  "accelerator": "GPU",
  "colab": {
   "gpuType": "T4",
   "provenance": []
  },
  "kernelspec": {
   "display_name": "Python 3 (ipykernel)",
   "language": "python",
   "name": "python3"
  },
  "language_info": {
   "codemirror_mode": {
    "name": "ipython",
    "version": 3
   },
   "file_extension": ".py",
   "mimetype": "text/x-python",
   "name": "python",
   "nbconvert_exporter": "python",
   "pygments_lexer": "ipython3",
   "version": "3.12.7"
  }
 },
 "nbformat": 4,
 "nbformat_minor": 4
}
