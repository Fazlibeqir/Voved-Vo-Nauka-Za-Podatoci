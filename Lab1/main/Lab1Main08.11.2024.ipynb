{
 "cells": [
  {
   "cell_type": "markdown",
   "metadata": {
    "id": "fU3LwS741EZQ"
   },
   "source": [
    "# Requirements"
   ]
  },
  {
   "cell_type": "code",
   "execution_count": 1,
   "metadata": {
    "id": "4aqZf-9e1aKt"
   },
   "outputs": [],
   "source": [
    "from selenium import webdriver\n",
    "from selenium.webdriver.common.by import By\n",
    "import pandas as pd\n",
    "import matplotlib.pyplot as plt"
   ]
  },
  {
   "cell_type": "markdown",
   "metadata": {
    "id": "eVCAmQfy1rqh"
   },
   "source": [
    "# Configuration"
   ]
  },
  {
   "cell_type": "code",
   "execution_count": 2,
   "metadata": {
    "id": "wWzehF8809IJ"
   },
   "outputs": [],
   "source": [
    "options = webdriver.ChromeOptions()\n",
    "options.add_argument('--headless')\n",
    "options.add_argument('--no-sandbox')\n",
    "options.add_argument('--disable-dev-shm-usage')"
   ]
  },
  {
   "cell_type": "markdown",
   "metadata": {
    "id": "3FU-fkTj1zEC"
   },
   "source": [
    "# Simple Usage"
   ]
  },
  {
   "cell_type": "code",
   "execution_count": 5,
   "metadata": {
    "id": "gGB1un_t10_N"
   },
   "outputs": [],
   "source": [
    "# Initialize the webdriver.\n",
    "browser = webdriver.Chrome(options=options)"
   ]
  },
  {
   "cell_type": "code",
   "execution_count": 7,
   "metadata": {
    "id": "8EYuaHWxa-wR"
   },
   "outputs": [],
   "source": [
    "# Navigate to a web page.\n",
    "#browser.get('https://www.apple.com/mk/')"
   ]
  },
  {
   "cell_type": "code",
   "execution_count": 8,
   "metadata": {
    "id": "HWnwzCye2Fq1"
   },
   "outputs": [],
   "source": [
    "# Print the page source code.\n",
    "#print(browser.page_source)"
   ]
  },
  {
   "cell_type": "code",
   "execution_count": 9,
   "metadata": {
    "id": "H-5h-xse2L8I"
   },
   "outputs": [],
   "source": [
    "# Select an element from the page.\n",
    "#element = browser.find_element(By.CLASS_NAME, 'headline')"
   ]
  },
  {
   "cell_type": "code",
   "execution_count": 10,
   "metadata": {
    "id": "Rne65WGs3CJs"
   },
   "outputs": [],
   "source": [
    "# Print the element's innner text.\n",
    "#print(element.text)"
   ]
  },
  {
   "cell_type": "markdown",
   "metadata": {
    "id": "JzaK-Awf4hKN"
   },
   "source": [
    "# Laboratory Exercise - Run Mode (8 points)"
   ]
  },
  {
   "cell_type": "markdown",
   "metadata": {
    "id": "S0YnPh8r4p7M"
   },
   "source": [
    "In this laboratory assignment, your goal is to perform web scraping on the website https://sandbox.oxylabs.io/products. Collect information on each product, specifically: name, price, rating, and availability. Organize the extracted data into a data frame. Finally, create a histogram to visually represent the price distribution of the products."
   ]
  },
  {
   "cell_type": "markdown",
   "metadata": {
    "id": "pAWUA3br7pnH"
   },
   "source": [
    "## Hints\n",
    "- To navigate to a specific page with a given URL, use the `browser.get(url)` method.\n",
    "- When selecting a single element, use `browser.find_element`, and for multiple elements, use `browser.find_elements`. Both of these functions take two arguments. The first specifies the attribute used to locate the element on the web page, and the second specifies the value of that attribute.\n",
    "- The `By` class is used to specify which attribute is used to locate elements on a page. These are the various ways the attributes are used to locate elements on a page: `By.ID`, `By.NAME`, `By.TAG_NAME`, `BY.CLASS_NAME`, `By.CSS_SELECTOR`, etc.\n",
    "- For more details, check the documentation (https://selenium-python.readthedocs.io/locating-elements.html)."
   ]
  },
  {
   "cell_type": "markdown",
   "metadata": {
    "id": "JsyFl54d-79Y"
   },
   "source": [
    "## Solution"
   ]
  },
  {
   "cell_type": "code",
   "execution_count": 22,
   "metadata": {
    "id": "LZIHRH7f3F00"
   },
   "outputs": [
    {
     "name": "stdout",
     "output_type": "stream",
     "text": [
      "32\n"
     ]
    }
   ],
   "source": [
    "# Write your code here. Add as many code boxes as you need.\n",
    "url = \"https://sandbox.oxylabs.io/products\"\n",
    "browser.get(url)\n",
    "\n",
    "names =[]\n",
    "prices = []\n",
    "ratings = []\n",
    "availabilites = []\n",
    "\n",
    "products = browser.find_elements(By.CLASS_NAME, 'product-card')\n",
    "print(len(products))\n",
    "for product in products:\n",
    "    name_element = product.find_element(By.CLASS_NAME, 'title')\n",
    "    names.append(name_element.text)\n",
    "\n",
    "    \n",
    "    price_element = product.find_element(By.CLASS_NAME, 'price-wrapper')\n",
    "    price_text = price_element.text.replace('€', '').replace(',', '.').strip()\n",
    "    prices.append(float(price_text))\n",
    "\n",
    "\n",
    "    rating_element = product.find_elements(By.CLASS_NAME, 'css-1cftdwf')\n",
    "    ratings.append(len(rating_element))\n",
    "\n",
    "    if len(product.find_elements(By.CLASS_NAME, 'in-stock')) > 0:\n",
    "        availabilites.append(\"In Stock\")\n",
    "    elif len(product.find_elements(By.CLASS_NAME, 'out-of-stock')) > 0:\n",
    "        availabilites.append(\"Out of Stock\")\n",
    "    else:\n",
    "        availabilites.append(\"Unknown\")\n",
    "\n",
    "browser.quit()"
   ]
  },
  {
   "cell_type": "code",
   "execution_count": 23,
   "metadata": {},
   "outputs": [],
   "source": [
    "data = pd.DataFrame({\n",
    "    'Name': names,\n",
    "    'Price': prices,\n",
    "    'Rating': ratings,\n",
    "    'Availability': availabilites,\n",
    "})"
   ]
  },
  {
   "cell_type": "code",
   "execution_count": 30,
   "metadata": {},
   "outputs": [
    {
     "data": {
      "text/html": [
       "<div>\n",
       "<style scoped>\n",
       "    .dataframe tbody tr th:only-of-type {\n",
       "        vertical-align: middle;\n",
       "    }\n",
       "\n",
       "    .dataframe tbody tr th {\n",
       "        vertical-align: top;\n",
       "    }\n",
       "\n",
       "    .dataframe thead th {\n",
       "        text-align: right;\n",
       "    }\n",
       "</style>\n",
       "<table border=\"1\" class=\"dataframe\">\n",
       "  <thead>\n",
       "    <tr style=\"text-align: right;\">\n",
       "      <th></th>\n",
       "      <th>Name</th>\n",
       "      <th>Price</th>\n",
       "      <th>Rating</th>\n",
       "      <th>Availability</th>\n",
       "    </tr>\n",
       "  </thead>\n",
       "  <tbody>\n",
       "    <tr>\n",
       "      <th>0</th>\n",
       "      <td>The Legend of Zelda: Ocarina of Time</td>\n",
       "      <td>91.99</td>\n",
       "      <td>5</td>\n",
       "      <td>Unknown</td>\n",
       "    </tr>\n",
       "    <tr>\n",
       "      <th>1</th>\n",
       "      <td>Super Mario Galaxy</td>\n",
       "      <td>91.99</td>\n",
       "      <td>5</td>\n",
       "      <td>Unknown</td>\n",
       "    </tr>\n",
       "    <tr>\n",
       "      <th>2</th>\n",
       "      <td>Super Mario Galaxy 2</td>\n",
       "      <td>91.99</td>\n",
       "      <td>5</td>\n",
       "      <td>Unknown</td>\n",
       "    </tr>\n",
       "    <tr>\n",
       "      <th>3</th>\n",
       "      <td>Metroid Prime</td>\n",
       "      <td>89.99</td>\n",
       "      <td>5</td>\n",
       "      <td>Unknown</td>\n",
       "    </tr>\n",
       "    <tr>\n",
       "      <th>4</th>\n",
       "      <td>Super Mario Odyssey</td>\n",
       "      <td>89.99</td>\n",
       "      <td>5</td>\n",
       "      <td>Unknown</td>\n",
       "    </tr>\n",
       "    <tr>\n",
       "      <th>5</th>\n",
       "      <td>Halo: Combat Evolved</td>\n",
       "      <td>87.99</td>\n",
       "      <td>5</td>\n",
       "      <td>Unknown</td>\n",
       "    </tr>\n",
       "    <tr>\n",
       "      <th>6</th>\n",
       "      <td>The House in Fata Morgana - Dreams of the Reve...</td>\n",
       "      <td>83.99</td>\n",
       "      <td>5</td>\n",
       "      <td>Unknown</td>\n",
       "    </tr>\n",
       "    <tr>\n",
       "      <th>7</th>\n",
       "      <td>NFL 2K1</td>\n",
       "      <td>62.99</td>\n",
       "      <td>5</td>\n",
       "      <td>Unknown</td>\n",
       "    </tr>\n",
       "    <tr>\n",
       "      <th>8</th>\n",
       "      <td>Uncharted 2: Among Thieves</td>\n",
       "      <td>88.99</td>\n",
       "      <td>5</td>\n",
       "      <td>Unknown</td>\n",
       "    </tr>\n",
       "    <tr>\n",
       "      <th>9</th>\n",
       "      <td>Tekken 3</td>\n",
       "      <td>91.99</td>\n",
       "      <td>5</td>\n",
       "      <td>Unknown</td>\n",
       "    </tr>\n",
       "    <tr>\n",
       "      <th>10</th>\n",
       "      <td>The Legend of Zelda: The Wind Waker</td>\n",
       "      <td>90.99</td>\n",
       "      <td>5</td>\n",
       "      <td>Unknown</td>\n",
       "    </tr>\n",
       "    <tr>\n",
       "      <th>11</th>\n",
       "      <td>Gran Turismo</td>\n",
       "      <td>86.99</td>\n",
       "      <td>5</td>\n",
       "      <td>Unknown</td>\n",
       "    </tr>\n",
       "    <tr>\n",
       "      <th>12</th>\n",
       "      <td>Metal Gear Solid 2: Sons of Liberty</td>\n",
       "      <td>88.99</td>\n",
       "      <td>5</td>\n",
       "      <td>Unknown</td>\n",
       "    </tr>\n",
       "    <tr>\n",
       "      <th>13</th>\n",
       "      <td>Grand Theft Auto Double Pack</td>\n",
       "      <td>81.99</td>\n",
       "      <td>5</td>\n",
       "      <td>Unknown</td>\n",
       "    </tr>\n",
       "    <tr>\n",
       "      <th>14</th>\n",
       "      <td>Baldur's Gate II: Shadows of Amn</td>\n",
       "      <td>91.99</td>\n",
       "      <td>5</td>\n",
       "      <td>Unknown</td>\n",
       "    </tr>\n",
       "    <tr>\n",
       "      <th>15</th>\n",
       "      <td>Tetris Effect: Connected</td>\n",
       "      <td>88.99</td>\n",
       "      <td>5</td>\n",
       "      <td>Unknown</td>\n",
       "    </tr>\n",
       "    <tr>\n",
       "      <th>16</th>\n",
       "      <td>The Legend of Zelda Collector's Edition</td>\n",
       "      <td>89.99</td>\n",
       "      <td>5</td>\n",
       "      <td>Unknown</td>\n",
       "    </tr>\n",
       "    <tr>\n",
       "      <th>17</th>\n",
       "      <td>Gran Turismo 3: A-Spec</td>\n",
       "      <td>84.99</td>\n",
       "      <td>5</td>\n",
       "      <td>Unknown</td>\n",
       "    </tr>\n",
       "    <tr>\n",
       "      <th>18</th>\n",
       "      <td>The Legend of Zelda: A Link to the Past</td>\n",
       "      <td>90.99</td>\n",
       "      <td>5</td>\n",
       "      <td>Unknown</td>\n",
       "    </tr>\n",
       "    <tr>\n",
       "      <th>19</th>\n",
       "      <td>The Legend of Zelda: Majora's Mask</td>\n",
       "      <td>91.99</td>\n",
       "      <td>5</td>\n",
       "      <td>Unknown</td>\n",
       "    </tr>\n",
       "    <tr>\n",
       "      <th>20</th>\n",
       "      <td>The Last of Us</td>\n",
       "      <td>92.99</td>\n",
       "      <td>5</td>\n",
       "      <td>In Stock</td>\n",
       "    </tr>\n",
       "    <tr>\n",
       "      <th>21</th>\n",
       "      <td>Persona 5 Royal</td>\n",
       "      <td>84.99</td>\n",
       "      <td>5</td>\n",
       "      <td>Out of Stock</td>\n",
       "    </tr>\n",
       "    <tr>\n",
       "      <th>22</th>\n",
       "      <td>The Last of Us Remastered</td>\n",
       "      <td>92.99</td>\n",
       "      <td>5</td>\n",
       "      <td>In Stock</td>\n",
       "    </tr>\n",
       "    <tr>\n",
       "      <th>23</th>\n",
       "      <td>The Legend of Zelda: Ocarina of Time 3D</td>\n",
       "      <td>90.99</td>\n",
       "      <td>4</td>\n",
       "      <td>Out of Stock</td>\n",
       "    </tr>\n",
       "    <tr>\n",
       "      <th>24</th>\n",
       "      <td>Chrono Cross</td>\n",
       "      <td>88.99</td>\n",
       "      <td>4</td>\n",
       "      <td>In Stock</td>\n",
       "    </tr>\n",
       "    <tr>\n",
       "      <th>25</th>\n",
       "      <td>Gears of War</td>\n",
       "      <td>84.99</td>\n",
       "      <td>4</td>\n",
       "      <td>Out of Stock</td>\n",
       "    </tr>\n",
       "    <tr>\n",
       "      <th>26</th>\n",
       "      <td>Sid Meier's Civilization II</td>\n",
       "      <td>88.99</td>\n",
       "      <td>4</td>\n",
       "      <td>In Stock</td>\n",
       "    </tr>\n",
       "    <tr>\n",
       "      <th>27</th>\n",
       "      <td>Halo 3</td>\n",
       "      <td>81.99</td>\n",
       "      <td>4</td>\n",
       "      <td>Out of Stock</td>\n",
       "    </tr>\n",
       "    <tr>\n",
       "      <th>28</th>\n",
       "      <td>Ninja Gaiden Black</td>\n",
       "      <td>88.99</td>\n",
       "      <td>4</td>\n",
       "      <td>In Stock</td>\n",
       "    </tr>\n",
       "    <tr>\n",
       "      <th>29</th>\n",
       "      <td>Super Mario Advance 4: Super Mario Bros. 3</td>\n",
       "      <td>89.99</td>\n",
       "      <td>4</td>\n",
       "      <td>Out of Stock</td>\n",
       "    </tr>\n",
       "    <tr>\n",
       "      <th>30</th>\n",
       "      <td>Jet Grind Radio</td>\n",
       "      <td>83.99</td>\n",
       "      <td>4</td>\n",
       "      <td>In Stock</td>\n",
       "    </tr>\n",
       "    <tr>\n",
       "      <th>31</th>\n",
       "      <td>Grim Fandango</td>\n",
       "      <td>91.99</td>\n",
       "      <td>4</td>\n",
       "      <td>Out of Stock</td>\n",
       "    </tr>\n",
       "  </tbody>\n",
       "</table>\n",
       "</div>"
      ],
      "text/plain": [
       "                                                 Name  Price  Rating  \\\n",
       "0                The Legend of Zelda: Ocarina of Time  91.99       5   \n",
       "1                                  Super Mario Galaxy  91.99       5   \n",
       "2                                Super Mario Galaxy 2  91.99       5   \n",
       "3                                       Metroid Prime  89.99       5   \n",
       "4                                 Super Mario Odyssey  89.99       5   \n",
       "5                                Halo: Combat Evolved  87.99       5   \n",
       "6   The House in Fata Morgana - Dreams of the Reve...  83.99       5   \n",
       "7                                             NFL 2K1  62.99       5   \n",
       "8                          Uncharted 2: Among Thieves  88.99       5   \n",
       "9                                            Tekken 3  91.99       5   \n",
       "10                The Legend of Zelda: The Wind Waker  90.99       5   \n",
       "11                                       Gran Turismo  86.99       5   \n",
       "12                Metal Gear Solid 2: Sons of Liberty  88.99       5   \n",
       "13                       Grand Theft Auto Double Pack  81.99       5   \n",
       "14                   Baldur's Gate II: Shadows of Amn  91.99       5   \n",
       "15                           Tetris Effect: Connected  88.99       5   \n",
       "16            The Legend of Zelda Collector's Edition  89.99       5   \n",
       "17                             Gran Turismo 3: A-Spec  84.99       5   \n",
       "18            The Legend of Zelda: A Link to the Past  90.99       5   \n",
       "19                 The Legend of Zelda: Majora's Mask  91.99       5   \n",
       "20                                     The Last of Us  92.99       5   \n",
       "21                                    Persona 5 Royal  84.99       5   \n",
       "22                          The Last of Us Remastered  92.99       5   \n",
       "23            The Legend of Zelda: Ocarina of Time 3D  90.99       4   \n",
       "24                                       Chrono Cross  88.99       4   \n",
       "25                                       Gears of War  84.99       4   \n",
       "26                        Sid Meier's Civilization II  88.99       4   \n",
       "27                                             Halo 3  81.99       4   \n",
       "28                                 Ninja Gaiden Black  88.99       4   \n",
       "29         Super Mario Advance 4: Super Mario Bros. 3  89.99       4   \n",
       "30                                    Jet Grind Radio  83.99       4   \n",
       "31                                      Grim Fandango  91.99       4   \n",
       "\n",
       "    Availability  \n",
       "0        Unknown  \n",
       "1        Unknown  \n",
       "2        Unknown  \n",
       "3        Unknown  \n",
       "4        Unknown  \n",
       "5        Unknown  \n",
       "6        Unknown  \n",
       "7        Unknown  \n",
       "8        Unknown  \n",
       "9        Unknown  \n",
       "10       Unknown  \n",
       "11       Unknown  \n",
       "12       Unknown  \n",
       "13       Unknown  \n",
       "14       Unknown  \n",
       "15       Unknown  \n",
       "16       Unknown  \n",
       "17       Unknown  \n",
       "18       Unknown  \n",
       "19       Unknown  \n",
       "20      In Stock  \n",
       "21  Out of Stock  \n",
       "22      In Stock  \n",
       "23  Out of Stock  \n",
       "24      In Stock  \n",
       "25  Out of Stock  \n",
       "26      In Stock  \n",
       "27  Out of Stock  \n",
       "28      In Stock  \n",
       "29  Out of Stock  \n",
       "30      In Stock  \n",
       "31  Out of Stock  "
      ]
     },
     "execution_count": 30,
     "metadata": {},
     "output_type": "execute_result"
    }
   ],
   "source": [
    "data.head(32)"
   ]
  },
  {
   "cell_type": "code",
   "execution_count": 28,
   "metadata": {},
   "outputs": [
    {
     "data": {
      "image/png": "[encoded data removed]",
      "text/plain": [
       "<Figure size 640x480 with 1 Axes>"
      ]
     },
     "metadata": {},
     "output_type": "display_data"
    }
   ],
   "source": [
    "plt.hist(data['Price'], bins=10, color='skyblue', edgecolor='black')\n",
    "plt.xlabel('Price (€)')\n",
    "plt.ylabel('Frequency')\n",
    "plt.title('Price Distribution of Products')\n",
    "plt.show()"
   ]
  },
  {
   "cell_type": "markdown",
   "metadata": {
    "id": "UyMTnSHn681f"
   },
   "source": [
    "# Laboratory Exercise - Bonus Task (+ 2 points)"
   ]
  },
  {
   "cell_type": "markdown",
   "metadata": {
    "id": "aMhYrG8V7hKY"
   },
   "source": [
    "As an additional task, you will need to click on each product listed on the page, proceed to the individual page for each product, and extract the product description. Subsequently, you are required to compute both the mean and standard deviation of the number of characters of the product descriptions."
   ]
  },
  {
   "cell_type": "markdown",
   "metadata": {
    "id": "jQIBbGWS9-tx"
   },
   "source": [
    "## Hints\n",
    "- To click on a specific `element` on a web page use `element.click()`.\n",
    "- To navigate back to the previous page use `browser.back()`."
   ]
  },
  {
   "cell_type": "markdown",
   "metadata": {
    "id": "lxPS-iXi-5fO"
   },
   "source": [
    "## Solution"
   ]
  },
  {
   "cell_type": "code",
   "execution_count": 7,
   "metadata": {
    "id": "kbuPg7136_2q"
   },
   "outputs": [],
   "source": [
    "# Write your code here. Add as many code boxes as you need.\n",
    "import time\n",
    "import numpy as np"
   ]
  },
  {
   "cell_type": "code",
   "execution_count": 19,
   "metadata": {},
   "outputs": [],
   "source": [
    "url = \"https://sandbox.oxylabs.io/products\"\n",
    "browser.get(url)\n",
    "descriptions = []\n",
    "for product_id in range(1,33):\n",
    "    \n",
    "    product_url = f\"{url}/{product_id}\"\n",
    "    browser.get(product_url)\n",
    "    \n",
    "\n",
    "    time.sleep(1)\n",
    "\n",
    "\n",
    "    try:\n",
    "        description_element = browser.find_element(By.CLASS_NAME, 'description')\n",
    "        description_text = description_element.text\n",
    "        descriptions.append(description_text)\n",
    "    except:\n",
    "        descriptions.append(\"No description available\")\n",
    "\n",
    "\n",
    "\n",
    "browser.quit()"
   ]
  },
  {
   "cell_type": "code",
   "execution_count": 21,
   "metadata": {},
   "outputs": [],
   "source": [
    "data = pd.DataFrame({\n",
    "    'Description': descriptions\n",
    "})"
   ]
  },
  {
   "cell_type": "code",
   "execution_count": 23,
   "metadata": {},
   "outputs": [
    {
     "data": {
      "text/html": [
       "<div>\n",
       "<style scoped>\n",
       "    .dataframe tbody tr th:only-of-type {\n",
       "        vertical-align: middle;\n",
       "    }\n",
       "\n",
       "    .dataframe tbody tr th {\n",
       "        vertical-align: top;\n",
       "    }\n",
       "\n",
       "    .dataframe thead th {\n",
       "        text-align: right;\n",
       "    }\n",
       "</style>\n",
       "<table border=\"1\" class=\"dataframe\">\n",
       "  <thead>\n",
       "    <tr style=\"text-align: right;\">\n",
       "      <th></th>\n",
       "      <th>Description</th>\n",
       "    </tr>\n",
       "  </thead>\n",
       "  <tbody>\n",
       "    <tr>\n",
       "      <th>0</th>\n",
       "      <td>As a young boy, Link is tricked by Ganondorf, ...</td>\n",
       "    </tr>\n",
       "    <tr>\n",
       "      <th>1</th>\n",
       "      <td>[Metacritic's 2007 Wii Game of the Year] The u...</td>\n",
       "    </tr>\n",
       "    <tr>\n",
       "      <th>2</th>\n",
       "      <td>Super Mario Galaxy 2, the sequel to the galaxy...</td>\n",
       "    </tr>\n",
       "    <tr>\n",
       "      <th>3</th>\n",
       "      <td>Samus returns in a new mission to unravel the ...</td>\n",
       "    </tr>\n",
       "    <tr>\n",
       "      <th>4</th>\n",
       "      <td>New Evolution of Mario Sandbox-Style Gameplay....</td>\n",
       "    </tr>\n",
       "  </tbody>\n",
       "</table>\n",
       "</div>"
      ],
      "text/plain": [
       "                                         Description\n",
       "0  As a young boy, Link is tricked by Ganondorf, ...\n",
       "1  [Metacritic's 2007 Wii Game of the Year] The u...\n",
       "2  Super Mario Galaxy 2, the sequel to the galaxy...\n",
       "3  Samus returns in a new mission to unravel the ...\n",
       "4  New Evolution of Mario Sandbox-Style Gameplay...."
      ]
     },
     "execution_count": 23,
     "metadata": {},
     "output_type": "execute_result"
    }
   ],
   "source": [
    "data.head(5)"
   ]
  },
  {
   "cell_type": "code",
   "execution_count": 25,
   "metadata": {},
   "outputs": [],
   "source": [
    "description_lengths = data['Description'].apply(len)\n",
    "mean_length = description_lengths.mean()\n",
    "std_dev_length = description_lengths.std()"
   ]
  },
  {
   "cell_type": "code",
   "execution_count": 27,
   "metadata": {},
   "outputs": [
    {
     "name": "stdout",
     "output_type": "stream",
     "text": [
      "574.34375\n",
      "327.1822624515321\n"
     ]
    }
   ],
   "source": [
    "print(mean_length)\n",
    "print(std_dev_length)"
   ]
  }
 ],
 "metadata": {
  "colab": {
   "provenance": []
  },
  "kernelspec": {
   "display_name": "Python 3 (ipykernel)",
   "language": "python",
   "name": "python3"
  },
  "language_info": {
   "codemirror_mode": {
    "name": "ipython",
    "version": 3
   },
   "file_extension": ".py",
   "mimetype": "text/x-python",
   "name": "python",
   "nbconvert_exporter": "python",
   "pygments_lexer": "ipython3",
   "version": "3.12.4"
  }
 },
 "nbformat": 4,
 "nbformat_minor": 4
}
