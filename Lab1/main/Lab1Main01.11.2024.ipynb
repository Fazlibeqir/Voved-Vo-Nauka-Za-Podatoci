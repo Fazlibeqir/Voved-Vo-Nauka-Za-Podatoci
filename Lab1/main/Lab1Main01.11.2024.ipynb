{
 "cells": [
  {
   "cell_type": "markdown",
   "metadata": {
    "id": "IG0xXF7T0x2h"
   },
   "source": [
    "# Requirements"
   ]
  },
  {
   "cell_type": "code",
   "execution_count": 1,
   "metadata": {
    "id": "k75Qsxvc0zzZ"
   },
   "outputs": [],
   "source": [
    "from selenium import webdriver\n",
    "from selenium.webdriver.common.by import By\n",
    "import pandas as pd\n",
    "import matplotlib.pyplot as plt"
   ]
  },
  {
   "cell_type": "markdown",
   "metadata": {
    "id": "OqXF3IZU00_g"
   },
   "source": [
    "# Configuration"
   ]
  },
  {
   "cell_type": "code",
   "execution_count": 3,
   "metadata": {
    "id": "2MLM03DJ02TK"
   },
   "outputs": [],
   "source": [
    "options = webdriver.ChromeOptions()\n",
    "options.add_argument('--headless')\n",
    "options.add_argument('--no-sandbox')\n",
    "options.add_argument('--disable-dev-shm-usage')"
   ]
  },
  {
   "cell_type": "markdown",
   "metadata": {
    "id": "vhsS7FZU03uf"
   },
   "source": [
    "# Simple Usage"
   ]
  },
  {
   "cell_type": "code",
   "execution_count": 5,
   "metadata": {
    "id": "XAR-vEvw03hB"
   },
   "outputs": [],
   "source": [
    "# Initialize the webdriver.\n",
    "browser = webdriver.Chrome(options=options)"
   ]
  },
  {
   "cell_type": "code",
   "execution_count": 7,
   "metadata": {
    "id": "SRlMjKmz05uN"
   },
   "outputs": [],
   "source": [
    "# Navigate to a web page.\n",
    "browser.get('https://finance.yahoo.com/crypto')"
   ]
  },
  {
   "cell_type": "code",
   "execution_count": 8,
   "metadata": {
    "id": "XENkqBtc07ql"
   },
   "outputs": [],
   "source": [
    "# Print the page source code.\n",
    "# print(browser.page_source)"
   ]
  },
  {
   "cell_type": "markdown",
   "metadata": {
    "id": "M9CVMKMx0-SY"
   },
   "source": [
    "# Laboratory Exercise - Run Mode (8 points)"
   ]
  },
  {
   "cell_type": "markdown",
   "metadata": {
    "id": "dGHA83FS1Lqk"
   },
   "source": [
    "In this laboratory assignment, the goal is to perform web scraping using **Selenium** on the website https://finance.yahoo.com/crypto. The task includes the extraction of **Cryptocurrency names** and their **price** and **market cap**. Following this data extraction, you will construct a data frame to organize the collected data. Finally, you are expected to generate a histogram to provide a visual representation of the distribution of the prices."
   ]
  },
  {
   "cell_type": "markdown",
   "metadata": {
    "id": "TMBGzB374oRM"
   },
   "source": [
    "## Hints\n",
    "- To navigate to a specific page with a given URL, use the `browser.get(url)` method.\n",
    "- When selecting a single element, use `browser.find_element`, and for multiple elements, use `browser.find_elements`. Both of these functions take two arguments. The first specifies the attribute used to locate the element on the web page, and the second specifies the value of that attribute.\n",
    "- The `By` class is used to specify which attribute is used to locate elements on a page. These are the various ways the attributes are used to locate elements on a page: `By.ID`, `By.NAME`, `By.TAG_NAME`, `BY.CLASS_NAME`, `By.CSS_SELECTOR`, etc.\n",
    "- For more details, check the documentation (https://selenium-python.readthedocs.io/locating-elements.html)."
   ]
  },
  {
   "cell_type": "markdown",
   "metadata": {
    "id": "MOV5K_ji5iQi"
   },
   "source": [
    "## Solution"
   ]
  },
  {
   "cell_type": "code",
   "execution_count": 13,
   "metadata": {
    "id": "Naeba0l31AVU"
   },
   "outputs": [],
   "source": [
    "# Write your code here.\n",
    "data = []"
   ]
  },
  {
   "cell_type": "code",
   "execution_count": 14,
   "metadata": {
    "id": "PFK34b5R5c0N"
   },
   "outputs": [
    {
     "name": "stdout",
     "output_type": "stream",
     "text": [
      "                   Name         Price Market Cap\n",
      "0           Bitcoin USD  70124.370000     1.387T\n",
      "1          Ethereum USD   2475.420000   298.082B\n",
      "2       Tether USDt USD      0.999600   120.453B\n",
      "3               BNB USD    569.620000    82.081B\n",
      "4            Solana USD    167.620000    78.935B\n",
      "5          USD Coin USD      1.000000    35.191B\n",
      "6               XRP USD      0.512881    29.167B\n",
      "7          Dogecoin USD      0.177114    25.976B\n",
      "8   Lido Staked ETH USD   2467.040000    24.047B\n",
      "9      Wrapped TRON USD      0.161674    14.134B\n",
      "10             TRON USD      0.162092    14.012B\n",
      "11          Toncoin USD      4.669300     11.88B\n",
      "12          Cardano USD      0.334905     11.72B\n",
      "13      Lido wstETH USD   2905.500000      10.9B\n",
      "14        Shiba Inu USD      0.000018     10.83B\n",
      "15  Wrapped Bitcoin USD  69407.980000    10.203B\n",
      "16        Avalanche USD     24.040000     9.789B\n",
      "17             WETH USD   2452.610000     8.278B\n",
      "18     Bitcoin Cash USD    343.480000     6.795B\n",
      "19        Chainlink USD     10.850000     6.802B\n",
      "20         Polkadot USD      3.902700     5.911B\n",
      "21              Sui USD      2.024300     5.761B\n",
      "22             USDS USD      0.996904     5.606B\n",
      "23     UNUS SED LEO USD      6.044800     5.592B\n",
      "24              Dai USD      1.000400     5.368B\n"
     ]
    }
   ],
   "source": [
    "# Add as many code boxes as you need.\n",
    "for i in range(25):\n",
    "    row = browser.find_element(By.CSS_SELECTOR, f'table tbody tr:nth-of-type({i+1})')\n",
    "    name = row.find_element(By.CSS_SELECTOR, 'td:nth-child(2) div').get_attribute(\"title\")\n",
    "    price = row.find_element(By.CSS_SELECTOR, 'td:nth-child(4) span').text\n",
    "    market_cap = row.find_element(By.CSS_SELECTOR, 'td:nth-child(7) span').text\n",
    "    data.append({\n",
    "            \"Name\": name, \n",
    "            \"Price\": float(price.replace(\",\", \"\").replace(\"$\", \"\")),\n",
    "            \"Market Cap\": market_cap})\n",
    "    \n",
    "browser.quit()\n",
    "df = pd.DataFrame(data)\n",
    "print(df.head(25))"
   ]
  },
  {
   "cell_type": "code",
   "execution_count": 15,
   "metadata": {},
   "outputs": [
    {
     "data": {
      "image/png": "[encoded data removed]",
      "text/plain": [
       "<Figure size 1000x600 with 1 Axes>"
      ]
     },
     "metadata": {},
     "output_type": "display_data"
    }
   ],
   "source": [
    "plt.figure(figsize=(10, 6))\n",
    "plt.hist(df['Price'], bins=10, color='skyblue', edgecolor='black')\n",
    "plt.xlabel('Price ($)')\n",
    "plt.ylabel('Frequency')\n",
    "plt.title('Distribution of Cryptocurrency Prices')\n",
    "plt.show()"
   ]
  },
  {
   "cell_type": "markdown",
   "metadata": {
    "id": "oCkjUHg75fNe"
   },
   "source": [
    "# Laboratory Exercise - Bonus Task (+ 2 points)"
   ]
  },
  {
   "cell_type": "markdown",
   "metadata": {
    "id": "t1qEBqeW8UJa"
   },
   "source": [
    "The additional task involves clicking on the symbol for BTC-USD and on the new page that appears click on the **Historical data**. You will extract the prices and market caps for the BTC-USD only, and make line plot for the price data."
   ]
  },
  {
   "cell_type": "markdown",
   "metadata": {
    "id": "DgXk1c4k-5dR"
   },
   "source": [
    "## Hints\n",
    "- To populate an input field (`input_field`) with some `text` use `input_field.send_keys(text)`.\n",
    "- To click on a specific `element` on a web page use `element.click()`."
   ]
  },
  {
   "cell_type": "markdown",
   "metadata": {
    "id": "AXxIi7bv9lPw"
   },
   "source": [
    "## Solution"
   ]
  },
  {
   "cell_type": "code",
   "execution_count": 7,
   "metadata": {},
   "outputs": [],
   "source": [
    "import time"
   ]
  },
  {
   "cell_type": "code",
   "execution_count": 9,
   "metadata": {
    "id": "ztX3X1pB5f4j"
   },
   "outputs": [],
   "source": [
    "# Write your code here.\n",
    "browser.get('https://finance.yahoo.com/crypto')\n",
    "\n",
    "try:\n",
    "    time.sleep(2)\n",
    "    btc_row = browser.find_element(By.CSS_SELECTOR, \"#\\\\30  > td:nth-child(1) > span > div > a\")\n",
    "    btc_row.click()\n",
    "except Exception as e:\n",
    "    print(\"Couldn't find BTC-USD row:\", e)\n",
    "    browser.quit()\n",
    "    exit()\n",
    "\n",
    "try:\n",
    "    time.sleep(3)\n",
    "    historical_data_tab = browser.find_element(By.CSS_SELECTOR, \"#nimbus-app > section > section > aside > section > nav > ul > li:nth-child(5) > a > span\")\n",
    "    historical_data_tab.click()\n",
    "except Exception as e:\n",
    "    print(\"Couldn't click on Historical Data tab:\", e)\n",
    "    browser.quit()\n",
    "    exit()\n",
    "\n",
    "time.sleep(5)\n",
    "\n",
    "history_data = []\n",
    "try:\n",
    "    rows = browser.find_elements(By.CSS_SELECTOR, \"table tbody tr\")\n",
    "    for row in rows:\n",
    "        date = row.find_element(By.CSS_SELECTOR, \"td:nth-child(1)\").text\n",
    "        close_price = row.find_element(By.CSS_SELECTOR, \"td:nth-child(5)\").text\n",
    "        market_cap = row.find_element(By.CSS_SELECTOR, \"td:nth-child(7)\").text\n",
    "\n",
    "        history_data.append({\n",
    "            \"Date\": date,\n",
    "            \"Close Price\": float(close_price.replace(\",\", \"\")),\n",
    "            \"Market Cap\": market_cap\n",
    "        })\n",
    "except Exception as e:\n",
    "    print(\"Error extracting historical data:\", e)\n",
    "\n",
    "browser.quit()\n"
   ]
  },
  {
   "cell_type": "code",
   "execution_count": null,
   "metadata": {},
   "outputs": [],
   "source": [
    "df = pd.DataFrame(data)\n",
    "df[\"Date\"] = pd.to_datetime(df[\"Date\"])\n",
    "df = df.sort_values(\"Date\")"
   ]
  },
  {
   "cell_type": "code",
   "execution_count": null,
   "metadata": {
    "id": "U-7KiLUF9hxp"
   },
   "outputs": [],
   "source": [
    "# Add as many code boxes as you need.\n",
    "plt.figure(figsize=(10, 6))\n",
    "plt.plot(df[\"Date\"], df[\"Close Price\"], label=\"BTC-USD Close Price\")\n",
    "plt.xlabel(\"Date\")\n",
    "plt.ylabel(\"Close Price ($)\")\n",
    "plt.title(\"BTC-USD Historical Close Prices\")\n",
    "plt.legend()\n",
    "plt.show()"
   ]
  }
 ],
 "metadata": {
  "colab": {
   "provenance": []
  },
  "kernelspec": {
   "display_name": "Python 3 (ipykernel)",
   "language": "python",
   "name": "python3"
  },
  "language_info": {
   "codemirror_mode": {
    "name": "ipython",
    "version": 3
   },
   "file_extension": ".py",
   "mimetype": "text/x-python",
   "name": "python",
   "nbconvert_exporter": "python",
   "pygments_lexer": "ipython3",
   "version": "3.12.4"
  }
 },
 "nbformat": 4,
 "nbformat_minor": 4
}
