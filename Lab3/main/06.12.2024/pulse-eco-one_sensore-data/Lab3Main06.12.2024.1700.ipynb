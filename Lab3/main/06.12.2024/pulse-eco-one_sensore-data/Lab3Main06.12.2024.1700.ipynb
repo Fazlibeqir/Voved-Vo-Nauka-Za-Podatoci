{
 "cells": [
  {
   "cell_type": "markdown",
   "metadata": {},
   "source": [
    "---\n",
    "# Imports"
   ]
  },
  {
   "cell_type": "code",
   "execution_count": 1,
   "metadata": {},
   "outputs": [],
   "source": [
    "# Write your code here. Add as many boxes as you need.\n",
    "import pandas as pd\n",
    "import numpy as np"
   ]
  },
  {
   "cell_type": "markdown",
   "metadata": {},
   "source": [
    "---\n",
    "# Laboratory Exercise - Run Mode (8 points)"
   ]
  },
  {
   "cell_type": "markdown",
   "metadata": {},
   "source": [
    "## Introduction\n",
    "In this laboratory assignment, the focus is on time series forecasting, specifically targeting the prediction of **atmospheric data** in Skopje. Your task involves employing bagging and boosting methods to forecast the **required measurements**. To accomplish this you will be using Pulse Eco Skopje measurements from **1 sensor**, which consists of the following values:\n",
    "\n",
    "- Measurement Type (humidity, noise_dba, pm10, pm25, temperature)\n",
    "- Value (Measured value for the given type)\n",
    "- Stamp (A timestamp of the measurement)\n",
    "\n",
    "**Note: You are required to perform this laboratory assignment on your local machine.**"
   ]
  },
  {
   "cell_type": "markdown",
   "metadata": {},
   "source": [
    "\n",
    "# Read the data"
   ]
  },
  {
   "cell_type": "markdown",
   "metadata": {},
   "source": [
    "You are required to load the given data from the `pulse_eco_one_sensor_data.csv` file. Load the data into a `pandas dataframe` and display the first 5 rows of the dataframe."
   ]
  },
  {
   "cell_type": "code",
   "execution_count": 2,
   "metadata": {},
   "outputs": [
    {
     "data": {
      "text/html": [
       "<div>\n",
       "<style scoped>\n",
       "    .dataframe tbody tr th:only-of-type {\n",
       "        vertical-align: middle;\n",
       "    }\n",
       "\n",
       "    .dataframe tbody tr th {\n",
       "        vertical-align: top;\n",
       "    }\n",
       "\n",
       "    .dataframe thead th {\n",
       "        text-align: right;\n",
       "    }\n",
       "</style>\n",
       "<table border=\"1\" class=\"dataframe\">\n",
       "  <thead>\n",
       "    <tr style=\"text-align: right;\">\n",
       "      <th></th>\n",
       "      <th>Type</th>\n",
       "      <th>Value</th>\n",
       "      <th>Stamp</th>\n",
       "    </tr>\n",
       "  </thead>\n",
       "  <tbody>\n",
       "    <tr>\n",
       "      <th>0</th>\n",
       "      <td>humidity</td>\n",
       "      <td>87</td>\n",
       "      <td>2023-01-01T01:06:45+01:00</td>\n",
       "    </tr>\n",
       "    <tr>\n",
       "      <th>1</th>\n",
       "      <td>humidity</td>\n",
       "      <td>87</td>\n",
       "      <td>2023-01-01T01:22:18+01:00</td>\n",
       "    </tr>\n",
       "    <tr>\n",
       "      <th>2</th>\n",
       "      <td>humidity</td>\n",
       "      <td>87</td>\n",
       "      <td>2023-01-01T01:37:50+01:00</td>\n",
       "    </tr>\n",
       "    <tr>\n",
       "      <th>3</th>\n",
       "      <td>humidity</td>\n",
       "      <td>87</td>\n",
       "      <td>2023-01-01T01:53:21+01:00</td>\n",
       "    </tr>\n",
       "    <tr>\n",
       "      <th>4</th>\n",
       "      <td>humidity</td>\n",
       "      <td>87</td>\n",
       "      <td>2023-01-01T02:08:53+01:00</td>\n",
       "    </tr>\n",
       "  </tbody>\n",
       "</table>\n",
       "</div>"
      ],
      "text/plain": [
       "       Type  Value                      Stamp\n",
       "0  humidity     87  2023-01-01T01:06:45+01:00\n",
       "1  humidity     87  2023-01-01T01:22:18+01:00\n",
       "2  humidity     87  2023-01-01T01:37:50+01:00\n",
       "3  humidity     87  2023-01-01T01:53:21+01:00\n",
       "4  humidity     87  2023-01-01T02:08:53+01:00"
      ]
     },
     "execution_count": 2,
     "metadata": {},
     "output_type": "execute_result"
    }
   ],
   "source": [
    "# Write your code here. Add as many boxes as you need.\n",
    "df = pd.read_csv('pulse_eco_one_sensor_data.csv')\n",
    "df.head()"
   ]
  },
  {
   "cell_type": "markdown",
   "metadata": {},
   "source": [
    "---\n",
    "# Data Preprocessing"
   ]
  },
  {
   "cell_type": "markdown",
   "metadata": {},
   "source": [
    "## Group the 'Stamp' column into 15 minute intervals"
   ]
  },
  {
   "cell_type": "markdown",
   "metadata": {},
   "source": [
    "As the sensor produce data in infrequent intervals, we need to resample the data to 15 minute intervals. To do this you will need to:\n",
    "\n",
    "- Convert the 'timestamp' column to a datetime object (use `pd.to_datetime` function ([Documentation](https://pandas.pydata.org/docs/reference/api/pandas.to_datetime.html)), with the `utc` argument set to `True`) \n",
    "- Floor each timestamp to the nearest 15 minutes (use the `.dt.floor` method ([Documentation](https://pandas.pydata.org/docs/reference/api/pandas.Series.dt.floor.html)))\n",
    "\n",
    "\n",
    "Example of `.dt.floor` for 1h:\n",
    "- data['TimeStamp'] = data['TimeStamp'].dt.floor('1h') "
   ]
  },
  {
   "cell_type": "code",
   "execution_count": 3,
   "metadata": {},
   "outputs": [],
   "source": [
    "df['Stamp'] = pd.to_datetime(df['Stamp'], utc=True)"
   ]
  },
  {
   "cell_type": "code",
   "execution_count": 4,
   "metadata": {},
   "outputs": [],
   "source": [
    "# Write your code here. Add as many boxes as you need.\n",
    "df['Stamp'] = df['Stamp'].dt.floor('15min')"
   ]
  },
  {
   "cell_type": "markdown",
   "metadata": {},
   "source": [
    "Check if the operation was successful by displaying the first 5 rows of the data frame."
   ]
  },
  {
   "cell_type": "code",
   "execution_count": 5,
   "metadata": {},
   "outputs": [
    {
     "data": {
      "text/html": [
       "<div>\n",
       "<style scoped>\n",
       "    .dataframe tbody tr th:only-of-type {\n",
       "        vertical-align: middle;\n",
       "    }\n",
       "\n",
       "    .dataframe tbody tr th {\n",
       "        vertical-align: top;\n",
       "    }\n",
       "\n",
       "    .dataframe thead th {\n",
       "        text-align: right;\n",
       "    }\n",
       "</style>\n",
       "<table border=\"1\" class=\"dataframe\">\n",
       "  <thead>\n",
       "    <tr style=\"text-align: right;\">\n",
       "      <th></th>\n",
       "      <th>Type</th>\n",
       "      <th>Value</th>\n",
       "      <th>Stamp</th>\n",
       "    </tr>\n",
       "  </thead>\n",
       "  <tbody>\n",
       "    <tr>\n",
       "      <th>0</th>\n",
       "      <td>humidity</td>\n",
       "      <td>87</td>\n",
       "      <td>2023-01-01 00:00:00+00:00</td>\n",
       "    </tr>\n",
       "    <tr>\n",
       "      <th>1</th>\n",
       "      <td>humidity</td>\n",
       "      <td>87</td>\n",
       "      <td>2023-01-01 00:15:00+00:00</td>\n",
       "    </tr>\n",
       "    <tr>\n",
       "      <th>2</th>\n",
       "      <td>humidity</td>\n",
       "      <td>87</td>\n",
       "      <td>2023-01-01 00:30:00+00:00</td>\n",
       "    </tr>\n",
       "    <tr>\n",
       "      <th>3</th>\n",
       "      <td>humidity</td>\n",
       "      <td>87</td>\n",
       "      <td>2023-01-01 00:45:00+00:00</td>\n",
       "    </tr>\n",
       "    <tr>\n",
       "      <th>4</th>\n",
       "      <td>humidity</td>\n",
       "      <td>87</td>\n",
       "      <td>2023-01-01 01:00:00+00:00</td>\n",
       "    </tr>\n",
       "  </tbody>\n",
       "</table>\n",
       "</div>"
      ],
      "text/plain": [
       "       Type  Value                     Stamp\n",
       "0  humidity     87 2023-01-01 00:00:00+00:00\n",
       "1  humidity     87 2023-01-01 00:15:00+00:00\n",
       "2  humidity     87 2023-01-01 00:30:00+00:00\n",
       "3  humidity     87 2023-01-01 00:45:00+00:00\n",
       "4  humidity     87 2023-01-01 01:00:00+00:00"
      ]
     },
     "execution_count": 5,
     "metadata": {},
     "output_type": "execute_result"
    }
   ],
   "source": [
    "# Write your code here. Add as many boxes as you need.\n",
    "df.head()"
   ]
  },
  {
   "cell_type": "markdown",
   "metadata": {},
   "source": [
    "## Sensor data to Pivot Table"
   ]
  },
  {
   "cell_type": "markdown",
   "metadata": {},
   "source": [
    "To combine each measurement with the corresponding weather data, we will create a pivot table with the weather data and group the measurements by timestamp. Moreover, we will resample for each 15min, to add missing measurements.\n",
    "\n",
    "**DO NOT MODIFY THE FOLLOWING CELLS, except for changing the df name.**\n",
    "\n",
    "This operations will be given by the following code:"
   ]
  },
  {
   "cell_type": "code",
   "execution_count": 6,
   "metadata": {},
   "outputs": [],
   "source": [
    "pivot = df.pivot_table(index='Stamp', columns='Type', values='Value', aggfunc='mean')\n",
    "pivot = pivot.resample('15min').first()"
   ]
  },
  {
   "cell_type": "code",
   "execution_count": 7,
   "metadata": {},
   "outputs": [
    {
     "data": {
      "text/html": [
       "<div>\n",
       "<style scoped>\n",
       "    .dataframe tbody tr th:only-of-type {\n",
       "        vertical-align: middle;\n",
       "    }\n",
       "\n",
       "    .dataframe tbody tr th {\n",
       "        vertical-align: top;\n",
       "    }\n",
       "\n",
       "    .dataframe thead th {\n",
       "        text-align: right;\n",
       "    }\n",
       "</style>\n",
       "<table border=\"1\" class=\"dataframe\">\n",
       "  <thead>\n",
       "    <tr style=\"text-align: right;\">\n",
       "      <th>Type</th>\n",
       "      <th>humidity</th>\n",
       "      <th>noise_dba</th>\n",
       "      <th>pm10</th>\n",
       "      <th>pm25</th>\n",
       "      <th>temperature</th>\n",
       "    </tr>\n",
       "    <tr>\n",
       "      <th>Stamp</th>\n",
       "      <th></th>\n",
       "      <th></th>\n",
       "      <th></th>\n",
       "      <th></th>\n",
       "      <th></th>\n",
       "    </tr>\n",
       "  </thead>\n",
       "  <tbody>\n",
       "    <tr>\n",
       "      <th>2023-01-01 00:00:00+00:00</th>\n",
       "      <td>87.0</td>\n",
       "      <td>45.0</td>\n",
       "      <td>473.0</td>\n",
       "      <td>156.0</td>\n",
       "      <td>5.0</td>\n",
       "    </tr>\n",
       "    <tr>\n",
       "      <th>2023-01-01 00:15:00+00:00</th>\n",
       "      <td>87.0</td>\n",
       "      <td>44.0</td>\n",
       "      <td>333.0</td>\n",
       "      <td>120.0</td>\n",
       "      <td>5.0</td>\n",
       "    </tr>\n",
       "    <tr>\n",
       "      <th>2023-01-01 00:30:00+00:00</th>\n",
       "      <td>87.0</td>\n",
       "      <td>46.0</td>\n",
       "      <td>328.0</td>\n",
       "      <td>108.0</td>\n",
       "      <td>5.0</td>\n",
       "    </tr>\n",
       "  </tbody>\n",
       "</table>\n",
       "</div>"
      ],
      "text/plain": [
       "Type                       humidity  noise_dba   pm10   pm25  temperature\n",
       "Stamp                                                                    \n",
       "2023-01-01 00:00:00+00:00      87.0       45.0  473.0  156.0          5.0\n",
       "2023-01-01 00:15:00+00:00      87.0       44.0  333.0  120.0          5.0\n",
       "2023-01-01 00:30:00+00:00      87.0       46.0  328.0  108.0          5.0"
      ]
     },
     "execution_count": 7,
     "metadata": {},
     "output_type": "execute_result"
    }
   ],
   "source": [
    "pivot.head(3)"
   ]
  },
  {
   "cell_type": "markdown",
   "metadata": {},
   "source": [
    "## Missing values"
   ]
  },
  {
   "cell_type": "markdown",
   "metadata": {},
   "source": [
    "### Check for missing values "
   ]
  },
  {
   "cell_type": "markdown",
   "metadata": {},
   "source": [
    "Check if there are any missing values in the pivot data."
   ]
  },
  {
   "cell_type": "code",
   "execution_count": 8,
   "metadata": {},
   "outputs": [
    {
     "data": {
      "text/plain": [
       "Type\n",
       "humidity       5010\n",
       "noise_dba      3804\n",
       "pm10           5317\n",
       "pm25           5312\n",
       "temperature    5010\n",
       "dtype: int64"
      ]
     },
     "execution_count": 8,
     "metadata": {},
     "output_type": "execute_result"
    }
   ],
   "source": [
    "# Write your code here. Add as many boxes as you need.\n",
    "pivot.isnull().sum()"
   ]
  },
  {
   "cell_type": "markdown",
   "metadata": {},
   "source": [
    "### Check for reason of missing values"
   ]
  },
  {
   "cell_type": "markdown",
   "metadata": {},
   "source": [
    "Check if there is any reason for the missing data in the dataset."
   ]
  },
  {
   "cell_type": "code",
   "execution_count": 9,
   "metadata": {},
   "outputs": [],
   "source": [
    "# Write your code here. Add as many boxes as you need."
   ]
  },
  {
   "cell_type": "markdown",
   "metadata": {},
   "source": [
    "### Deal with missing values (Interpolation)"
   ]
  },
  {
   "cell_type": "markdown",
   "metadata": {},
   "source": [
    "Use the `Interpolation` method to fill in the missing values in the dataset."
   ]
  },
  {
   "cell_type": "code",
   "execution_count": 10,
   "metadata": {},
   "outputs": [],
   "source": [
    "# Write your code here. Add as many boxes as you need.\n",
    "pivot.interpolate(method='time', inplace=True)"
   ]
  },
  {
   "cell_type": "markdown",
   "metadata": {},
   "source": [
    "#### Check if there are any missing values (Sanity Check)"
   ]
  },
  {
   "cell_type": "markdown",
   "metadata": {},
   "source": [
    "Recheck for missing values."
   ]
  },
  {
   "cell_type": "code",
   "execution_count": 11,
   "metadata": {},
   "outputs": [
    {
     "data": {
      "text/plain": [
       "Type\n",
       "humidity       0\n",
       "noise_dba      0\n",
       "pm10           0\n",
       "pm25           0\n",
       "temperature    0\n",
       "dtype: int64"
      ]
     },
     "execution_count": 11,
     "metadata": {},
     "output_type": "execute_result"
    }
   ],
   "source": [
    "# Write your code here. Add as many boxes as you need.\n",
    "pivot.isnull().sum()"
   ]
  },
  {
   "cell_type": "markdown",
   "metadata": {},
   "source": [
    "---\n",
    "# Feature Engineering"
   ]
  },
  {
   "cell_type": "markdown",
   "metadata": {},
   "source": [
    "## Drop Noise DBA as it is not relevant."
   ]
  },
  {
   "cell_type": "code",
   "execution_count": 12,
   "metadata": {},
   "outputs": [],
   "source": [
    "# Write your code here. Add as many boxes as you need.\n",
    "pivot.drop(columns=['noise_dba'],inplace=True)"
   ]
  },
  {
   "cell_type": "markdown",
   "metadata": {},
   "source": [
    "Check that the drop was successful."
   ]
  },
  {
   "cell_type": "code",
   "execution_count": 13,
   "metadata": {},
   "outputs": [
    {
     "data": {
      "text/html": [
       "<div>\n",
       "<style scoped>\n",
       "    .dataframe tbody tr th:only-of-type {\n",
       "        vertical-align: middle;\n",
       "    }\n",
       "\n",
       "    .dataframe tbody tr th {\n",
       "        vertical-align: top;\n",
       "    }\n",
       "\n",
       "    .dataframe thead th {\n",
       "        text-align: right;\n",
       "    }\n",
       "</style>\n",
       "<table border=\"1\" class=\"dataframe\">\n",
       "  <thead>\n",
       "    <tr style=\"text-align: right;\">\n",
       "      <th>Type</th>\n",
       "      <th>humidity</th>\n",
       "      <th>pm10</th>\n",
       "      <th>pm25</th>\n",
       "      <th>temperature</th>\n",
       "    </tr>\n",
       "    <tr>\n",
       "      <th>Stamp</th>\n",
       "      <th></th>\n",
       "      <th></th>\n",
       "      <th></th>\n",
       "      <th></th>\n",
       "    </tr>\n",
       "  </thead>\n",
       "  <tbody>\n",
       "    <tr>\n",
       "      <th>2023-01-01 00:00:00+00:00</th>\n",
       "      <td>87.0</td>\n",
       "      <td>473.0</td>\n",
       "      <td>156.0</td>\n",
       "      <td>5.0</td>\n",
       "    </tr>\n",
       "    <tr>\n",
       "      <th>2023-01-01 00:15:00+00:00</th>\n",
       "      <td>87.0</td>\n",
       "      <td>333.0</td>\n",
       "      <td>120.0</td>\n",
       "      <td>5.0</td>\n",
       "    </tr>\n",
       "    <tr>\n",
       "      <th>2023-01-01 00:30:00+00:00</th>\n",
       "      <td>87.0</td>\n",
       "      <td>328.0</td>\n",
       "      <td>108.0</td>\n",
       "      <td>5.0</td>\n",
       "    </tr>\n",
       "    <tr>\n",
       "      <th>2023-01-01 00:45:00+00:00</th>\n",
       "      <td>87.0</td>\n",
       "      <td>415.0</td>\n",
       "      <td>125.0</td>\n",
       "      <td>5.0</td>\n",
       "    </tr>\n",
       "    <tr>\n",
       "      <th>2023-01-01 01:00:00+00:00</th>\n",
       "      <td>87.0</td>\n",
       "      <td>341.0</td>\n",
       "      <td>110.0</td>\n",
       "      <td>5.0</td>\n",
       "    </tr>\n",
       "  </tbody>\n",
       "</table>\n",
       "</div>"
      ],
      "text/plain": [
       "Type                       humidity   pm10   pm25  temperature\n",
       "Stamp                                                         \n",
       "2023-01-01 00:00:00+00:00      87.0  473.0  156.0          5.0\n",
       "2023-01-01 00:15:00+00:00      87.0  333.0  120.0          5.0\n",
       "2023-01-01 00:30:00+00:00      87.0  328.0  108.0          5.0\n",
       "2023-01-01 00:45:00+00:00      87.0  415.0  125.0          5.0\n",
       "2023-01-01 01:00:00+00:00      87.0  341.0  110.0          5.0"
      ]
     },
     "execution_count": 13,
     "metadata": {},
     "output_type": "execute_result"
    }
   ],
   "source": [
    "# Write your code here. Add as many boxes as you need.\n",
    "pivot.head()"
   ]
  },
  {
   "cell_type": "markdown",
   "metadata": {},
   "source": [
    "## Create Lag Features (3 prev values) for each measurement"
   ]
  },
  {
   "cell_type": "markdown",
   "metadata": {},
   "source": [
    "Apply a lag of 15min, 30min, and 45min (3x15min intervals) to each feature, creating a set of features representing the meteorological conditions from the previous 45 minutes. To maintain dataset integrity, eliminate any resulting missing values at the beginning of the dataset.\n",
    "\n",
    "Hint: Use `df['column_name'].shift(period)`. Check the documentation at https://pandas.pydata.org/docs/reference/api/pandas.DataFrame.shift.html."
   ]
  },
  {
   "cell_type": "code",
   "execution_count": 14,
   "metadata": {},
   "outputs": [
    {
     "data": {
      "text/html": [
       "<div>\n",
       "<style scoped>\n",
       "    .dataframe tbody tr th:only-of-type {\n",
       "        vertical-align: middle;\n",
       "    }\n",
       "\n",
       "    .dataframe tbody tr th {\n",
       "        vertical-align: top;\n",
       "    }\n",
       "\n",
       "    .dataframe thead th {\n",
       "        text-align: right;\n",
       "    }\n",
       "</style>\n",
       "<table border=\"1\" class=\"dataframe\">\n",
       "  <thead>\n",
       "    <tr style=\"text-align: right;\">\n",
       "      <th>Type</th>\n",
       "      <th>humidity</th>\n",
       "      <th>pm10</th>\n",
       "      <th>pm25</th>\n",
       "      <th>temperature</th>\n",
       "      <th>humidity_lag_1</th>\n",
       "      <th>pm10_lag_1</th>\n",
       "      <th>pm25_lag_1</th>\n",
       "      <th>temperature_lag_1</th>\n",
       "      <th>humidity_lag_2</th>\n",
       "      <th>pm10_lag_2</th>\n",
       "      <th>pm25_lag_2</th>\n",
       "      <th>temperature_lag_2</th>\n",
       "      <th>humidity_lag_3</th>\n",
       "      <th>pm10_lag_3</th>\n",
       "      <th>pm25_lag_3</th>\n",
       "      <th>temperature_lag_3</th>\n",
       "    </tr>\n",
       "    <tr>\n",
       "      <th>Stamp</th>\n",
       "      <th></th>\n",
       "      <th></th>\n",
       "      <th></th>\n",
       "      <th></th>\n",
       "      <th></th>\n",
       "      <th></th>\n",
       "      <th></th>\n",
       "      <th></th>\n",
       "      <th></th>\n",
       "      <th></th>\n",
       "      <th></th>\n",
       "      <th></th>\n",
       "      <th></th>\n",
       "      <th></th>\n",
       "      <th></th>\n",
       "      <th></th>\n",
       "    </tr>\n",
       "  </thead>\n",
       "  <tbody>\n",
       "    <tr>\n",
       "      <th>2023-01-01 00:45:00+00:00</th>\n",
       "      <td>87.0</td>\n",
       "      <td>415.0</td>\n",
       "      <td>125.0</td>\n",
       "      <td>5.0</td>\n",
       "      <td>87.0</td>\n",
       "      <td>328.0</td>\n",
       "      <td>108.0</td>\n",
       "      <td>5.0</td>\n",
       "      <td>87.0</td>\n",
       "      <td>333.0</td>\n",
       "      <td>120.0</td>\n",
       "      <td>5.0</td>\n",
       "      <td>87.0</td>\n",
       "      <td>473.0</td>\n",
       "      <td>156.0</td>\n",
       "      <td>5.0</td>\n",
       "    </tr>\n",
       "    <tr>\n",
       "      <th>2023-01-01 01:00:00+00:00</th>\n",
       "      <td>87.0</td>\n",
       "      <td>341.0</td>\n",
       "      <td>110.0</td>\n",
       "      <td>5.0</td>\n",
       "      <td>87.0</td>\n",
       "      <td>415.0</td>\n",
       "      <td>125.0</td>\n",
       "      <td>5.0</td>\n",
       "      <td>87.0</td>\n",
       "      <td>328.0</td>\n",
       "      <td>108.0</td>\n",
       "      <td>5.0</td>\n",
       "      <td>87.0</td>\n",
       "      <td>333.0</td>\n",
       "      <td>120.0</td>\n",
       "      <td>5.0</td>\n",
       "    </tr>\n",
       "    <tr>\n",
       "      <th>2023-01-01 01:15:00+00:00</th>\n",
       "      <td>87.0</td>\n",
       "      <td>326.0</td>\n",
       "      <td>110.0</td>\n",
       "      <td>5.0</td>\n",
       "      <td>87.0</td>\n",
       "      <td>341.0</td>\n",
       "      <td>110.0</td>\n",
       "      <td>5.0</td>\n",
       "      <td>87.0</td>\n",
       "      <td>415.0</td>\n",
       "      <td>125.0</td>\n",
       "      <td>5.0</td>\n",
       "      <td>87.0</td>\n",
       "      <td>328.0</td>\n",
       "      <td>108.0</td>\n",
       "      <td>5.0</td>\n",
       "    </tr>\n",
       "    <tr>\n",
       "      <th>2023-01-01 01:30:00+00:00</th>\n",
       "      <td>87.0</td>\n",
       "      <td>330.0</td>\n",
       "      <td>110.0</td>\n",
       "      <td>5.0</td>\n",
       "      <td>87.0</td>\n",
       "      <td>326.0</td>\n",
       "      <td>110.0</td>\n",
       "      <td>5.0</td>\n",
       "      <td>87.0</td>\n",
       "      <td>341.0</td>\n",
       "      <td>110.0</td>\n",
       "      <td>5.0</td>\n",
       "      <td>87.0</td>\n",
       "      <td>415.0</td>\n",
       "      <td>125.0</td>\n",
       "      <td>5.0</td>\n",
       "    </tr>\n",
       "    <tr>\n",
       "      <th>2023-01-01 01:45:00+00:00</th>\n",
       "      <td>87.0</td>\n",
       "      <td>337.0</td>\n",
       "      <td>112.0</td>\n",
       "      <td>5.0</td>\n",
       "      <td>87.0</td>\n",
       "      <td>330.0</td>\n",
       "      <td>110.0</td>\n",
       "      <td>5.0</td>\n",
       "      <td>87.0</td>\n",
       "      <td>326.0</td>\n",
       "      <td>110.0</td>\n",
       "      <td>5.0</td>\n",
       "      <td>87.0</td>\n",
       "      <td>341.0</td>\n",
       "      <td>110.0</td>\n",
       "      <td>5.0</td>\n",
       "    </tr>\n",
       "    <tr>\n",
       "      <th>...</th>\n",
       "      <td>...</td>\n",
       "      <td>...</td>\n",
       "      <td>...</td>\n",
       "      <td>...</td>\n",
       "      <td>...</td>\n",
       "      <td>...</td>\n",
       "      <td>...</td>\n",
       "      <td>...</td>\n",
       "      <td>...</td>\n",
       "      <td>...</td>\n",
       "      <td>...</td>\n",
       "      <td>...</td>\n",
       "      <td>...</td>\n",
       "      <td>...</td>\n",
       "      <td>...</td>\n",
       "      <td>...</td>\n",
       "    </tr>\n",
       "    <tr>\n",
       "      <th>2024-11-21 21:45:00+00:00</th>\n",
       "      <td>74.0</td>\n",
       "      <td>108.0</td>\n",
       "      <td>47.0</td>\n",
       "      <td>2.0</td>\n",
       "      <td>74.0</td>\n",
       "      <td>107.0</td>\n",
       "      <td>49.0</td>\n",
       "      <td>2.0</td>\n",
       "      <td>73.0</td>\n",
       "      <td>115.0</td>\n",
       "      <td>52.0</td>\n",
       "      <td>3.0</td>\n",
       "      <td>71.0</td>\n",
       "      <td>119.0</td>\n",
       "      <td>49.0</td>\n",
       "      <td>3.0</td>\n",
       "    </tr>\n",
       "    <tr>\n",
       "      <th>2024-11-21 22:00:00+00:00</th>\n",
       "      <td>74.0</td>\n",
       "      <td>79.0</td>\n",
       "      <td>35.0</td>\n",
       "      <td>2.0</td>\n",
       "      <td>74.0</td>\n",
       "      <td>108.0</td>\n",
       "      <td>47.0</td>\n",
       "      <td>2.0</td>\n",
       "      <td>74.0</td>\n",
       "      <td>107.0</td>\n",
       "      <td>49.0</td>\n",
       "      <td>2.0</td>\n",
       "      <td>73.0</td>\n",
       "      <td>115.0</td>\n",
       "      <td>52.0</td>\n",
       "      <td>3.0</td>\n",
       "    </tr>\n",
       "    <tr>\n",
       "      <th>2024-11-21 22:15:00+00:00</th>\n",
       "      <td>74.0</td>\n",
       "      <td>81.0</td>\n",
       "      <td>33.0</td>\n",
       "      <td>2.0</td>\n",
       "      <td>74.0</td>\n",
       "      <td>79.0</td>\n",
       "      <td>35.0</td>\n",
       "      <td>2.0</td>\n",
       "      <td>74.0</td>\n",
       "      <td>108.0</td>\n",
       "      <td>47.0</td>\n",
       "      <td>2.0</td>\n",
       "      <td>74.0</td>\n",
       "      <td>107.0</td>\n",
       "      <td>49.0</td>\n",
       "      <td>2.0</td>\n",
       "    </tr>\n",
       "    <tr>\n",
       "      <th>2024-11-21 22:30:00+00:00</th>\n",
       "      <td>74.0</td>\n",
       "      <td>70.0</td>\n",
       "      <td>32.0</td>\n",
       "      <td>2.0</td>\n",
       "      <td>74.0</td>\n",
       "      <td>81.0</td>\n",
       "      <td>33.0</td>\n",
       "      <td>2.0</td>\n",
       "      <td>74.0</td>\n",
       "      <td>79.0</td>\n",
       "      <td>35.0</td>\n",
       "      <td>2.0</td>\n",
       "      <td>74.0</td>\n",
       "      <td>108.0</td>\n",
       "      <td>47.0</td>\n",
       "      <td>2.0</td>\n",
       "    </tr>\n",
       "    <tr>\n",
       "      <th>2024-11-21 22:45:00+00:00</th>\n",
       "      <td>74.0</td>\n",
       "      <td>51.0</td>\n",
       "      <td>22.0</td>\n",
       "      <td>2.0</td>\n",
       "      <td>74.0</td>\n",
       "      <td>70.0</td>\n",
       "      <td>32.0</td>\n",
       "      <td>2.0</td>\n",
       "      <td>74.0</td>\n",
       "      <td>81.0</td>\n",
       "      <td>33.0</td>\n",
       "      <td>2.0</td>\n",
       "      <td>74.0</td>\n",
       "      <td>79.0</td>\n",
       "      <td>35.0</td>\n",
       "      <td>2.0</td>\n",
       "    </tr>\n",
       "  </tbody>\n",
       "</table>\n",
       "<p>66329 rows × 16 columns</p>\n",
       "</div>"
      ],
      "text/plain": [
       "Type                       humidity   pm10   pm25  temperature  \\\n",
       "Stamp                                                            \n",
       "2023-01-01 00:45:00+00:00      87.0  415.0  125.0          5.0   \n",
       "2023-01-01 01:00:00+00:00      87.0  341.0  110.0          5.0   \n",
       "2023-01-01 01:15:00+00:00      87.0  326.0  110.0          5.0   \n",
       "2023-01-01 01:30:00+00:00      87.0  330.0  110.0          5.0   \n",
       "2023-01-01 01:45:00+00:00      87.0  337.0  112.0          5.0   \n",
       "...                             ...    ...    ...          ...   \n",
       "2024-11-21 21:45:00+00:00      74.0  108.0   47.0          2.0   \n",
       "2024-11-21 22:00:00+00:00      74.0   79.0   35.0          2.0   \n",
       "2024-11-21 22:15:00+00:00      74.0   81.0   33.0          2.0   \n",
       "2024-11-21 22:30:00+00:00      74.0   70.0   32.0          2.0   \n",
       "2024-11-21 22:45:00+00:00      74.0   51.0   22.0          2.0   \n",
       "\n",
       "Type                       humidity_lag_1  pm10_lag_1  pm25_lag_1  \\\n",
       "Stamp                                                               \n",
       "2023-01-01 00:45:00+00:00            87.0       328.0       108.0   \n",
       "2023-01-01 01:00:00+00:00            87.0       415.0       125.0   \n",
       "2023-01-01 01:15:00+00:00            87.0       341.0       110.0   \n",
       "2023-01-01 01:30:00+00:00            87.0       326.0       110.0   \n",
       "2023-01-01 01:45:00+00:00            87.0       330.0       110.0   \n",
       "...                                   ...         ...         ...   \n",
       "2024-11-21 21:45:00+00:00            74.0       107.0        49.0   \n",
       "2024-11-21 22:00:00+00:00            74.0       108.0        47.0   \n",
       "2024-11-21 22:15:00+00:00            74.0        79.0        35.0   \n",
       "2024-11-21 22:30:00+00:00            74.0        81.0        33.0   \n",
       "2024-11-21 22:45:00+00:00            74.0        70.0        32.0   \n",
       "\n",
       "Type                       temperature_lag_1  humidity_lag_2  pm10_lag_2  \\\n",
       "Stamp                                                                      \n",
       "2023-01-01 00:45:00+00:00                5.0            87.0       333.0   \n",
       "2023-01-01 01:00:00+00:00                5.0            87.0       328.0   \n",
       "2023-01-01 01:15:00+00:00                5.0            87.0       415.0   \n",
       "2023-01-01 01:30:00+00:00                5.0            87.0       341.0   \n",
       "2023-01-01 01:45:00+00:00                5.0            87.0       326.0   \n",
       "...                                      ...             ...         ...   \n",
       "2024-11-21 21:45:00+00:00                2.0            73.0       115.0   \n",
       "2024-11-21 22:00:00+00:00                2.0            74.0       107.0   \n",
       "2024-11-21 22:15:00+00:00                2.0            74.0       108.0   \n",
       "2024-11-21 22:30:00+00:00                2.0            74.0        79.0   \n",
       "2024-11-21 22:45:00+00:00                2.0            74.0        81.0   \n",
       "\n",
       "Type                       pm25_lag_2  temperature_lag_2  humidity_lag_3  \\\n",
       "Stamp                                                                      \n",
       "2023-01-01 00:45:00+00:00       120.0                5.0            87.0   \n",
       "2023-01-01 01:00:00+00:00       108.0                5.0            87.0   \n",
       "2023-01-01 01:15:00+00:00       125.0                5.0            87.0   \n",
       "2023-01-01 01:30:00+00:00       110.0                5.0            87.0   \n",
       "2023-01-01 01:45:00+00:00       110.0                5.0            87.0   \n",
       "...                               ...                ...             ...   \n",
       "2024-11-21 21:45:00+00:00        52.0                3.0            71.0   \n",
       "2024-11-21 22:00:00+00:00        49.0                2.0            73.0   \n",
       "2024-11-21 22:15:00+00:00        47.0                2.0            74.0   \n",
       "2024-11-21 22:30:00+00:00        35.0                2.0            74.0   \n",
       "2024-11-21 22:45:00+00:00        33.0                2.0            74.0   \n",
       "\n",
       "Type                       pm10_lag_3  pm25_lag_3  temperature_lag_3  \n",
       "Stamp                                                                 \n",
       "2023-01-01 00:45:00+00:00       473.0       156.0                5.0  \n",
       "2023-01-01 01:00:00+00:00       333.0       120.0                5.0  \n",
       "2023-01-01 01:15:00+00:00       328.0       108.0                5.0  \n",
       "2023-01-01 01:30:00+00:00       415.0       125.0                5.0  \n",
       "2023-01-01 01:45:00+00:00       341.0       110.0                5.0  \n",
       "...                               ...         ...                ...  \n",
       "2024-11-21 21:45:00+00:00       119.0        49.0                3.0  \n",
       "2024-11-21 22:00:00+00:00       115.0        52.0                3.0  \n",
       "2024-11-21 22:15:00+00:00       107.0        49.0                2.0  \n",
       "2024-11-21 22:30:00+00:00       108.0        47.0                2.0  \n",
       "2024-11-21 22:45:00+00:00        79.0        35.0                2.0  \n",
       "\n",
       "[66329 rows x 16 columns]"
      ]
     },
     "execution_count": 14,
     "metadata": {},
     "output_type": "execute_result"
    }
   ],
   "source": [
    "# Write your code here. Add as many boxes as you need.\n",
    "for lag in range(1,4):\n",
    "    for col in ['humidity',\t'pm10',\t'pm25',\t'temperature']:\n",
    "        pivot[f'{col}_lag_{lag}'] = pivot[col].shift(lag)\n",
    "pivot.dropna()"
   ]
  },
  {
   "cell_type": "markdown",
   "metadata": {},
   "source": [
    "## Check Correlation between the extracted features and target"
   ]
  },
  {
   "cell_type": "code",
   "execution_count": 15,
   "metadata": {},
   "outputs": [
    {
     "data": {
      "text/html": [
       "<div>\n",
       "<style scoped>\n",
       "    .dataframe tbody tr th:only-of-type {\n",
       "        vertical-align: middle;\n",
       "    }\n",
       "\n",
       "    .dataframe tbody tr th {\n",
       "        vertical-align: top;\n",
       "    }\n",
       "\n",
       "    .dataframe thead th {\n",
       "        text-align: right;\n",
       "    }\n",
       "</style>\n",
       "<table border=\"1\" class=\"dataframe\">\n",
       "  <thead>\n",
       "    <tr style=\"text-align: right;\">\n",
       "      <th>Type</th>\n",
       "      <th>humidity</th>\n",
       "      <th>pm10</th>\n",
       "      <th>pm25</th>\n",
       "      <th>temperature</th>\n",
       "      <th>humidity_lag_1</th>\n",
       "      <th>pm10_lag_1</th>\n",
       "      <th>pm25_lag_1</th>\n",
       "      <th>temperature_lag_1</th>\n",
       "      <th>humidity_lag_2</th>\n",
       "      <th>pm10_lag_2</th>\n",
       "      <th>pm25_lag_2</th>\n",
       "      <th>temperature_lag_2</th>\n",
       "      <th>humidity_lag_3</th>\n",
       "      <th>pm10_lag_3</th>\n",
       "      <th>pm25_lag_3</th>\n",
       "      <th>temperature_lag_3</th>\n",
       "    </tr>\n",
       "    <tr>\n",
       "      <th>Type</th>\n",
       "      <th></th>\n",
       "      <th></th>\n",
       "      <th></th>\n",
       "      <th></th>\n",
       "      <th></th>\n",
       "      <th></th>\n",
       "      <th></th>\n",
       "      <th></th>\n",
       "      <th></th>\n",
       "      <th></th>\n",
       "      <th></th>\n",
       "      <th></th>\n",
       "      <th></th>\n",
       "      <th></th>\n",
       "      <th></th>\n",
       "      <th></th>\n",
       "    </tr>\n",
       "  </thead>\n",
       "  <tbody>\n",
       "    <tr>\n",
       "      <th>humidity</th>\n",
       "      <td>1.000000</td>\n",
       "      <td>0.255162</td>\n",
       "      <td>0.254214</td>\n",
       "      <td>-0.648651</td>\n",
       "      <td>0.997380</td>\n",
       "      <td>0.255920</td>\n",
       "      <td>0.254852</td>\n",
       "      <td>-0.647524</td>\n",
       "      <td>0.992945</td>\n",
       "      <td>0.256284</td>\n",
       "      <td>0.255096</td>\n",
       "      <td>-0.645521</td>\n",
       "      <td>0.987116</td>\n",
       "      <td>0.256440</td>\n",
       "      <td>0.255135</td>\n",
       "      <td>-0.642849</td>\n",
       "    </tr>\n",
       "    <tr>\n",
       "      <th>pm10</th>\n",
       "      <td>0.255162</td>\n",
       "      <td>1.000000</td>\n",
       "      <td>0.976441</td>\n",
       "      <td>-0.240952</td>\n",
       "      <td>0.254049</td>\n",
       "      <td>0.979657</td>\n",
       "      <td>0.965269</td>\n",
       "      <td>-0.240556</td>\n",
       "      <td>0.253000</td>\n",
       "      <td>0.971983</td>\n",
       "      <td>0.960323</td>\n",
       "      <td>-0.240148</td>\n",
       "      <td>0.251874</td>\n",
       "      <td>0.967354</td>\n",
       "      <td>0.956631</td>\n",
       "      <td>-0.239701</td>\n",
       "    </tr>\n",
       "    <tr>\n",
       "      <th>pm25</th>\n",
       "      <td>0.254214</td>\n",
       "      <td>0.976441</td>\n",
       "      <td>1.000000</td>\n",
       "      <td>-0.230558</td>\n",
       "      <td>0.253198</td>\n",
       "      <td>0.966452</td>\n",
       "      <td>0.989009</td>\n",
       "      <td>-0.230201</td>\n",
       "      <td>0.252162</td>\n",
       "      <td>0.961090</td>\n",
       "      <td>0.984429</td>\n",
       "      <td>-0.229842</td>\n",
       "      <td>0.251071</td>\n",
       "      <td>0.956351</td>\n",
       "      <td>0.980707</td>\n",
       "      <td>-0.229418</td>\n",
       "    </tr>\n",
       "    <tr>\n",
       "      <th>temperature</th>\n",
       "      <td>-0.648651</td>\n",
       "      <td>-0.240952</td>\n",
       "      <td>-0.230558</td>\n",
       "      <td>1.000000</td>\n",
       "      <td>-0.648594</td>\n",
       "      <td>-0.241248</td>\n",
       "      <td>-0.230782</td>\n",
       "      <td>0.998939</td>\n",
       "      <td>-0.647309</td>\n",
       "      <td>-0.241434</td>\n",
       "      <td>-0.230905</td>\n",
       "      <td>0.997660</td>\n",
       "      <td>-0.645026</td>\n",
       "      <td>-0.241528</td>\n",
       "      <td>-0.230947</td>\n",
       "      <td>0.996073</td>\n",
       "    </tr>\n",
       "    <tr>\n",
       "      <th>humidity_lag_1</th>\n",
       "      <td>0.997380</td>\n",
       "      <td>0.254049</td>\n",
       "      <td>0.253198</td>\n",
       "      <td>-0.648594</td>\n",
       "      <td>1.000000</td>\n",
       "      <td>0.255165</td>\n",
       "      <td>0.254217</td>\n",
       "      <td>-0.648645</td>\n",
       "      <td>0.997380</td>\n",
       "      <td>0.255921</td>\n",
       "      <td>0.254853</td>\n",
       "      <td>-0.647518</td>\n",
       "      <td>0.992945</td>\n",
       "      <td>0.256284</td>\n",
       "      <td>0.255097</td>\n",
       "      <td>-0.645514</td>\n",
       "    </tr>\n",
       "    <tr>\n",
       "      <th>pm10_lag_1</th>\n",
       "      <td>0.255920</td>\n",
       "      <td>0.979657</td>\n",
       "      <td>0.966452</td>\n",
       "      <td>-0.241248</td>\n",
       "      <td>0.255165</td>\n",
       "      <td>1.000000</td>\n",
       "      <td>0.976441</td>\n",
       "      <td>-0.240958</td>\n",
       "      <td>0.254052</td>\n",
       "      <td>0.979657</td>\n",
       "      <td>0.965269</td>\n",
       "      <td>-0.240562</td>\n",
       "      <td>0.253002</td>\n",
       "      <td>0.971983</td>\n",
       "      <td>0.960323</td>\n",
       "      <td>-0.240154</td>\n",
       "    </tr>\n",
       "    <tr>\n",
       "      <th>pm25_lag_1</th>\n",
       "      <td>0.254852</td>\n",
       "      <td>0.965269</td>\n",
       "      <td>0.989009</td>\n",
       "      <td>-0.230782</td>\n",
       "      <td>0.254217</td>\n",
       "      <td>0.976441</td>\n",
       "      <td>1.000000</td>\n",
       "      <td>-0.230565</td>\n",
       "      <td>0.253201</td>\n",
       "      <td>0.966452</td>\n",
       "      <td>0.989009</td>\n",
       "      <td>-0.230208</td>\n",
       "      <td>0.252165</td>\n",
       "      <td>0.961090</td>\n",
       "      <td>0.984429</td>\n",
       "      <td>-0.229849</td>\n",
       "    </tr>\n",
       "    <tr>\n",
       "      <th>temperature_lag_1</th>\n",
       "      <td>-0.647524</td>\n",
       "      <td>-0.240556</td>\n",
       "      <td>-0.230201</td>\n",
       "      <td>0.998939</td>\n",
       "      <td>-0.648645</td>\n",
       "      <td>-0.240958</td>\n",
       "      <td>-0.230565</td>\n",
       "      <td>1.000000</td>\n",
       "      <td>-0.648588</td>\n",
       "      <td>-0.241251</td>\n",
       "      <td>-0.230786</td>\n",
       "      <td>0.998939</td>\n",
       "      <td>-0.647302</td>\n",
       "      <td>-0.241435</td>\n",
       "      <td>-0.230909</td>\n",
       "      <td>0.997660</td>\n",
       "    </tr>\n",
       "    <tr>\n",
       "      <th>humidity_lag_2</th>\n",
       "      <td>0.992945</td>\n",
       "      <td>0.253000</td>\n",
       "      <td>0.252162</td>\n",
       "      <td>-0.647309</td>\n",
       "      <td>0.997380</td>\n",
       "      <td>0.254052</td>\n",
       "      <td>0.253201</td>\n",
       "      <td>-0.648588</td>\n",
       "      <td>1.000000</td>\n",
       "      <td>0.255166</td>\n",
       "      <td>0.254218</td>\n",
       "      <td>-0.648638</td>\n",
       "      <td>0.997380</td>\n",
       "      <td>0.255921</td>\n",
       "      <td>0.254854</td>\n",
       "      <td>-0.647511</td>\n",
       "    </tr>\n",
       "    <tr>\n",
       "      <th>pm10_lag_2</th>\n",
       "      <td>0.256284</td>\n",
       "      <td>0.971983</td>\n",
       "      <td>0.961090</td>\n",
       "      <td>-0.241434</td>\n",
       "      <td>0.255921</td>\n",
       "      <td>0.979657</td>\n",
       "      <td>0.966452</td>\n",
       "      <td>-0.241251</td>\n",
       "      <td>0.255166</td>\n",
       "      <td>1.000000</td>\n",
       "      <td>0.976441</td>\n",
       "      <td>-0.240962</td>\n",
       "      <td>0.254053</td>\n",
       "      <td>0.979657</td>\n",
       "      <td>0.965269</td>\n",
       "      <td>-0.240565</td>\n",
       "    </tr>\n",
       "    <tr>\n",
       "      <th>pm25_lag_2</th>\n",
       "      <td>0.255096</td>\n",
       "      <td>0.960323</td>\n",
       "      <td>0.984429</td>\n",
       "      <td>-0.230905</td>\n",
       "      <td>0.254853</td>\n",
       "      <td>0.965269</td>\n",
       "      <td>0.989009</td>\n",
       "      <td>-0.230786</td>\n",
       "      <td>0.254218</td>\n",
       "      <td>0.976441</td>\n",
       "      <td>1.000000</td>\n",
       "      <td>-0.230569</td>\n",
       "      <td>0.253203</td>\n",
       "      <td>0.966452</td>\n",
       "      <td>0.989009</td>\n",
       "      <td>-0.230212</td>\n",
       "    </tr>\n",
       "    <tr>\n",
       "      <th>temperature_lag_2</th>\n",
       "      <td>-0.645521</td>\n",
       "      <td>-0.240148</td>\n",
       "      <td>-0.229842</td>\n",
       "      <td>0.997660</td>\n",
       "      <td>-0.647518</td>\n",
       "      <td>-0.240562</td>\n",
       "      <td>-0.230208</td>\n",
       "      <td>0.998939</td>\n",
       "      <td>-0.648638</td>\n",
       "      <td>-0.240962</td>\n",
       "      <td>-0.230569</td>\n",
       "      <td>1.000000</td>\n",
       "      <td>-0.648582</td>\n",
       "      <td>-0.241253</td>\n",
       "      <td>-0.230790</td>\n",
       "      <td>0.998939</td>\n",
       "    </tr>\n",
       "    <tr>\n",
       "      <th>humidity_lag_3</th>\n",
       "      <td>0.987116</td>\n",
       "      <td>0.251874</td>\n",
       "      <td>0.251071</td>\n",
       "      <td>-0.645026</td>\n",
       "      <td>0.992945</td>\n",
       "      <td>0.253002</td>\n",
       "      <td>0.252165</td>\n",
       "      <td>-0.647302</td>\n",
       "      <td>0.997380</td>\n",
       "      <td>0.254053</td>\n",
       "      <td>0.253203</td>\n",
       "      <td>-0.648582</td>\n",
       "      <td>1.000000</td>\n",
       "      <td>0.255166</td>\n",
       "      <td>0.254219</td>\n",
       "      <td>-0.648632</td>\n",
       "    </tr>\n",
       "    <tr>\n",
       "      <th>pm10_lag_3</th>\n",
       "      <td>0.256440</td>\n",
       "      <td>0.967354</td>\n",
       "      <td>0.956351</td>\n",
       "      <td>-0.241528</td>\n",
       "      <td>0.256284</td>\n",
       "      <td>0.971983</td>\n",
       "      <td>0.961090</td>\n",
       "      <td>-0.241435</td>\n",
       "      <td>0.255921</td>\n",
       "      <td>0.979657</td>\n",
       "      <td>0.966452</td>\n",
       "      <td>-0.241253</td>\n",
       "      <td>0.255166</td>\n",
       "      <td>1.000000</td>\n",
       "      <td>0.976441</td>\n",
       "      <td>-0.240963</td>\n",
       "    </tr>\n",
       "    <tr>\n",
       "      <th>pm25_lag_3</th>\n",
       "      <td>0.255135</td>\n",
       "      <td>0.956631</td>\n",
       "      <td>0.980707</td>\n",
       "      <td>-0.230947</td>\n",
       "      <td>0.255097</td>\n",
       "      <td>0.960323</td>\n",
       "      <td>0.984429</td>\n",
       "      <td>-0.230909</td>\n",
       "      <td>0.254854</td>\n",
       "      <td>0.965269</td>\n",
       "      <td>0.989009</td>\n",
       "      <td>-0.230790</td>\n",
       "      <td>0.254219</td>\n",
       "      <td>0.976441</td>\n",
       "      <td>1.000000</td>\n",
       "      <td>-0.230573</td>\n",
       "    </tr>\n",
       "    <tr>\n",
       "      <th>temperature_lag_3</th>\n",
       "      <td>-0.642849</td>\n",
       "      <td>-0.239701</td>\n",
       "      <td>-0.229418</td>\n",
       "      <td>0.996073</td>\n",
       "      <td>-0.645514</td>\n",
       "      <td>-0.240154</td>\n",
       "      <td>-0.229849</td>\n",
       "      <td>0.997660</td>\n",
       "      <td>-0.647511</td>\n",
       "      <td>-0.240565</td>\n",
       "      <td>-0.230212</td>\n",
       "      <td>0.998939</td>\n",
       "      <td>-0.648632</td>\n",
       "      <td>-0.240963</td>\n",
       "      <td>-0.230573</td>\n",
       "      <td>1.000000</td>\n",
       "    </tr>\n",
       "  </tbody>\n",
       "</table>\n",
       "</div>"
      ],
      "text/plain": [
       "Type               humidity      pm10      pm25  temperature  humidity_lag_1  \\\n",
       "Type                                                                           \n",
       "humidity           1.000000  0.255162  0.254214    -0.648651        0.997380   \n",
       "pm10               0.255162  1.000000  0.976441    -0.240952        0.254049   \n",
       "pm25               0.254214  0.976441  1.000000    -0.230558        0.253198   \n",
       "temperature       -0.648651 -0.240952 -0.230558     1.000000       -0.648594   \n",
       "humidity_lag_1     0.997380  0.254049  0.253198    -0.648594        1.000000   \n",
       "pm10_lag_1         0.255920  0.979657  0.966452    -0.241248        0.255165   \n",
       "pm25_lag_1         0.254852  0.965269  0.989009    -0.230782        0.254217   \n",
       "temperature_lag_1 -0.647524 -0.240556 -0.230201     0.998939       -0.648645   \n",
       "humidity_lag_2     0.992945  0.253000  0.252162    -0.647309        0.997380   \n",
       "pm10_lag_2         0.256284  0.971983  0.961090    -0.241434        0.255921   \n",
       "pm25_lag_2         0.255096  0.960323  0.984429    -0.230905        0.254853   \n",
       "temperature_lag_2 -0.645521 -0.240148 -0.229842     0.997660       -0.647518   \n",
       "humidity_lag_3     0.987116  0.251874  0.251071    -0.645026        0.992945   \n",
       "pm10_lag_3         0.256440  0.967354  0.956351    -0.241528        0.256284   \n",
       "pm25_lag_3         0.255135  0.956631  0.980707    -0.230947        0.255097   \n",
       "temperature_lag_3 -0.642849 -0.239701 -0.229418     0.996073       -0.645514   \n",
       "\n",
       "Type               pm10_lag_1  pm25_lag_1  temperature_lag_1  humidity_lag_2  \\\n",
       "Type                                                                           \n",
       "humidity             0.255920    0.254852          -0.647524        0.992945   \n",
       "pm10                 0.979657    0.965269          -0.240556        0.253000   \n",
       "pm25                 0.966452    0.989009          -0.230201        0.252162   \n",
       "temperature         -0.241248   -0.230782           0.998939       -0.647309   \n",
       "humidity_lag_1       0.255165    0.254217          -0.648645        0.997380   \n",
       "pm10_lag_1           1.000000    0.976441          -0.240958        0.254052   \n",
       "pm25_lag_1           0.976441    1.000000          -0.230565        0.253201   \n",
       "temperature_lag_1   -0.240958   -0.230565           1.000000       -0.648588   \n",
       "humidity_lag_2       0.254052    0.253201          -0.648588        1.000000   \n",
       "pm10_lag_2           0.979657    0.966452          -0.241251        0.255166   \n",
       "pm25_lag_2           0.965269    0.989009          -0.230786        0.254218   \n",
       "temperature_lag_2   -0.240562   -0.230208           0.998939       -0.648638   \n",
       "humidity_lag_3       0.253002    0.252165          -0.647302        0.997380   \n",
       "pm10_lag_3           0.971983    0.961090          -0.241435        0.255921   \n",
       "pm25_lag_3           0.960323    0.984429          -0.230909        0.254854   \n",
       "temperature_lag_3   -0.240154   -0.229849           0.997660       -0.647511   \n",
       "\n",
       "Type               pm10_lag_2  pm25_lag_2  temperature_lag_2  humidity_lag_3  \\\n",
       "Type                                                                           \n",
       "humidity             0.256284    0.255096          -0.645521        0.987116   \n",
       "pm10                 0.971983    0.960323          -0.240148        0.251874   \n",
       "pm25                 0.961090    0.984429          -0.229842        0.251071   \n",
       "temperature         -0.241434   -0.230905           0.997660       -0.645026   \n",
       "humidity_lag_1       0.255921    0.254853          -0.647518        0.992945   \n",
       "pm10_lag_1           0.979657    0.965269          -0.240562        0.253002   \n",
       "pm25_lag_1           0.966452    0.989009          -0.230208        0.252165   \n",
       "temperature_lag_1   -0.241251   -0.230786           0.998939       -0.647302   \n",
       "humidity_lag_2       0.255166    0.254218          -0.648638        0.997380   \n",
       "pm10_lag_2           1.000000    0.976441          -0.240962        0.254053   \n",
       "pm25_lag_2           0.976441    1.000000          -0.230569        0.253203   \n",
       "temperature_lag_2   -0.240962   -0.230569           1.000000       -0.648582   \n",
       "humidity_lag_3       0.254053    0.253203          -0.648582        1.000000   \n",
       "pm10_lag_3           0.979657    0.966452          -0.241253        0.255166   \n",
       "pm25_lag_3           0.965269    0.989009          -0.230790        0.254219   \n",
       "temperature_lag_3   -0.240565   -0.230212           0.998939       -0.648632   \n",
       "\n",
       "Type               pm10_lag_3  pm25_lag_3  temperature_lag_3  \n",
       "Type                                                          \n",
       "humidity             0.256440    0.255135          -0.642849  \n",
       "pm10                 0.967354    0.956631          -0.239701  \n",
       "pm25                 0.956351    0.980707          -0.229418  \n",
       "temperature         -0.241528   -0.230947           0.996073  \n",
       "humidity_lag_1       0.256284    0.255097          -0.645514  \n",
       "pm10_lag_1           0.971983    0.960323          -0.240154  \n",
       "pm25_lag_1           0.961090    0.984429          -0.229849  \n",
       "temperature_lag_1   -0.241435   -0.230909           0.997660  \n",
       "humidity_lag_2       0.255921    0.254854          -0.647511  \n",
       "pm10_lag_2           0.979657    0.965269          -0.240565  \n",
       "pm25_lag_2           0.966452    0.989009          -0.230212  \n",
       "temperature_lag_2   -0.241253   -0.230790           0.998939  \n",
       "humidity_lag_3       0.255166    0.254219          -0.648632  \n",
       "pm10_lag_3           1.000000    0.976441          -0.240963  \n",
       "pm25_lag_3           0.976441    1.000000          -0.230573  \n",
       "temperature_lag_3   -0.240963   -0.230573           1.000000  "
      ]
     },
     "execution_count": 15,
     "metadata": {},
     "output_type": "execute_result"
    }
   ],
   "source": [
    "# Write your code here. Add as many boxes as you need.\n",
    "pivot.corr()"
   ]
  },
  {
   "cell_type": "markdown",
   "metadata": {},
   "source": [
    "---\n",
    "# Train and test models"
   ]
  },
  {
   "cell_type": "markdown",
   "metadata": {},
   "source": [
    "## Dataset Splitting\n",
    "Partition the dataset into training and testing sets with an 80:20 ratio.\n",
    "\n",
    "**RECOMMENDATION: Use only first 1 000 data points.**\n",
    "\n",
    "**WARNING: DO NOT SHUFFLE THE DATASET.**"
   ]
  },
  {
   "cell_type": "markdown",
   "metadata": {},
   "source": [
    "**Columns for prediction:**\n",
    "- 'humidity'\n",
    "- 'pm25'\n",
    "- 'pm10' \n",
    "- 'temperature'"
   ]
  },
  {
   "cell_type": "code",
   "execution_count": 16,
   "metadata": {},
   "outputs": [],
   "source": [
    "pivot.sort_index(inplace=True)"
   ]
  },
  {
   "cell_type": "code",
   "execution_count": 17,
   "metadata": {},
   "outputs": [],
   "source": [
    "# Write your code here. Add as many boxes as you need.\n",
    "pivot = pivot.head(1000)"
   ]
  },
  {
   "cell_type": "code",
   "execution_count": 18,
   "metadata": {},
   "outputs": [],
   "source": [
    "# Write your code here. Add as many boxes as you need.\n",
    "X = pivot.drop(columns=['humidity', 'pm25', 'pm10', 'temperature'])\n",
    "y = pivot[['humidity', 'pm25', 'pm10', 'temperature']]"
   ]
  },
  {
   "cell_type": "code",
   "execution_count": 19,
   "metadata": {},
   "outputs": [],
   "source": [
    "from sklearn.model_selection import train_test_split\n",
    "X_train, X_test, y_train, y_test = train_test_split(X, y, test_size=0.2, shuffle=False)"
   ]
  },
  {
   "cell_type": "markdown",
   "metadata": {},
   "source": [
    "## Ensemble Learning Methods"
   ]
  },
  {
   "cell_type": "markdown",
   "metadata": {},
   "source": [
    "### Bagging"
   ]
  },
  {
   "cell_type": "markdown",
   "metadata": {},
   "source": [
    "Create an instance of a Random Forest model and train it using the `fit` function."
   ]
  },
  {
   "cell_type": "code",
   "execution_count": 22,
   "metadata": {},
   "outputs": [],
   "source": [
    "# Write your code here. Add as many boxes as you need.\n",
    "from sklearn.ensemble import RandomForestRegressor\n",
    "from sklearn.metrics import mean_absolute_error, mean_squared_error, r2_score\n",
    "\n",
    "rf_models = {col: RandomForestRegressor(n_estimators=100, random_state=42) for col in y.columns}\n",
    "\n",
    "for col in y.columns:\n",
    "    rf_models[col].fit(X_train, y_train[col])"
   ]
  },
  {
   "cell_type": "markdown",
   "metadata": {},
   "source": [
    "Use the trained model to make predictions for the test set."
   ]
  },
  {
   "cell_type": "markdown",
   "metadata": {},
   "source": [
    "Assess the performance of the model by using different metrics provided by the `scikit-learn` library.\n",
    "\n",
    "Output independent metrics for each column you predict. "
   ]
  },
  {
   "cell_type": "code",
   "execution_count": 23,
   "metadata": {},
   "outputs": [
    {
     "name": "stdout",
     "output_type": "stream",
     "text": [
      "\n",
      "Random Forest Metrics for humidity:\n",
      "MAE: 0.6758\n",
      "MSE: 0.6600\n",
      "R2: 0.9650\n",
      "\n",
      "Random Forest Metrics for pm25:\n",
      "MAE: 18.6771\n",
      "MSE: 603.3860\n",
      "R2: 0.4174\n",
      "\n",
      "Random Forest Metrics for pm10:\n",
      "MAE: 34.0648\n",
      "MSE: 1817.7425\n",
      "R2: 0.4989\n",
      "\n",
      "Random Forest Metrics for temperature:\n",
      "MAE: 0.2679\n",
      "MSE: 0.1798\n",
      "R2: 0.9410\n"
     ]
    }
   ],
   "source": [
    "# Write your code here. Add as many boxes as you need.\n",
    "for col in y.columns:\n",
    "    y_pred = rf_models[col].predict(X_test)\n",
    "    print(f\"\\nRandom Forest Metrics for {col}:\")\n",
    "    print(f\"MAE: {mean_absolute_error(y_test[col], y_pred):.4f}\")\n",
    "    print(f\"MSE: {mean_squared_error(y_test[col], y_pred):.4f}\")\n",
    "    print(f\"R2: {r2_score(y_test[col], y_pred):.4f}\")"
   ]
  },
  {
   "cell_type": "markdown",
   "metadata": {},
   "source": [
    "### Boosting"
   ]
  },
  {
   "cell_type": "markdown",
   "metadata": {},
   "source": [
    "Create an instance of an XGBoost model and train it using the `fit` function."
   ]
  },
  {
   "cell_type": "code",
   "execution_count": 24,
   "metadata": {},
   "outputs": [],
   "source": [
    "# Write your code here. Add as many boxes as you need.\n",
    "from xgboost import XGBRegressor\n",
    "\n",
    "xgb_models = {col: XGBRegressor(n_estimators=100,random_state=42) for col in y.columns}\n",
    "\n",
    "for col in y.columns:\n",
    "    xgb_models[col].fit(X_train, y_train[col])"
   ]
  },
  {
   "cell_type": "markdown",
   "metadata": {},
   "source": [
    "Use the trained model to make predictions for the test set."
   ]
  },
  {
   "cell_type": "markdown",
   "metadata": {},
   "source": [
    "Assess the performance of the model by using different metrics provided by the `scikit-learn` library.\n",
    "\n",
    "Output independent metrics for each column you predict. "
   ]
  },
  {
   "cell_type": "code",
   "execution_count": 25,
   "metadata": {},
   "outputs": [
    {
     "name": "stdout",
     "output_type": "stream",
     "text": [
      "\n",
      "XGBoost Metrics for humidity:\n",
      "MAE: 0.7009\n",
      "MSE: 0.6917\n",
      "R2: 0.9633\n",
      "\n",
      "XGBoost Metrics for pm25:\n",
      "MAE: 19.0091\n",
      "MSE: 541.4088\n",
      "R2: 0.4773\n",
      "\n",
      "XGBoost Metrics for pm10:\n",
      "MAE: 37.8247\n",
      "MSE: 2054.9653\n",
      "R2: 0.4335\n",
      "\n",
      "XGBoost Metrics for temperature:\n",
      "MAE: 0.3953\n",
      "MSE: 0.3023\n",
      "R2: 0.9008\n"
     ]
    }
   ],
   "source": [
    "# Write your code here. Add as many boxes as you need.\n",
    "for col in y.columns:\n",
    "    y_pred = xgb_models[col].predict(X_test)\n",
    "    print(f\"\\nXGBoost Metrics for {col}:\")\n",
    "    print(f\"MAE: {mean_absolute_error(y_test[col], y_pred):.4f}\")\n",
    "    print(f\"MSE: {mean_squared_error(y_test[col], y_pred):.4f}\")\n",
    "    print(f\"R2: {r2_score(y_test[col], y_pred):.4f}\")"
   ]
  },
  {
   "cell_type": "markdown",
   "metadata": {},
   "source": [
    "# Laboratory Exercise - Bonus Task (+ 2 points)"
   ]
  },
  {
   "cell_type": "markdown",
   "metadata": {},
   "source": [
    "As part of the bonus task in this laboratory assignment, your objective is to fine-tune the number of estimators (`n_estimators`) for the XGBoost model using a cross-validation with grid search and time series split. This involves systematically experimenting with various values for `n_estimators` and evaluating the model's performance using cross-validation. Upon determining the most suitable `n_estimators` value, evaluate the model's performance on a test set for final assessment.\n",
    "\n",
    "Hints:\n",
    "- For grid search use the `GridCVSearch` from the `scikit-learn` library. Check the documentation at https://scikit-learn.org/stable/modules/generated/sklearn.model_selection.GridSearchCV.html.\n",
    "- For cross-validation use the `TimeSeriesSplit` from the `scikit-learn` library. Check the documentation at https://scikit-learn.org/stable/modules/generated/sklearn.model_selection.TimeSeriesSplit.html."
   ]
  },
  {
   "cell_type": "markdown",
   "metadata": {},
   "source": [
    "## Dataset Splitting\n",
    "Partition the dataset into training and testing sets with an 90:10 ratio.\n",
    "\n",
    "**WARNING: DO NOT SHUFFLE THE DATASET.**"
   ]
  },
  {
   "cell_type": "code",
   "execution_count": 26,
   "metadata": {},
   "outputs": [],
   "source": [
    "# Write your code here. Add as many boxes as you need.\n",
    "from sklearn.model_selection import train_test_split\n",
    "X_train, X_test, y_train, y_test = train_test_split(X, y, test_size=0.1, shuffle=False)"
   ]
  },
  {
   "cell_type": "markdown",
   "metadata": {},
   "source": [
    "## Fine-tuning the XGBoost Hyperparameter\n",
    "Experiment with various values for `n_estimators` and evaluate the model's performance using cross-validation."
   ]
  },
  {
   "cell_type": "code",
   "execution_count": 34,
   "metadata": {},
   "outputs": [
    {
     "name": "stdout",
     "output_type": "stream",
     "text": [
      "Fitting 5 folds for each of 4 candidates, totalling 20 fits\n",
      "Best params for humidity: {'n_estimators': 50}\n",
      "Fitting 5 folds for each of 4 candidates, totalling 20 fits\n",
      "Best params for pm25: {'n_estimators': 50}\n",
      "Fitting 5 folds for each of 4 candidates, totalling 20 fits\n",
      "Best params for pm10: {'n_estimators': 50}\n",
      "Fitting 5 folds for each of 4 candidates, totalling 20 fits\n",
      "Best params for temperature: {'n_estimators': 300}\n"
     ]
    }
   ],
   "source": [
    "# Write your code here. Add as many boxes as you need.\n",
    "from sklearn.model_selection import GridSearchCV, TimeSeriesSplit\n",
    "\n",
    "tscv = TimeSeriesSplit(n_splits=5)\n",
    "param_grid = {\n",
    "    'n_estimators' : [50, 100, 200, 300]\n",
    "}\n",
    "for col in y.columns:\n",
    "    grid_search = GridSearchCV(\n",
    "        estimator=XGBRegressor(random_state=42),\n",
    "        param_grid=param_grid,\n",
    "        scoring='neg_mean_squared_error',\n",
    "        cv=tscv,\n",
    "        verbose=1\n",
    "    )\n",
    "    grid_search.fit(X_train, y_train[col])\n",
    "\n",
    "    print(f'Best params for {col}: {grid_search.best_params_}')"
   ]
  },
  {
   "cell_type": "markdown",
   "metadata": {},
   "source": [
    "## Final Assessment of the Model Performance\n",
    "Upon determining the most suitable `n_estimators` value, evaluate the model's performance on a test set for final assessment."
   ]
  },
  {
   "cell_type": "code",
   "execution_count": 38,
   "metadata": {},
   "outputs": [
    {
     "name": "stdout",
     "output_type": "stream",
     "text": [
      "\n",
      "Metrics for humidity with 50 estimators:\n",
      "MAE: 0.6948\n",
      "MSE: 0.7417\n",
      "R2: 0.9454\n",
      "\n",
      "Metrics for pm25 with 50 estimators:\n",
      "MAE: 18.9151\n",
      "MSE: 466.4952\n",
      "R2: -0.9526\n",
      "\n",
      "Metrics for pm10 with 50 estimators:\n",
      "MAE: 37.6527\n",
      "MSE: 1780.7578\n",
      "R2: -1.2473\n",
      "\n",
      "Metrics for temperature with 300 estimators:\n",
      "MAE: 0.4970\n",
      "MSE: 0.3791\n",
      "R2: 0.9089\n"
     ]
    }
   ],
   "source": [
    "# Write your code here. Add as many boxes as you need.\n",
    "params = [50,50,50,300]\n",
    "for i,col in enumerate(y.columns):\n",
    "    best_model = XGBRegressor(n_estimators=params[i])\n",
    "    best_model.fit(X_train,y_train[col])\n",
    "    y_pred = best_model.predict(X_test)\n",
    "    print(f\"\\nMetrics for {col} with {best_model.n_estimators} estimators:\")\n",
    "    print(f\"MAE: {mean_absolute_error(y_test[col], y_pred):.4f}\")\n",
    "    print(f\"MSE: {mean_squared_error(y_test[col], y_pred):.4f}\")\n",
    "    print(f\"R2: {r2_score(y_test[col], y_pred):.4f}\")"
   ]
  }
 ],
 "metadata": {
  "kernelspec": {
   "display_name": "Python 3 (ipykernel)",
   "language": "python",
   "name": "python3"
  },
  "language_info": {
   "codemirror_mode": {
    "name": "ipython",
    "version": 3
   },
   "file_extension": ".py",
   "mimetype": "text/x-python",
   "name": "python",
   "nbconvert_exporter": "python",
   "pygments_lexer": "ipython3",
   "version": "3.12.7"
  }
 },
 "nbformat": 4,
 "nbformat_minor": 4
}
