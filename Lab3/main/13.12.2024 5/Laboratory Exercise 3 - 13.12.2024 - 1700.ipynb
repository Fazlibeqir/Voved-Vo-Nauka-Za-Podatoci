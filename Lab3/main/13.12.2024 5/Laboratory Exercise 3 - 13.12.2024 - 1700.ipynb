{
 "cells": [
  {
   "cell_type": "markdown",
   "metadata": {},
   "source": [
    "---\n",
    "# Install the required packages"
   ]
  },
  {
   "cell_type": "markdown",
   "metadata": {},
   "source": [
    "If needed install the following packages:"
   ]
  },
  {
   "cell_type": "code",
   "execution_count": 1,
   "metadata": {},
   "outputs": [],
   "source": [
    "#!pip install tensorflow keras"
   ]
  },
  {
   "cell_type": "markdown",
   "metadata": {},
   "source": [
    "---\n",
    "# Imports"
   ]
  },
  {
   "cell_type": "code",
   "execution_count": 2,
   "metadata": {},
   "outputs": [],
   "source": [
    "# Write your code here. Add as many boxes as you need.\n",
    "import pandas as pd\n",
    "import numpy as np \n",
    "import matplotlib.pyplot as plt \n",
    "import tensorflow as tf \n",
    "from tensorflow.keras.models import Sequential\n",
    "from tensorflow.keras.layers import Dense, LSTM, Conv1D, Flatten, Dropout\n",
    "from sklearn.model_selection import train_test_split\n",
    "from sklearn.metrics import mean_absolute_error, mean_squared_error, r2_score"
   ]
  },
  {
   "cell_type": "markdown",
   "metadata": {},
   "source": [
    "---\n",
    "# Laboratory Exercise - Run Mode (8 points)"
   ]
  },
  {
   "cell_type": "markdown",
   "metadata": {},
   "source": [
    "## Introduction\n",
    "In this laboratory assignment, the focus is on time series forecasting, specifically targeting the prediction of **R peak interval** for a patient. Your task involves employing deep learning methods to forecast the **required measurements**. To accomplish this you will be using a patient's ECG measurements from the MITDB database, which consists of the following values:\n",
    "\n",
    "- R peak Interval (int: the time the R peak appeared)\n",
    "- Beat Annotation (string: the beat type)\n",
    "- Episode Annotation (string: the episode type)\n",
    "\n",
    "**Note: You are required to perform this laboratory assignment on your local machine.**"
   ]
  },
  {
   "cell_type": "markdown",
   "metadata": {},
   "source": [
    "\n",
    "# Read the data"
   ]
  },
  {
   "cell_type": "markdown",
   "metadata": {},
   "source": [
    "You are required to load the given data from the `201_cleaned.ann` file (csv format). Load the data into a `pandas dataframe` and display the first 5 rows of the dataframe."
   ]
  },
  {
   "cell_type": "code",
   "execution_count": 3,
   "metadata": {},
   "outputs": [
    {
     "data": {
      "text/html": [
       "<div>\n",
       "<style scoped>\n",
       "    .dataframe tbody tr th:only-of-type {\n",
       "        vertical-align: middle;\n",
       "    }\n",
       "\n",
       "    .dataframe tbody tr th {\n",
       "        vertical-align: top;\n",
       "    }\n",
       "\n",
       "    .dataframe thead th {\n",
       "        text-align: right;\n",
       "    }\n",
       "</style>\n",
       "<table border=\"1\" class=\"dataframe\">\n",
       "  <thead>\n",
       "    <tr style=\"text-align: right;\">\n",
       "      <th></th>\n",
       "      <th>R peak Interval</th>\n",
       "      <th>Beat Annotation</th>\n",
       "      <th>Episode Annotation</th>\n",
       "    </tr>\n",
       "  </thead>\n",
       "  <tbody>\n",
       "    <tr>\n",
       "      <th>0</th>\n",
       "      <td>55</td>\n",
       "      <td>N</td>\n",
       "      <td>(AFIB</td>\n",
       "    </tr>\n",
       "    <tr>\n",
       "      <th>1</th>\n",
       "      <td>144</td>\n",
       "      <td>N</td>\n",
       "      <td>(AFIB</td>\n",
       "    </tr>\n",
       "    <tr>\n",
       "      <th>2</th>\n",
       "      <td>238</td>\n",
       "      <td>N</td>\n",
       "      <td>(AFIB</td>\n",
       "    </tr>\n",
       "    <tr>\n",
       "      <th>3</th>\n",
       "      <td>314</td>\n",
       "      <td>N</td>\n",
       "      <td>(AFIB</td>\n",
       "    </tr>\n",
       "    <tr>\n",
       "      <th>4</th>\n",
       "      <td>412</td>\n",
       "      <td>N</td>\n",
       "      <td>(AFIB</td>\n",
       "    </tr>\n",
       "  </tbody>\n",
       "</table>\n",
       "</div>"
      ],
      "text/plain": [
       "   R peak Interval Beat Annotation Episode Annotation\n",
       "0               55               N              (AFIB\n",
       "1              144               N              (AFIB\n",
       "2              238               N              (AFIB\n",
       "3              314               N              (AFIB\n",
       "4              412               N              (AFIB"
      ]
     },
     "execution_count": 3,
     "metadata": {},
     "output_type": "execute_result"
    }
   ],
   "source": [
    "# Write your code here. Add as many boxes as you need.\n",
    "data = pd.read_csv('201_cleaned.ann')\n",
    "data.head()"
   ]
  },
  {
   "cell_type": "markdown",
   "metadata": {},
   "source": [
    "---\n",
    "# EDA"
   ]
  },
  {
   "cell_type": "markdown",
   "metadata": {},
   "source": [
    "## Explore the Beat Annotation Distribution"
   ]
  },
  {
   "cell_type": "code",
   "execution_count": 4,
   "metadata": {},
   "outputs": [
    {
     "data": {
      "image/png": "[encoded data removed]",
      "text/plain": [
       "<Figure size 640x480 with 1 Axes>"
      ]
     },
     "metadata": {},
     "output_type": "display_data"
    }
   ],
   "source": [
    "# Write your code here. Add as many boxes as you need.\n",
    "data['Beat Annotation'].value_counts().plot(kind='bar')\n",
    "plt.show()"
   ]
  },
  {
   "cell_type": "markdown",
   "metadata": {},
   "source": [
    "## Explore the Episode Annotation Distribution"
   ]
  },
  {
   "cell_type": "code",
   "execution_count": 5,
   "metadata": {},
   "outputs": [
    {
     "data": {
      "image/png": "[encoded data removed]",
      "text/plain": [
       "<Figure size 640x480 with 1 Axes>"
      ]
     },
     "metadata": {},
     "output_type": "display_data"
    }
   ],
   "source": [
    "# Write your code here. Add as many boxes as you need.\n",
    "data['Episode Annotation'].value_counts().plot(kind='bar')\n",
    "plt.show()"
   ]
  },
  {
   "cell_type": "markdown",
   "metadata": {},
   "source": [
    "---\n",
    "# Feature Engineering"
   ]
  },
  {
   "cell_type": "markdown",
   "metadata": {},
   "source": [
    "## Re-Labeling the data (Beat Annotation)\n",
    "\n",
    "Re-label the data into 3 beat types:\n",
    "- Normal Beat (N)\n",
    "- Ventricular Beat (V)\n",
    "- Other Beats (Other)"
   ]
  },
  {
   "cell_type": "code",
   "execution_count": 6,
   "metadata": {},
   "outputs": [],
   "source": [
    "# Write your code here. Add as many boxes as you need.\n",
    "def relabel_beat_annotation(annotation):\n",
    "    if annotation == 'N':\n",
    "        return 'Normal Beat'\n",
    "    elif annotation == 'V':\n",
    "        return 'Ventricular Beat'\n",
    "    else:\n",
    "        return 'Other Beats'\n"
   ]
  },
  {
   "cell_type": "markdown",
   "metadata": {},
   "source": [
    "Check that the mapping worked:"
   ]
  },
  {
   "cell_type": "code",
   "execution_count": 7,
   "metadata": {},
   "outputs": [
    {
     "data": {
      "text/plain": [
       "Relabeled Beat\n",
       "Normal Beat         1625\n",
       "Ventricular Beat     198\n",
       "Other Beats          181\n",
       "Name: count, dtype: int64"
      ]
     },
     "execution_count": 7,
     "metadata": {},
     "output_type": "execute_result"
    }
   ],
   "source": [
    "# Write your code here. Add as many boxes as you need.\n",
    "data['Relabeled Beat'] = data['Beat Annotation'].apply(relabel_beat_annotation)\n",
    "data['Relabeled Beat'].value_counts()"
   ]
  },
  {
   "cell_type": "markdown",
   "metadata": {},
   "source": [
    "## Re-Labeling the data (Episode Annotation)\n",
    "\n",
    "Re-label the data into 3 beat types:\n",
    "- Normal Episode: (N\n",
    "- Atrial Fibrillation: (AFIB\n",
    "- Other Episode: (Other"
   ]
  },
  {
   "cell_type": "code",
   "execution_count": 8,
   "metadata": {},
   "outputs": [],
   "source": [
    "# Write your code here. Add as many boxes as you need.\n",
    "def relabel_episode_annotation(annotation):\n",
    "    if annotation == '(N':\n",
    "        return 'Normal Episode'\n",
    "    elif annotation == '(AFIB':\n",
    "        return 'Atrial Fibrillation'\n",
    "    else:\n",
    "        return 'Other Episode'"
   ]
  },
  {
   "cell_type": "markdown",
   "metadata": {},
   "source": [
    "Check that the mapping worked:"
   ]
  },
  {
   "cell_type": "code",
   "execution_count": 9,
   "metadata": {},
   "outputs": [
    {
     "data": {
      "text/plain": [
       "Relabeled Episode\n",
       "Atrial Fibrillation    911\n",
       "Normal Episode         730\n",
       "Other Episode          363\n",
       "Name: count, dtype: int64"
      ]
     },
     "execution_count": 9,
     "metadata": {},
     "output_type": "execute_result"
    }
   ],
   "source": [
    "# Write your code here. Add as many boxes as you need.\n",
    "data['Relabeled Episode'] = data['Episode Annotation'].apply(relabel_episode_annotation)\n",
    "data['Relabeled Episode'].value_counts()"
   ]
  },
  {
   "cell_type": "markdown",
   "metadata": {},
   "source": [
    "## Create Lag Features (5 prev values) for R peak Interval measurement"
   ]
  },
  {
   "cell_type": "markdown",
   "metadata": {},
   "source": [
    "Apply a lag for the R peak Interval, creating a set of features representing the historical patient data. To maintain dataset integrity, eliminate any resulting missing values at the beginning of the dataset.\n",
    "\n",
    "Hint: Use `df['column_name'].shift(period)`. Check the documentation at https://pandas.pydata.org/docs/reference/api/pandas.DataFrame.shift.html."
   ]
  },
  {
   "cell_type": "code",
   "execution_count": 10,
   "metadata": {},
   "outputs": [
    {
     "data": {
      "text/plain": [
       "Index(['R peak Interval', 'Beat Annotation', 'Episode Annotation',\n",
       "       'Relabeled Beat', 'Relabeled Episode'],\n",
       "      dtype='object')"
      ]
     },
     "execution_count": 10,
     "metadata": {},
     "output_type": "execute_result"
    }
   ],
   "source": [
    "data.columns"
   ]
  },
  {
   "cell_type": "code",
   "execution_count": 11,
   "metadata": {},
   "outputs": [],
   "source": [
    "# Write your code here. Add as many boxes as you need.\n",
    "for i in range(1, 6):\n",
    "    data[f'R_Peak_Lag_{i}'] = data['R peak Interval'].shift(i)\n",
    "\n",
    "data = data.dropna()"
   ]
  },
  {
   "cell_type": "markdown",
   "metadata": {},
   "source": [
    "Check that the mapping worked:"
   ]
  },
  {
   "cell_type": "code",
   "execution_count": 12,
   "metadata": {},
   "outputs": [
    {
     "data": {
      "text/html": [
       "<div>\n",
       "<style scoped>\n",
       "    .dataframe tbody tr th:only-of-type {\n",
       "        vertical-align: middle;\n",
       "    }\n",
       "\n",
       "    .dataframe tbody tr th {\n",
       "        vertical-align: top;\n",
       "    }\n",
       "\n",
       "    .dataframe thead th {\n",
       "        text-align: right;\n",
       "    }\n",
       "</style>\n",
       "<table border=\"1\" class=\"dataframe\">\n",
       "  <thead>\n",
       "    <tr style=\"text-align: right;\">\n",
       "      <th></th>\n",
       "      <th>R peak Interval</th>\n",
       "      <th>Beat Annotation</th>\n",
       "      <th>Episode Annotation</th>\n",
       "      <th>Relabeled Beat</th>\n",
       "      <th>Relabeled Episode</th>\n",
       "      <th>R_Peak_Lag_1</th>\n",
       "      <th>R_Peak_Lag_2</th>\n",
       "      <th>R_Peak_Lag_3</th>\n",
       "      <th>R_Peak_Lag_4</th>\n",
       "      <th>R_Peak_Lag_5</th>\n",
       "    </tr>\n",
       "  </thead>\n",
       "  <tbody>\n",
       "    <tr>\n",
       "      <th>5</th>\n",
       "      <td>493</td>\n",
       "      <td>N</td>\n",
       "      <td>(AFIB</td>\n",
       "      <td>Normal Beat</td>\n",
       "      <td>Atrial Fibrillation</td>\n",
       "      <td>412.0</td>\n",
       "      <td>314.0</td>\n",
       "      <td>238.0</td>\n",
       "      <td>144.0</td>\n",
       "      <td>55.0</td>\n",
       "    </tr>\n",
       "    <tr>\n",
       "      <th>6</th>\n",
       "      <td>562</td>\n",
       "      <td>N</td>\n",
       "      <td>(AFIB</td>\n",
       "      <td>Normal Beat</td>\n",
       "      <td>Atrial Fibrillation</td>\n",
       "      <td>493.0</td>\n",
       "      <td>412.0</td>\n",
       "      <td>314.0</td>\n",
       "      <td>238.0</td>\n",
       "      <td>144.0</td>\n",
       "    </tr>\n",
       "    <tr>\n",
       "      <th>7</th>\n",
       "      <td>682</td>\n",
       "      <td>N</td>\n",
       "      <td>(AFIB</td>\n",
       "      <td>Normal Beat</td>\n",
       "      <td>Atrial Fibrillation</td>\n",
       "      <td>562.0</td>\n",
       "      <td>493.0</td>\n",
       "      <td>412.0</td>\n",
       "      <td>314.0</td>\n",
       "      <td>238.0</td>\n",
       "    </tr>\n",
       "    <tr>\n",
       "      <th>8</th>\n",
       "      <td>776</td>\n",
       "      <td>N</td>\n",
       "      <td>(AFIB</td>\n",
       "      <td>Normal Beat</td>\n",
       "      <td>Atrial Fibrillation</td>\n",
       "      <td>682.0</td>\n",
       "      <td>562.0</td>\n",
       "      <td>493.0</td>\n",
       "      <td>412.0</td>\n",
       "      <td>314.0</td>\n",
       "    </tr>\n",
       "    <tr>\n",
       "      <th>9</th>\n",
       "      <td>866</td>\n",
       "      <td>N</td>\n",
       "      <td>(AFIB</td>\n",
       "      <td>Normal Beat</td>\n",
       "      <td>Atrial Fibrillation</td>\n",
       "      <td>776.0</td>\n",
       "      <td>682.0</td>\n",
       "      <td>562.0</td>\n",
       "      <td>493.0</td>\n",
       "      <td>412.0</td>\n",
       "    </tr>\n",
       "  </tbody>\n",
       "</table>\n",
       "</div>"
      ],
      "text/plain": [
       "   R peak Interval Beat Annotation Episode Annotation Relabeled Beat  \\\n",
       "5              493               N              (AFIB    Normal Beat   \n",
       "6              562               N              (AFIB    Normal Beat   \n",
       "7              682               N              (AFIB    Normal Beat   \n",
       "8              776               N              (AFIB    Normal Beat   \n",
       "9              866               N              (AFIB    Normal Beat   \n",
       "\n",
       "     Relabeled Episode  R_Peak_Lag_1  R_Peak_Lag_2  R_Peak_Lag_3  \\\n",
       "5  Atrial Fibrillation         412.0         314.0         238.0   \n",
       "6  Atrial Fibrillation         493.0         412.0         314.0   \n",
       "7  Atrial Fibrillation         562.0         493.0         412.0   \n",
       "8  Atrial Fibrillation         682.0         562.0         493.0   \n",
       "9  Atrial Fibrillation         776.0         682.0         562.0   \n",
       "\n",
       "   R_Peak_Lag_4  R_Peak_Lag_5  \n",
       "5         144.0          55.0  \n",
       "6         238.0         144.0  \n",
       "7         314.0         238.0  \n",
       "8         412.0         314.0  \n",
       "9         493.0         412.0  "
      ]
     },
     "execution_count": 12,
     "metadata": {},
     "output_type": "execute_result"
    }
   ],
   "source": [
    "# Write your code here. Add as many boxes as you need.\n",
    "data.head()"
   ]
  },
  {
   "cell_type": "markdown",
   "metadata": {},
   "source": [
    "## Generate R-R interval features\n"
   ]
  },
  {
   "cell_type": "markdown",
   "metadata": {},
   "source": [
    "For the past 5 R peak intervals ($R_{i}, i \\in \\{-1, -2, -3, -4, -5\\}$), generate the 4 R-R intervals as features.\n",
    "\n",
    "$RR_{i} = R_{i} - R_{i-1}$"
   ]
  },
  {
   "cell_type": "code",
   "execution_count": 13,
   "metadata": {},
   "outputs": [],
   "source": [
    "# Write your code here. Add as many boxes as you need.\n",
    "for i in range(1, 5):\n",
    "    data[f'RR_{i}'] = data[f'R_Peak_Lag_{i}'] - data[f'R_Peak_Lag_{i+1}']"
   ]
  },
  {
   "cell_type": "markdown",
   "metadata": {},
   "source": [
    "Additionally, generate the current R-R Interval, which we will be using as a target.  \n",
    "\n",
    "$RR_{curr} = (R_{0} - R_{-1})$"
   ]
  },
  {
   "cell_type": "code",
   "execution_count": 14,
   "metadata": {},
   "outputs": [],
   "source": [
    "# Write your code here. Add as many boxes as you need.\n",
    "data['RR_curr'] = data['R peak Interval'] - data['R_Peak_Lag_1']"
   ]
  },
  {
   "cell_type": "markdown",
   "metadata": {},
   "source": [
    "Check that the mapping worked:"
   ]
  },
  {
   "cell_type": "code",
   "execution_count": 15,
   "metadata": {},
   "outputs": [
    {
     "data": {
      "text/html": [
       "<div>\n",
       "<style scoped>\n",
       "    .dataframe tbody tr th:only-of-type {\n",
       "        vertical-align: middle;\n",
       "    }\n",
       "\n",
       "    .dataframe tbody tr th {\n",
       "        vertical-align: top;\n",
       "    }\n",
       "\n",
       "    .dataframe thead th {\n",
       "        text-align: right;\n",
       "    }\n",
       "</style>\n",
       "<table border=\"1\" class=\"dataframe\">\n",
       "  <thead>\n",
       "    <tr style=\"text-align: right;\">\n",
       "      <th></th>\n",
       "      <th>R peak Interval</th>\n",
       "      <th>Beat Annotation</th>\n",
       "      <th>Episode Annotation</th>\n",
       "      <th>Relabeled Beat</th>\n",
       "      <th>Relabeled Episode</th>\n",
       "      <th>R_Peak_Lag_1</th>\n",
       "      <th>R_Peak_Lag_2</th>\n",
       "      <th>R_Peak_Lag_3</th>\n",
       "      <th>R_Peak_Lag_4</th>\n",
       "      <th>R_Peak_Lag_5</th>\n",
       "      <th>RR_1</th>\n",
       "      <th>RR_2</th>\n",
       "      <th>RR_3</th>\n",
       "      <th>RR_4</th>\n",
       "      <th>RR_curr</th>\n",
       "    </tr>\n",
       "  </thead>\n",
       "  <tbody>\n",
       "    <tr>\n",
       "      <th>5</th>\n",
       "      <td>493</td>\n",
       "      <td>N</td>\n",
       "      <td>(AFIB</td>\n",
       "      <td>Normal Beat</td>\n",
       "      <td>Atrial Fibrillation</td>\n",
       "      <td>412.0</td>\n",
       "      <td>314.0</td>\n",
       "      <td>238.0</td>\n",
       "      <td>144.0</td>\n",
       "      <td>55.0</td>\n",
       "      <td>98.0</td>\n",
       "      <td>76.0</td>\n",
       "      <td>94.0</td>\n",
       "      <td>89.0</td>\n",
       "      <td>81.0</td>\n",
       "    </tr>\n",
       "    <tr>\n",
       "      <th>6</th>\n",
       "      <td>562</td>\n",
       "      <td>N</td>\n",
       "      <td>(AFIB</td>\n",
       "      <td>Normal Beat</td>\n",
       "      <td>Atrial Fibrillation</td>\n",
       "      <td>493.0</td>\n",
       "      <td>412.0</td>\n",
       "      <td>314.0</td>\n",
       "      <td>238.0</td>\n",
       "      <td>144.0</td>\n",
       "      <td>81.0</td>\n",
       "      <td>98.0</td>\n",
       "      <td>76.0</td>\n",
       "      <td>94.0</td>\n",
       "      <td>69.0</td>\n",
       "    </tr>\n",
       "    <tr>\n",
       "      <th>7</th>\n",
       "      <td>682</td>\n",
       "      <td>N</td>\n",
       "      <td>(AFIB</td>\n",
       "      <td>Normal Beat</td>\n",
       "      <td>Atrial Fibrillation</td>\n",
       "      <td>562.0</td>\n",
       "      <td>493.0</td>\n",
       "      <td>412.0</td>\n",
       "      <td>314.0</td>\n",
       "      <td>238.0</td>\n",
       "      <td>69.0</td>\n",
       "      <td>81.0</td>\n",
       "      <td>98.0</td>\n",
       "      <td>76.0</td>\n",
       "      <td>120.0</td>\n",
       "    </tr>\n",
       "    <tr>\n",
       "      <th>8</th>\n",
       "      <td>776</td>\n",
       "      <td>N</td>\n",
       "      <td>(AFIB</td>\n",
       "      <td>Normal Beat</td>\n",
       "      <td>Atrial Fibrillation</td>\n",
       "      <td>682.0</td>\n",
       "      <td>562.0</td>\n",
       "      <td>493.0</td>\n",
       "      <td>412.0</td>\n",
       "      <td>314.0</td>\n",
       "      <td>120.0</td>\n",
       "      <td>69.0</td>\n",
       "      <td>81.0</td>\n",
       "      <td>98.0</td>\n",
       "      <td>94.0</td>\n",
       "    </tr>\n",
       "    <tr>\n",
       "      <th>9</th>\n",
       "      <td>866</td>\n",
       "      <td>N</td>\n",
       "      <td>(AFIB</td>\n",
       "      <td>Normal Beat</td>\n",
       "      <td>Atrial Fibrillation</td>\n",
       "      <td>776.0</td>\n",
       "      <td>682.0</td>\n",
       "      <td>562.0</td>\n",
       "      <td>493.0</td>\n",
       "      <td>412.0</td>\n",
       "      <td>94.0</td>\n",
       "      <td>120.0</td>\n",
       "      <td>69.0</td>\n",
       "      <td>81.0</td>\n",
       "      <td>90.0</td>\n",
       "    </tr>\n",
       "  </tbody>\n",
       "</table>\n",
       "</div>"
      ],
      "text/plain": [
       "   R peak Interval Beat Annotation Episode Annotation Relabeled Beat  \\\n",
       "5              493               N              (AFIB    Normal Beat   \n",
       "6              562               N              (AFIB    Normal Beat   \n",
       "7              682               N              (AFIB    Normal Beat   \n",
       "8              776               N              (AFIB    Normal Beat   \n",
       "9              866               N              (AFIB    Normal Beat   \n",
       "\n",
       "     Relabeled Episode  R_Peak_Lag_1  R_Peak_Lag_2  R_Peak_Lag_3  \\\n",
       "5  Atrial Fibrillation         412.0         314.0         238.0   \n",
       "6  Atrial Fibrillation         493.0         412.0         314.0   \n",
       "7  Atrial Fibrillation         562.0         493.0         412.0   \n",
       "8  Atrial Fibrillation         682.0         562.0         493.0   \n",
       "9  Atrial Fibrillation         776.0         682.0         562.0   \n",
       "\n",
       "   R_Peak_Lag_4  R_Peak_Lag_5   RR_1   RR_2  RR_3  RR_4  RR_curr  \n",
       "5         144.0          55.0   98.0   76.0  94.0  89.0     81.0  \n",
       "6         238.0         144.0   81.0   98.0  76.0  94.0     69.0  \n",
       "7         314.0         238.0   69.0   81.0  98.0  76.0    120.0  \n",
       "8         412.0         314.0  120.0   69.0  81.0  98.0     94.0  \n",
       "9         493.0         412.0   94.0  120.0  69.0  81.0     90.0  "
      ]
     },
     "execution_count": 15,
     "metadata": {},
     "output_type": "execute_result"
    }
   ],
   "source": [
    "# Write your code here. Add as many boxes as you need.\n",
    "data.head()"
   ]
  },
  {
   "cell_type": "markdown",
   "metadata": {},
   "source": [
    "## Encode the categorical variables"
   ]
  },
  {
   "cell_type": "code",
   "execution_count": 16,
   "metadata": {},
   "outputs": [],
   "source": [
    "# Write your code here. Add as many boxes as you need.\n",
    "data = pd.get_dummies(data, columns=['Relabeled Beat', 'Relabeled Episode'], drop_first=True)"
   ]
  },
  {
   "cell_type": "markdown",
   "metadata": {},
   "source": [
    "Check that the mapping worked:"
   ]
  },
  {
   "cell_type": "code",
   "execution_count": 17,
   "metadata": {},
   "outputs": [
    {
     "data": {
      "text/html": [
       "<div>\n",
       "<style scoped>\n",
       "    .dataframe tbody tr th:only-of-type {\n",
       "        vertical-align: middle;\n",
       "    }\n",
       "\n",
       "    .dataframe tbody tr th {\n",
       "        vertical-align: top;\n",
       "    }\n",
       "\n",
       "    .dataframe thead th {\n",
       "        text-align: right;\n",
       "    }\n",
       "</style>\n",
       "<table border=\"1\" class=\"dataframe\">\n",
       "  <thead>\n",
       "    <tr style=\"text-align: right;\">\n",
       "      <th></th>\n",
       "      <th>R peak Interval</th>\n",
       "      <th>Beat Annotation</th>\n",
       "      <th>Episode Annotation</th>\n",
       "      <th>R_Peak_Lag_1</th>\n",
       "      <th>R_Peak_Lag_2</th>\n",
       "      <th>R_Peak_Lag_3</th>\n",
       "      <th>R_Peak_Lag_4</th>\n",
       "      <th>R_Peak_Lag_5</th>\n",
       "      <th>RR_1</th>\n",
       "      <th>RR_2</th>\n",
       "      <th>RR_3</th>\n",
       "      <th>RR_4</th>\n",
       "      <th>RR_curr</th>\n",
       "      <th>Relabeled Beat_Other Beats</th>\n",
       "      <th>Relabeled Beat_Ventricular Beat</th>\n",
       "      <th>Relabeled Episode_Normal Episode</th>\n",
       "      <th>Relabeled Episode_Other Episode</th>\n",
       "    </tr>\n",
       "  </thead>\n",
       "  <tbody>\n",
       "    <tr>\n",
       "      <th>5</th>\n",
       "      <td>493</td>\n",
       "      <td>N</td>\n",
       "      <td>(AFIB</td>\n",
       "      <td>412.0</td>\n",
       "      <td>314.0</td>\n",
       "      <td>238.0</td>\n",
       "      <td>144.0</td>\n",
       "      <td>55.0</td>\n",
       "      <td>98.0</td>\n",
       "      <td>76.0</td>\n",
       "      <td>94.0</td>\n",
       "      <td>89.0</td>\n",
       "      <td>81.0</td>\n",
       "      <td>False</td>\n",
       "      <td>False</td>\n",
       "      <td>False</td>\n",
       "      <td>False</td>\n",
       "    </tr>\n",
       "    <tr>\n",
       "      <th>6</th>\n",
       "      <td>562</td>\n",
       "      <td>N</td>\n",
       "      <td>(AFIB</td>\n",
       "      <td>493.0</td>\n",
       "      <td>412.0</td>\n",
       "      <td>314.0</td>\n",
       "      <td>238.0</td>\n",
       "      <td>144.0</td>\n",
       "      <td>81.0</td>\n",
       "      <td>98.0</td>\n",
       "      <td>76.0</td>\n",
       "      <td>94.0</td>\n",
       "      <td>69.0</td>\n",
       "      <td>False</td>\n",
       "      <td>False</td>\n",
       "      <td>False</td>\n",
       "      <td>False</td>\n",
       "    </tr>\n",
       "    <tr>\n",
       "      <th>7</th>\n",
       "      <td>682</td>\n",
       "      <td>N</td>\n",
       "      <td>(AFIB</td>\n",
       "      <td>562.0</td>\n",
       "      <td>493.0</td>\n",
       "      <td>412.0</td>\n",
       "      <td>314.0</td>\n",
       "      <td>238.0</td>\n",
       "      <td>69.0</td>\n",
       "      <td>81.0</td>\n",
       "      <td>98.0</td>\n",
       "      <td>76.0</td>\n",
       "      <td>120.0</td>\n",
       "      <td>False</td>\n",
       "      <td>False</td>\n",
       "      <td>False</td>\n",
       "      <td>False</td>\n",
       "    </tr>\n",
       "    <tr>\n",
       "      <th>8</th>\n",
       "      <td>776</td>\n",
       "      <td>N</td>\n",
       "      <td>(AFIB</td>\n",
       "      <td>682.0</td>\n",
       "      <td>562.0</td>\n",
       "      <td>493.0</td>\n",
       "      <td>412.0</td>\n",
       "      <td>314.0</td>\n",
       "      <td>120.0</td>\n",
       "      <td>69.0</td>\n",
       "      <td>81.0</td>\n",
       "      <td>98.0</td>\n",
       "      <td>94.0</td>\n",
       "      <td>False</td>\n",
       "      <td>False</td>\n",
       "      <td>False</td>\n",
       "      <td>False</td>\n",
       "    </tr>\n",
       "    <tr>\n",
       "      <th>9</th>\n",
       "      <td>866</td>\n",
       "      <td>N</td>\n",
       "      <td>(AFIB</td>\n",
       "      <td>776.0</td>\n",
       "      <td>682.0</td>\n",
       "      <td>562.0</td>\n",
       "      <td>493.0</td>\n",
       "      <td>412.0</td>\n",
       "      <td>94.0</td>\n",
       "      <td>120.0</td>\n",
       "      <td>69.0</td>\n",
       "      <td>81.0</td>\n",
       "      <td>90.0</td>\n",
       "      <td>False</td>\n",
       "      <td>False</td>\n",
       "      <td>False</td>\n",
       "      <td>False</td>\n",
       "    </tr>\n",
       "  </tbody>\n",
       "</table>\n",
       "</div>"
      ],
      "text/plain": [
       "   R peak Interval Beat Annotation Episode Annotation  R_Peak_Lag_1  \\\n",
       "5              493               N              (AFIB         412.0   \n",
       "6              562               N              (AFIB         493.0   \n",
       "7              682               N              (AFIB         562.0   \n",
       "8              776               N              (AFIB         682.0   \n",
       "9              866               N              (AFIB         776.0   \n",
       "\n",
       "   R_Peak_Lag_2  R_Peak_Lag_3  R_Peak_Lag_4  R_Peak_Lag_5   RR_1   RR_2  RR_3  \\\n",
       "5         314.0         238.0         144.0          55.0   98.0   76.0  94.0   \n",
       "6         412.0         314.0         238.0         144.0   81.0   98.0  76.0   \n",
       "7         493.0         412.0         314.0         238.0   69.0   81.0  98.0   \n",
       "8         562.0         493.0         412.0         314.0  120.0   69.0  81.0   \n",
       "9         682.0         562.0         493.0         412.0   94.0  120.0  69.0   \n",
       "\n",
       "   RR_4  RR_curr  Relabeled Beat_Other Beats  Relabeled Beat_Ventricular Beat  \\\n",
       "5  89.0     81.0                       False                            False   \n",
       "6  94.0     69.0                       False                            False   \n",
       "7  76.0    120.0                       False                            False   \n",
       "8  98.0     94.0                       False                            False   \n",
       "9  81.0     90.0                       False                            False   \n",
       "\n",
       "   Relabeled Episode_Normal Episode  Relabeled Episode_Other Episode  \n",
       "5                             False                            False  \n",
       "6                             False                            False  \n",
       "7                             False                            False  \n",
       "8                             False                            False  \n",
       "9                             False                            False  "
      ]
     },
     "execution_count": 17,
     "metadata": {},
     "output_type": "execute_result"
    }
   ],
   "source": [
    "# Write your code here. Add as many boxes as you need.\n",
    "data.head()"
   ]
  },
  {
   "cell_type": "markdown",
   "metadata": {},
   "source": [
    "---\n",
    "# Model Training"
   ]
  },
  {
   "cell_type": "markdown",
   "metadata": {},
   "source": [
    "## Remove unnecessary columns"
   ]
  },
  {
   "cell_type": "markdown",
   "metadata": {},
   "source": [
    "For the purposes of training we will only be using the following columns as features:\n",
    "- Beat Annotation\n",
    "- Episode Annotation\n",
    "- **All historical** 4 RR intervals\n",
    "\n",
    "Moreover, the target column we will be forcasting is the ```current RR``` interval."
   ]
  },
  {
   "cell_type": "code",
   "execution_count": 18,
   "metadata": {},
   "outputs": [
    {
     "name": "stdout",
     "output_type": "stream",
     "text": [
      "<class 'pandas.core.frame.DataFrame'>\n",
      "Index: 1999 entries, 5 to 2003\n",
      "Data columns (total 17 columns):\n",
      " #   Column                            Non-Null Count  Dtype  \n",
      "---  ------                            --------------  -----  \n",
      " 0   R peak Interval                   1999 non-null   int64  \n",
      " 1   Beat Annotation                   1999 non-null   object \n",
      " 2   Episode Annotation                1999 non-null   object \n",
      " 3   R_Peak_Lag_1                      1999 non-null   float64\n",
      " 4   R_Peak_Lag_2                      1999 non-null   float64\n",
      " 5   R_Peak_Lag_3                      1999 non-null   float64\n",
      " 6   R_Peak_Lag_4                      1999 non-null   float64\n",
      " 7   R_Peak_Lag_5                      1999 non-null   float64\n",
      " 8   RR_1                              1999 non-null   float64\n",
      " 9   RR_2                              1999 non-null   float64\n",
      " 10  RR_3                              1999 non-null   float64\n",
      " 11  RR_4                              1999 non-null   float64\n",
      " 12  RR_curr                           1999 non-null   float64\n",
      " 13  Relabeled Beat_Other Beats        1999 non-null   bool   \n",
      " 14  Relabeled Beat_Ventricular Beat   1999 non-null   bool   \n",
      " 15  Relabeled Episode_Normal Episode  1999 non-null   bool   \n",
      " 16  Relabeled Episode_Other Episode   1999 non-null   bool   \n",
      "dtypes: bool(4), float64(10), int64(1), object(2)\n",
      "memory usage: 226.4+ KB\n"
     ]
    }
   ],
   "source": [
    "data.info()"
   ]
  },
  {
   "cell_type": "code",
   "execution_count": 19,
   "metadata": {},
   "outputs": [
    {
     "name": "stdout",
     "output_type": "stream",
     "text": [
      "['RR_1', 'RR_2', 'RR_3', 'RR_4', 'Relabeled Beat_Other Beats', 'Relabeled Beat_Ventricular Beat', 'Relabeled Episode_Normal Episode', 'Relabeled Episode_Other Episode']\n",
      "RR_curr\n"
     ]
    }
   ],
   "source": [
    "# Write your code here. Add as many boxes as you need.\n",
    "columns = data.columns\n",
    "features = [col for col in columns if col.startswith('RR_') or col.startswith('Relabeled')]\n",
    "target = 'RR_curr'\n",
    "if target in features:\n",
    "    features.remove(target)\n",
    "print(features)\n",
    "print(target)"
   ]
  },
  {
   "cell_type": "markdown",
   "metadata": {},
   "source": [
    "## Dataset Splitting\n",
    "Partition the dataset into training and testing sets with an 80:20 ratio.\n",
    "\n",
    "**WARNING: DO NOT SHUFFLE THE DATASET.**"
   ]
  },
  {
   "cell_type": "code",
   "execution_count": 20,
   "metadata": {},
   "outputs": [],
   "source": [
    "# Write your code here. Add as many boxes as you need.\n",
    "X = data[features]\n",
    "y = data[target]\n",
    "\n",
    "X_train, X_test, y_train, y_test = train_test_split(X, y, test_size=0.2, shuffle=False)"
   ]
  },
  {
   "cell_type": "markdown",
   "metadata": {},
   "source": [
    "## Neural Network (RNN / CRNN)\n",
    "\n",
    "Create a deep (convolutional) recurrent neural network using:\n",
    "- Minimum of 1 Convolutional Layer **(+2 points Optional)** and\n",
    "- Minimum of 1 LSTM Layer"
   ]
  },
  {
   "cell_type": "code",
   "execution_count": 21,
   "metadata": {},
   "outputs": [],
   "source": [
    "# Write your code here. Add as many boxes as you need."
   ]
  },
  {
   "cell_type": "markdown",
   "metadata": {},
   "source": [
    "**Reshape Data If Necessary**"
   ]
  },
  {
   "cell_type": "code",
   "execution_count": 22,
   "metadata": {},
   "outputs": [
    {
     "name": "stdout",
     "output_type": "stream",
     "text": [
      "(1599, 8, 1)\n"
     ]
    }
   ],
   "source": [
    "# Write your code here. Add as many boxes as you need.\n",
    "X_train_reshaped = np.expand_dims(X_train.values, axis=-1)\n",
    "X_test_reshaped = np.expand_dims(X_test.values, axis=-1)\n",
    "print(X_train_reshaped.shape)"
   ]
  },
  {
   "cell_type": "markdown",
   "metadata": {},
   "source": [
    "Compile and fit the model (Run only train 3 Epoch)."
   ]
  },
  {
   "cell_type": "code",
   "execution_count": 23,
   "metadata": {},
   "outputs": [
    {
     "name": "stderr",
     "output_type": "stream",
     "text": [
      "C:\\Users\\Beqir\\AppData\\Local\\Programs\\Python\\Python312\\Lib\\site-packages\\keras\\src\\layers\\convolutional\\base_conv.py:107: UserWarning: Do not pass an `input_shape`/`input_dim` argument to a layer. When using Sequential models, prefer using an `Input(shape)` object as the first layer in the model instead.\n",
      "  super().__init__(activity_regularizer=activity_regularizer, **kwargs)\n"
     ]
    },
    {
     "name": "stdout",
     "output_type": "stream",
     "text": [
      "Epoch 1/100\n",
      "\u001b[1m40/40\u001b[0m \u001b[32m━━━━━━━━━━━━━━━━━━━━\u001b[0m\u001b[37m\u001b[0m \u001b[1m4s\u001b[0m 18ms/step - loss: 14096.1094 - mae: 111.4337 - val_loss: 18101.7148 - val_mae: 128.8640\n",
      "Epoch 2/100\n",
      "\u001b[1m40/40\u001b[0m \u001b[32m━━━━━━━━━━━━━━━━━━━━\u001b[0m\u001b[37m\u001b[0m \u001b[1m0s\u001b[0m 8ms/step - loss: 12791.7627 - mae: 105.1942 - val_loss: 14770.0752 - val_mae: 115.2196\n",
      "Epoch 3/100\n",
      "\u001b[1m40/40\u001b[0m \u001b[32m━━━━━━━━━━━━━━━━━━━━\u001b[0m\u001b[37m\u001b[0m \u001b[1m0s\u001b[0m 7ms/step - loss: 10072.4199 - mae: 91.0833 - val_loss: 11685.7090 - val_mae: 100.9760\n",
      "Epoch 4/100\n",
      "\u001b[1m40/40\u001b[0m \u001b[32m━━━━━━━━━━━━━━━━━━━━\u001b[0m\u001b[37m\u001b[0m \u001b[1m0s\u001b[0m 7ms/step - loss: 7276.8677 - mae: 74.5668 - val_loss: 8753.0410 - val_mae: 86.0285\n",
      "Epoch 5/100\n",
      "\u001b[1m40/40\u001b[0m \u001b[32m━━━━━━━━━━━━━━━━━━━━\u001b[0m\u001b[37m\u001b[0m \u001b[1m0s\u001b[0m 6ms/step - loss: 5329.4595 - mae: 60.7203 - val_loss: 6224.8340 - val_mae: 71.5346\n",
      "Epoch 6/100\n",
      "\u001b[1m40/40\u001b[0m \u001b[32m━━━━━━━━━━━━━━━━━━━━\u001b[0m\u001b[37m\u001b[0m \u001b[1m0s\u001b[0m 5ms/step - loss: 3619.8335 - mae: 47.2111 - val_loss: 4357.3037 - val_mae: 60.5621\n",
      "Epoch 7/100\n",
      "\u001b[1m40/40\u001b[0m \u001b[32m━━━━━━━━━━━━━━━━━━━━\u001b[0m\u001b[37m\u001b[0m \u001b[1m0s\u001b[0m 5ms/step - loss: 2584.7412 - mae: 39.7917 - val_loss: 3175.7166 - val_mae: 52.2168\n",
      "Epoch 8/100\n",
      "\u001b[1m40/40\u001b[0m \u001b[32m━━━━━━━━━━━━━━━━━━━━\u001b[0m\u001b[37m\u001b[0m \u001b[1m0s\u001b[0m 5ms/step - loss: 2268.0291 - mae: 36.6930 - val_loss: 2521.9954 - val_mae: 46.2889\n",
      "Epoch 9/100\n",
      "\u001b[1m40/40\u001b[0m \u001b[32m━━━━━━━━━━━━━━━━━━━━\u001b[0m\u001b[37m\u001b[0m \u001b[1m0s\u001b[0m 5ms/step - loss: 1848.3651 - mae: 34.9944 - val_loss: 2186.6367 - val_mae: 42.5139\n",
      "Epoch 10/100\n",
      "\u001b[1m40/40\u001b[0m \u001b[32m━━━━━━━━━━━━━━━━━━━━\u001b[0m\u001b[37m\u001b[0m \u001b[1m0s\u001b[0m 5ms/step - loss: 1777.5594 - mae: 34.8909 - val_loss: 2043.0872 - val_mae: 40.6465\n",
      "Epoch 11/100\n",
      "\u001b[1m40/40\u001b[0m \u001b[32m━━━━━━━━━━━━━━━━━━━━\u001b[0m\u001b[37m\u001b[0m \u001b[1m0s\u001b[0m 5ms/step - loss: 1766.2450 - mae: 34.7182 - val_loss: 1991.0605 - val_mae: 39.9172\n",
      "Epoch 12/100\n",
      "\u001b[1m40/40\u001b[0m \u001b[32m━━━━━━━━━━━━━━━━━━━━\u001b[0m\u001b[37m\u001b[0m \u001b[1m0s\u001b[0m 5ms/step - loss: 1796.0630 - mae: 36.0590 - val_loss: 1940.8186 - val_mae: 39.1884\n",
      "Epoch 13/100\n",
      "\u001b[1m40/40\u001b[0m \u001b[32m━━━━━━━━━━━━━━━━━━━━\u001b[0m\u001b[37m\u001b[0m \u001b[1m0s\u001b[0m 5ms/step - loss: 1823.1797 - mae: 35.8927 - val_loss: 1943.2070 - val_mae: 39.2238\n",
      "Epoch 14/100\n",
      "\u001b[1m40/40\u001b[0m \u001b[32m━━━━━━━━━━━━━━━━━━━━\u001b[0m\u001b[37m\u001b[0m \u001b[1m0s\u001b[0m 5ms/step - loss: 1690.4183 - mae: 34.7204 - val_loss: 1928.4021 - val_mae: 39.0036\n",
      "Epoch 15/100\n",
      "\u001b[1m40/40\u001b[0m \u001b[32m━━━━━━━━━━━━━━━━━━━━\u001b[0m\u001b[37m\u001b[0m \u001b[1m0s\u001b[0m 5ms/step - loss: 1907.7268 - mae: 35.4101 - val_loss: 1940.5807 - val_mae: 39.1851\n",
      "Epoch 16/100\n",
      "\u001b[1m40/40\u001b[0m \u001b[32m━━━━━━━━━━━━━━━━━━━━\u001b[0m\u001b[37m\u001b[0m \u001b[1m0s\u001b[0m 5ms/step - loss: 1786.0507 - mae: 34.9700 - val_loss: 1947.8010 - val_mae: 39.2915\n",
      "Epoch 17/100\n",
      "\u001b[1m40/40\u001b[0m \u001b[32m━━━━━━━━━━━━━━━━━━━━\u001b[0m\u001b[37m\u001b[0m \u001b[1m0s\u001b[0m 5ms/step - loss: 1702.2014 - mae: 34.6012 - val_loss: 1949.2692 - val_mae: 39.3131\n",
      "Epoch 18/100\n",
      "\u001b[1m40/40\u001b[0m \u001b[32m━━━━━━━━━━━━━━━━━━━━\u001b[0m\u001b[37m\u001b[0m \u001b[1m0s\u001b[0m 5ms/step - loss: 1726.2633 - mae: 34.9581 - val_loss: 1924.3867 - val_mae: 38.9434\n",
      "Epoch 19/100\n",
      "\u001b[1m40/40\u001b[0m \u001b[32m━━━━━━━━━━━━━━━━━━━━\u001b[0m\u001b[37m\u001b[0m \u001b[1m0s\u001b[0m 5ms/step - loss: 1826.6017 - mae: 35.4058 - val_loss: 1937.1387 - val_mae: 39.1343\n",
      "Epoch 20/100\n",
      "\u001b[1m40/40\u001b[0m \u001b[32m━━━━━━━━━━━━━━━━━━━━\u001b[0m\u001b[37m\u001b[0m \u001b[1m0s\u001b[0m 8ms/step - loss: 1738.6860 - mae: 34.5846 - val_loss: 1929.3926 - val_mae: 39.0188\n",
      "Epoch 21/100\n",
      "\u001b[1m40/40\u001b[0m \u001b[32m━━━━━━━━━━━━━━━━━━━━\u001b[0m\u001b[37m\u001b[0m \u001b[1m0s\u001b[0m 5ms/step - loss: 1831.6522 - mae: 35.6842 - val_loss: 1939.4766 - val_mae: 39.1710\n",
      "Epoch 22/100\n",
      "\u001b[1m40/40\u001b[0m \u001b[32m━━━━━━━━━━━━━━━━━━━━\u001b[0m\u001b[37m\u001b[0m \u001b[1m0s\u001b[0m 5ms/step - loss: 1869.5536 - mae: 35.8464 - val_loss: 1931.3184 - val_mae: 39.0898\n",
      "Epoch 23/100\n",
      "\u001b[1m40/40\u001b[0m \u001b[32m━━━━━━━━━━━━━━━━━━━━\u001b[0m\u001b[37m\u001b[0m \u001b[1m0s\u001b[0m 5ms/step - loss: 1699.9756 - mae: 34.8660 - val_loss: 1916.7561 - val_mae: 38.9408\n",
      "Epoch 24/100\n",
      "\u001b[1m40/40\u001b[0m \u001b[32m━━━━━━━━━━━━━━━━━━━━\u001b[0m\u001b[37m\u001b[0m \u001b[1m0s\u001b[0m 5ms/step - loss: 1617.8170 - mae: 32.2961 - val_loss: 1763.1931 - val_mae: 36.3669\n",
      "Epoch 25/100\n",
      "\u001b[1m40/40\u001b[0m \u001b[32m━━━━━━━━━━━━━━━━━━━━\u001b[0m\u001b[37m\u001b[0m \u001b[1m0s\u001b[0m 5ms/step - loss: 1325.1566 - mae: 28.8010 - val_loss: 1547.0408 - val_mae: 32.5173\n",
      "Epoch 26/100\n",
      "\u001b[1m40/40\u001b[0m \u001b[32m━━━━━━━━━━━━━━━━━━━━\u001b[0m\u001b[37m\u001b[0m \u001b[1m0s\u001b[0m 5ms/step - loss: 1101.7557 - mae: 25.4605 - val_loss: 1382.8853 - val_mae: 27.8580\n",
      "Epoch 27/100\n",
      "\u001b[1m40/40\u001b[0m \u001b[32m━━━━━━━━━━━━━━━━━━━━\u001b[0m\u001b[37m\u001b[0m \u001b[1m0s\u001b[0m 5ms/step - loss: 985.1240 - mae: 22.8848 - val_loss: 1330.3966 - val_mae: 26.0515\n",
      "Epoch 28/100\n",
      "\u001b[1m40/40\u001b[0m \u001b[32m━━━━━━━━━━━━━━━━━━━━\u001b[0m\u001b[37m\u001b[0m \u001b[1m0s\u001b[0m 5ms/step - loss: 991.3045 - mae: 21.8062 - val_loss: 1210.7515 - val_mae: 23.9978\n",
      "Epoch 29/100\n",
      "\u001b[1m40/40\u001b[0m \u001b[32m━━━━━━━━━━━━━━━━━━━━\u001b[0m\u001b[37m\u001b[0m \u001b[1m0s\u001b[0m 5ms/step - loss: 838.0298 - mae: 20.6336 - val_loss: 1198.6005 - val_mae: 27.3407\n",
      "Epoch 30/100\n",
      "\u001b[1m40/40\u001b[0m \u001b[32m━━━━━━━━━━━━━━━━━━━━\u001b[0m\u001b[37m\u001b[0m \u001b[1m0s\u001b[0m 5ms/step - loss: 821.6378 - mae: 20.3150 - val_loss: 1047.6394 - val_mae: 21.6938\n",
      "Epoch 31/100\n",
      "\u001b[1m40/40\u001b[0m \u001b[32m━━━━━━━━━━━━━━━━━━━━\u001b[0m\u001b[37m\u001b[0m \u001b[1m0s\u001b[0m 5ms/step - loss: 895.3331 - mae: 19.3557 - val_loss: 1014.4434 - val_mae: 21.1892\n",
      "Epoch 32/100\n",
      "\u001b[1m40/40\u001b[0m \u001b[32m━━━━━━━━━━━━━━━━━━━━\u001b[0m\u001b[37m\u001b[0m \u001b[1m0s\u001b[0m 5ms/step - loss: 800.1011 - mae: 19.2910 - val_loss: 916.4012 - val_mae: 20.3331\n",
      "Epoch 33/100\n",
      "\u001b[1m40/40\u001b[0m \u001b[32m━━━━━━━━━━━━━━━━━━━━\u001b[0m\u001b[37m\u001b[0m \u001b[1m0s\u001b[0m 5ms/step - loss: 820.1267 - mae: 19.1676 - val_loss: 774.7453 - val_mae: 19.3299\n",
      "Epoch 34/100\n",
      "\u001b[1m40/40\u001b[0m \u001b[32m━━━━━━━━━━━━━━━━━━━━\u001b[0m\u001b[37m\u001b[0m \u001b[1m0s\u001b[0m 5ms/step - loss: 854.1631 - mae: 18.3674 - val_loss: 683.3948 - val_mae: 18.7423\n",
      "Epoch 35/100\n",
      "\u001b[1m40/40\u001b[0m \u001b[32m━━━━━━━━━━━━━━━━━━━━\u001b[0m\u001b[37m\u001b[0m \u001b[1m0s\u001b[0m 5ms/step - loss: 828.0216 - mae: 18.0718 - val_loss: 653.8832 - val_mae: 18.1100\n",
      "Epoch 36/100\n",
      "\u001b[1m40/40\u001b[0m \u001b[32m━━━━━━━━━━━━━━━━━━━━\u001b[0m\u001b[37m\u001b[0m \u001b[1m0s\u001b[0m 5ms/step - loss: 596.0134 - mae: 16.5893 - val_loss: 661.9008 - val_mae: 18.3064\n",
      "Epoch 37/100\n",
      "\u001b[1m40/40\u001b[0m \u001b[32m━━━━━━━━━━━━━━━━━━━━\u001b[0m\u001b[37m\u001b[0m \u001b[1m0s\u001b[0m 5ms/step - loss: 656.4393 - mae: 17.1501 - val_loss: 638.8826 - val_mae: 19.0344\n",
      "Epoch 38/100\n",
      "\u001b[1m40/40\u001b[0m \u001b[32m━━━━━━━━━━━━━━━━━━━━\u001b[0m\u001b[37m\u001b[0m \u001b[1m0s\u001b[0m 5ms/step - loss: 644.2191 - mae: 16.6867 - val_loss: 556.6503 - val_mae: 16.9940\n",
      "Epoch 39/100\n",
      "\u001b[1m40/40\u001b[0m \u001b[32m━━━━━━━━━━━━━━━━━━━━\u001b[0m\u001b[37m\u001b[0m \u001b[1m0s\u001b[0m 5ms/step - loss: 503.5390 - mae: 15.6111 - val_loss: 548.4202 - val_mae: 16.9628\n",
      "Epoch 40/100\n",
      "\u001b[1m40/40\u001b[0m \u001b[32m━━━━━━━━━━━━━━━━━━━━\u001b[0m\u001b[37m\u001b[0m \u001b[1m0s\u001b[0m 5ms/step - loss: 569.9659 - mae: 16.1476 - val_loss: 482.7972 - val_mae: 15.9853\n",
      "Epoch 41/100\n",
      "\u001b[1m40/40\u001b[0m \u001b[32m━━━━━━━━━━━━━━━━━━━━\u001b[0m\u001b[37m\u001b[0m \u001b[1m0s\u001b[0m 5ms/step - loss: 552.4042 - mae: 15.6336 - val_loss: 485.4761 - val_mae: 15.9828\n",
      "Epoch 42/100\n",
      "\u001b[1m40/40\u001b[0m \u001b[32m━━━━━━━━━━━━━━━━━━━━\u001b[0m\u001b[37m\u001b[0m \u001b[1m0s\u001b[0m 5ms/step - loss: 640.6448 - mae: 16.3571 - val_loss: 468.5849 - val_mae: 15.8408\n",
      "Epoch 43/100\n",
      "\u001b[1m40/40\u001b[0m \u001b[32m━━━━━━━━━━━━━━━━━━━━\u001b[0m\u001b[37m\u001b[0m \u001b[1m0s\u001b[0m 5ms/step - loss: 549.6836 - mae: 15.7874 - val_loss: 457.0023 - val_mae: 15.3831\n",
      "Epoch 44/100\n",
      "\u001b[1m40/40\u001b[0m \u001b[32m━━━━━━━━━━━━━━━━━━━━\u001b[0m\u001b[37m\u001b[0m \u001b[1m0s\u001b[0m 6ms/step - loss: 567.3055 - mae: 15.6206 - val_loss: 438.2212 - val_mae: 15.2749\n",
      "Epoch 45/100\n",
      "\u001b[1m40/40\u001b[0m \u001b[32m━━━━━━━━━━━━━━━━━━━━\u001b[0m\u001b[37m\u001b[0m \u001b[1m0s\u001b[0m 5ms/step - loss: 541.6096 - mae: 15.7501 - val_loss: 437.0771 - val_mae: 14.9549\n",
      "Epoch 46/100\n",
      "\u001b[1m40/40\u001b[0m \u001b[32m━━━━━━━━━━━━━━━━━━━━\u001b[0m\u001b[37m\u001b[0m \u001b[1m0s\u001b[0m 5ms/step - loss: 537.1855 - mae: 15.7149 - val_loss: 407.2608 - val_mae: 14.4413\n",
      "Epoch 47/100\n",
      "\u001b[1m40/40\u001b[0m \u001b[32m━━━━━━━━━━━━━━━━━━━━\u001b[0m\u001b[37m\u001b[0m \u001b[1m0s\u001b[0m 5ms/step - loss: 468.3848 - mae: 14.7793 - val_loss: 446.1223 - val_mae: 15.2430\n",
      "Epoch 48/100\n",
      "\u001b[1m40/40\u001b[0m \u001b[32m━━━━━━━━━━━━━━━━━━━━\u001b[0m\u001b[37m\u001b[0m \u001b[1m0s\u001b[0m 5ms/step - loss: 615.8226 - mae: 14.9684 - val_loss: 368.5648 - val_mae: 13.6144\n",
      "Epoch 49/100\n",
      "\u001b[1m40/40\u001b[0m \u001b[32m━━━━━━━━━━━━━━━━━━━━\u001b[0m\u001b[37m\u001b[0m \u001b[1m0s\u001b[0m 5ms/step - loss: 493.9845 - mae: 15.3588 - val_loss: 630.9165 - val_mae: 18.5964\n",
      "Epoch 50/100\n",
      "\u001b[1m40/40\u001b[0m \u001b[32m━━━━━━━━━━━━━━━━━━━━\u001b[0m\u001b[37m\u001b[0m \u001b[1m0s\u001b[0m 5ms/step - loss: 547.1394 - mae: 16.0578 - val_loss: 400.5760 - val_mae: 14.2254\n",
      "Epoch 51/100\n",
      "\u001b[1m40/40\u001b[0m \u001b[32m━━━━━━━━━━━━━━━━━━━━\u001b[0m\u001b[37m\u001b[0m \u001b[1m0s\u001b[0m 5ms/step - loss: 503.2050 - mae: 14.8914 - val_loss: 393.0294 - val_mae: 13.9284\n",
      "Epoch 52/100\n",
      "\u001b[1m40/40\u001b[0m \u001b[32m━━━━━━━━━━━━━━━━━━━━\u001b[0m\u001b[37m\u001b[0m \u001b[1m0s\u001b[0m 5ms/step - loss: 524.5453 - mae: 14.9520 - val_loss: 396.2332 - val_mae: 13.9752\n",
      "Epoch 53/100\n",
      "\u001b[1m40/40\u001b[0m \u001b[32m━━━━━━━━━━━━━━━━━━━━\u001b[0m\u001b[37m\u001b[0m \u001b[1m0s\u001b[0m 5ms/step - loss: 555.8203 - mae: 15.1868 - val_loss: 379.0413 - val_mae: 14.0218\n",
      "Epoch 54/100\n",
      "\u001b[1m40/40\u001b[0m \u001b[32m━━━━━━━━━━━━━━━━━━━━\u001b[0m\u001b[37m\u001b[0m \u001b[1m0s\u001b[0m 5ms/step - loss: 549.2031 - mae: 14.9163 - val_loss: 346.2190 - val_mae: 13.0390\n",
      "Epoch 55/100\n",
      "\u001b[1m40/40\u001b[0m \u001b[32m━━━━━━━━━━━━━━━━━━━━\u001b[0m\u001b[37m\u001b[0m \u001b[1m0s\u001b[0m 5ms/step - loss: 560.3594 - mae: 15.4927 - val_loss: 380.9418 - val_mae: 13.4392\n",
      "Epoch 56/100\n",
      "\u001b[1m40/40\u001b[0m \u001b[32m━━━━━━━━━━━━━━━━━━━━\u001b[0m\u001b[37m\u001b[0m \u001b[1m0s\u001b[0m 5ms/step - loss: 658.7666 - mae: 15.9318 - val_loss: 346.7815 - val_mae: 13.0543\n",
      "Epoch 57/100\n",
      "\u001b[1m40/40\u001b[0m \u001b[32m━━━━━━━━━━━━━━━━━━━━\u001b[0m\u001b[37m\u001b[0m \u001b[1m0s\u001b[0m 5ms/step - loss: 522.2912 - mae: 14.6878 - val_loss: 358.7781 - val_mae: 13.1991\n",
      "Epoch 58/100\n",
      "\u001b[1m40/40\u001b[0m \u001b[32m━━━━━━━━━━━━━━━━━━━━\u001b[0m\u001b[37m\u001b[0m \u001b[1m0s\u001b[0m 5ms/step - loss: 488.0178 - mae: 14.2450 - val_loss: 342.5762 - val_mae: 12.8823\n",
      "Epoch 59/100\n",
      "\u001b[1m40/40\u001b[0m \u001b[32m━━━━━━━━━━━━━━━━━━━━\u001b[0m\u001b[37m\u001b[0m \u001b[1m0s\u001b[0m 5ms/step - loss: 474.1125 - mae: 14.5705 - val_loss: 392.7711 - val_mae: 13.5799\n",
      "Epoch 60/100\n",
      "\u001b[1m40/40\u001b[0m \u001b[32m━━━━━━━━━━━━━━━━━━━━\u001b[0m\u001b[37m\u001b[0m \u001b[1m0s\u001b[0m 6ms/step - loss: 494.5096 - mae: 14.8393 - val_loss: 403.2809 - val_mae: 13.9258\n",
      "Epoch 61/100\n",
      "\u001b[1m40/40\u001b[0m \u001b[32m━━━━━━━━━━━━━━━━━━━━\u001b[0m\u001b[37m\u001b[0m \u001b[1m0s\u001b[0m 5ms/step - loss: 543.2615 - mae: 14.8260 - val_loss: 376.0832 - val_mae: 13.4808\n",
      "Epoch 62/100\n",
      "\u001b[1m40/40\u001b[0m \u001b[32m━━━━━━━━━━━━━━━━━━━━\u001b[0m\u001b[37m\u001b[0m \u001b[1m0s\u001b[0m 5ms/step - loss: 593.8163 - mae: 14.8263 - val_loss: 435.9140 - val_mae: 14.1878\n",
      "Epoch 63/100\n",
      "\u001b[1m40/40\u001b[0m \u001b[32m━━━━━━━━━━━━━━━━━━━━\u001b[0m\u001b[37m\u001b[0m \u001b[1m0s\u001b[0m 5ms/step - loss: 421.4726 - mae: 14.0565 - val_loss: 409.2810 - val_mae: 13.8439\n",
      "Epoch 64/100\n",
      "\u001b[1m40/40\u001b[0m \u001b[32m━━━━━━━━━━━━━━━━━━━━\u001b[0m\u001b[37m\u001b[0m \u001b[1m0s\u001b[0m 5ms/step - loss: 470.4169 - mae: 14.2997 - val_loss: 419.1604 - val_mae: 13.6379\n",
      "Epoch 65/100\n",
      "\u001b[1m40/40\u001b[0m \u001b[32m━━━━━━━━━━━━━━━━━━━━\u001b[0m\u001b[37m\u001b[0m \u001b[1m0s\u001b[0m 5ms/step - loss: 444.6364 - mae: 13.9387 - val_loss: 523.2877 - val_mae: 14.3759\n",
      "Epoch 66/100\n",
      "\u001b[1m40/40\u001b[0m \u001b[32m━━━━━━━━━━━━━━━━━━━━\u001b[0m\u001b[37m\u001b[0m \u001b[1m0s\u001b[0m 5ms/step - loss: 555.9254 - mae: 14.5184 - val_loss: 415.2668 - val_mae: 13.5360\n",
      "Epoch 67/100\n",
      "\u001b[1m40/40\u001b[0m \u001b[32m━━━━━━━━━━━━━━━━━━━━\u001b[0m\u001b[37m\u001b[0m \u001b[1m0s\u001b[0m 5ms/step - loss: 757.8248 - mae: 15.4103 - val_loss: 359.9710 - val_mae: 12.7251\n",
      "Epoch 68/100\n",
      "\u001b[1m40/40\u001b[0m \u001b[32m━━━━━━━━━━━━━━━━━━━━\u001b[0m\u001b[37m\u001b[0m \u001b[1m0s\u001b[0m 5ms/step - loss: 421.3265 - mae: 13.9221 - val_loss: 394.1244 - val_mae: 12.9440\n",
      "Epoch 69/100\n",
      "\u001b[1m40/40\u001b[0m \u001b[32m━━━━━━━━━━━━━━━━━━━━\u001b[0m\u001b[37m\u001b[0m \u001b[1m0s\u001b[0m 5ms/step - loss: 527.4083 - mae: 14.1116 - val_loss: 409.0972 - val_mae: 14.0159\n",
      "Epoch 70/100\n",
      "\u001b[1m40/40\u001b[0m \u001b[32m━━━━━━━━━━━━━━━━━━━━\u001b[0m\u001b[37m\u001b[0m \u001b[1m0s\u001b[0m 5ms/step - loss: 482.2924 - mae: 14.6233 - val_loss: 479.8345 - val_mae: 14.9525\n",
      "Epoch 71/100\n",
      "\u001b[1m40/40\u001b[0m \u001b[32m━━━━━━━━━━━━━━━━━━━━\u001b[0m\u001b[37m\u001b[0m \u001b[1m0s\u001b[0m 5ms/step - loss: 414.9252 - mae: 13.9295 - val_loss: 383.9924 - val_mae: 12.8521\n",
      "Epoch 72/100\n",
      "\u001b[1m40/40\u001b[0m \u001b[32m━━━━━━━━━━━━━━━━━━━━\u001b[0m\u001b[37m\u001b[0m \u001b[1m0s\u001b[0m 5ms/step - loss: 409.5469 - mae: 13.6195 - val_loss: 534.3715 - val_mae: 15.2408\n",
      "Epoch 73/100\n",
      "\u001b[1m40/40\u001b[0m \u001b[32m━━━━━━━━━━━━━━━━━━━━\u001b[0m\u001b[37m\u001b[0m \u001b[1m0s\u001b[0m 5ms/step - loss: 440.8782 - mae: 14.0425 - val_loss: 480.1027 - val_mae: 14.0362\n",
      "Epoch 74/100\n",
      "\u001b[1m40/40\u001b[0m \u001b[32m━━━━━━━━━━━━━━━━━━━━\u001b[0m\u001b[37m\u001b[0m \u001b[1m0s\u001b[0m 5ms/step - loss: 430.4770 - mae: 14.4563 - val_loss: 476.2834 - val_mae: 14.0592\n",
      "Epoch 75/100\n",
      "\u001b[1m40/40\u001b[0m \u001b[32m━━━━━━━━━━━━━━━━━━━━\u001b[0m\u001b[37m\u001b[0m \u001b[1m0s\u001b[0m 5ms/step - loss: 483.9871 - mae: 13.4365 - val_loss: 487.9970 - val_mae: 14.3004\n",
      "Epoch 76/100\n",
      "\u001b[1m40/40\u001b[0m \u001b[32m━━━━━━━━━━━━━━━━━━━━\u001b[0m\u001b[37m\u001b[0m \u001b[1m0s\u001b[0m 5ms/step - loss: 396.6426 - mae: 13.4228 - val_loss: 434.8329 - val_mae: 13.5108\n",
      "Epoch 77/100\n",
      "\u001b[1m40/40\u001b[0m \u001b[32m━━━━━━━━━━━━━━━━━━━━\u001b[0m\u001b[37m\u001b[0m \u001b[1m0s\u001b[0m 5ms/step - loss: 718.7260 - mae: 14.6361 - val_loss: 411.8457 - val_mae: 13.0552\n",
      "Epoch 78/100\n",
      "\u001b[1m40/40\u001b[0m \u001b[32m━━━━━━━━━━━━━━━━━━━━\u001b[0m\u001b[37m\u001b[0m \u001b[1m0s\u001b[0m 5ms/step - loss: 436.6049 - mae: 13.8870 - val_loss: 555.5236 - val_mae: 14.5710\n",
      "Epoch 79/100\n",
      "\u001b[1m40/40\u001b[0m \u001b[32m━━━━━━━━━━━━━━━━━━━━\u001b[0m\u001b[37m\u001b[0m \u001b[1m0s\u001b[0m 5ms/step - loss: 522.1718 - mae: 14.0124 - val_loss: 504.1003 - val_mae: 14.2801\n",
      "Epoch 80/100\n",
      "\u001b[1m40/40\u001b[0m \u001b[32m━━━━━━━━━━━━━━━━━━━━\u001b[0m\u001b[37m\u001b[0m \u001b[1m0s\u001b[0m 5ms/step - loss: 512.0701 - mae: 14.7319 - val_loss: 455.6871 - val_mae: 14.1607\n",
      "Epoch 81/100\n",
      "\u001b[1m40/40\u001b[0m \u001b[32m━━━━━━━━━━━━━━━━━━━━\u001b[0m\u001b[37m\u001b[0m \u001b[1m0s\u001b[0m 5ms/step - loss: 469.2943 - mae: 13.8049 - val_loss: 459.6262 - val_mae: 13.8605\n",
      "Epoch 82/100\n",
      "\u001b[1m40/40\u001b[0m \u001b[32m━━━━━━━━━━━━━━━━━━━━\u001b[0m\u001b[37m\u001b[0m \u001b[1m0s\u001b[0m 5ms/step - loss: 439.9890 - mae: 13.5174 - val_loss: 566.6208 - val_mae: 15.0078\n",
      "Epoch 83/100\n",
      "\u001b[1m40/40\u001b[0m \u001b[32m━━━━━━━━━━━━━━━━━━━━\u001b[0m\u001b[37m\u001b[0m \u001b[1m0s\u001b[0m 5ms/step - loss: 429.7824 - mae: 13.9884 - val_loss: 400.9415 - val_mae: 13.0520\n",
      "Epoch 84/100\n",
      "\u001b[1m40/40\u001b[0m \u001b[32m━━━━━━━━━━━━━━━━━━━━\u001b[0m\u001b[37m\u001b[0m \u001b[1m0s\u001b[0m 5ms/step - loss: 422.7841 - mae: 13.5247 - val_loss: 491.2598 - val_mae: 14.0552\n",
      "Epoch 85/100\n",
      "\u001b[1m40/40\u001b[0m \u001b[32m━━━━━━━━━━━━━━━━━━━━\u001b[0m\u001b[37m\u001b[0m \u001b[1m0s\u001b[0m 5ms/step - loss: 487.6306 - mae: 14.1994 - val_loss: 471.0803 - val_mae: 13.9116\n",
      "Epoch 86/100\n",
      "\u001b[1m40/40\u001b[0m \u001b[32m━━━━━━━━━━━━━━━━━━━━\u001b[0m\u001b[37m\u001b[0m \u001b[1m0s\u001b[0m 5ms/step - loss: 487.8544 - mae: 13.5212 - val_loss: 487.5514 - val_mae: 13.6452\n",
      "Epoch 87/100\n",
      "\u001b[1m40/40\u001b[0m \u001b[32m━━━━━━━━━━━━━━━━━━━━\u001b[0m\u001b[37m\u001b[0m \u001b[1m0s\u001b[0m 5ms/step - loss: 434.0229 - mae: 13.8555 - val_loss: 439.4371 - val_mae: 14.0934\n",
      "Epoch 88/100\n",
      "\u001b[1m40/40\u001b[0m \u001b[32m━━━━━━━━━━━━━━━━━━━━\u001b[0m\u001b[37m\u001b[0m \u001b[1m0s\u001b[0m 5ms/step - loss: 413.6543 - mae: 13.4433 - val_loss: 492.0029 - val_mae: 14.5627\n",
      "Epoch 89/100\n",
      "\u001b[1m40/40\u001b[0m \u001b[32m━━━━━━━━━━━━━━━━━━━━\u001b[0m\u001b[37m\u001b[0m \u001b[1m0s\u001b[0m 5ms/step - loss: 534.4222 - mae: 14.8240 - val_loss: 382.4371 - val_mae: 12.8302\n",
      "Epoch 90/100\n",
      "\u001b[1m40/40\u001b[0m \u001b[32m━━━━━━━━━━━━━━━━━━━━\u001b[0m\u001b[37m\u001b[0m \u001b[1m0s\u001b[0m 5ms/step - loss: 402.5977 - mae: 13.8731 - val_loss: 527.2131 - val_mae: 14.3213\n",
      "Epoch 91/100\n",
      "\u001b[1m40/40\u001b[0m \u001b[32m━━━━━━━━━━━━━━━━━━━━\u001b[0m\u001b[37m\u001b[0m \u001b[1m0s\u001b[0m 5ms/step - loss: 376.4171 - mae: 13.0413 - val_loss: 611.5094 - val_mae: 15.0194\n",
      "Epoch 92/100\n",
      "\u001b[1m40/40\u001b[0m \u001b[32m━━━━━━━━━━━━━━━━━━━━\u001b[0m\u001b[37m\u001b[0m \u001b[1m0s\u001b[0m 5ms/step - loss: 452.9402 - mae: 13.3277 - val_loss: 552.1338 - val_mae: 15.1709\n",
      "Epoch 93/100\n",
      "\u001b[1m40/40\u001b[0m \u001b[32m━━━━━━━━━━━━━━━━━━━━\u001b[0m\u001b[37m\u001b[0m \u001b[1m0s\u001b[0m 5ms/step - loss: 395.2868 - mae: 13.0955 - val_loss: 567.5538 - val_mae: 14.4974\n",
      "Epoch 94/100\n",
      "\u001b[1m40/40\u001b[0m \u001b[32m━━━━━━━━━━━━━━━━━━━━\u001b[0m\u001b[37m\u001b[0m \u001b[1m0s\u001b[0m 5ms/step - loss: 496.5143 - mae: 14.2259 - val_loss: 507.5214 - val_mae: 13.6076\n",
      "Epoch 95/100\n",
      "\u001b[1m40/40\u001b[0m \u001b[32m━━━━━━━━━━━━━━━━━━━━\u001b[0m\u001b[37m\u001b[0m \u001b[1m0s\u001b[0m 5ms/step - loss: 504.7812 - mae: 14.1408 - val_loss: 496.3939 - val_mae: 13.8129\n",
      "Epoch 96/100\n",
      "\u001b[1m40/40\u001b[0m \u001b[32m━━━━━━━━━━━━━━━━━━━━\u001b[0m\u001b[37m\u001b[0m \u001b[1m0s\u001b[0m 5ms/step - loss: 432.0775 - mae: 13.2641 - val_loss: 626.3030 - val_mae: 15.5837\n",
      "Epoch 97/100\n",
      "\u001b[1m40/40\u001b[0m \u001b[32m━━━━━━━━━━━━━━━━━━━━\u001b[0m\u001b[37m\u001b[0m \u001b[1m0s\u001b[0m 5ms/step - loss: 406.6137 - mae: 13.2192 - val_loss: 454.3329 - val_mae: 13.7394\n",
      "Epoch 98/100\n",
      "\u001b[1m40/40\u001b[0m \u001b[32m━━━━━━━━━━━━━━━━━━━━\u001b[0m\u001b[37m\u001b[0m \u001b[1m0s\u001b[0m 5ms/step - loss: 425.3300 - mae: 13.5219 - val_loss: 588.0197 - val_mae: 14.7410\n",
      "Epoch 99/100\n",
      "\u001b[1m40/40\u001b[0m \u001b[32m━━━━━━━━━━━━━━━━━━━━\u001b[0m\u001b[37m\u001b[0m \u001b[1m0s\u001b[0m 6ms/step - loss: 345.6796 - mae: 12.6271 - val_loss: 555.8326 - val_mae: 14.7930\n",
      "Epoch 100/100\n",
      "\u001b[1m40/40\u001b[0m \u001b[32m━━━━━━━━━━━━━━━━━━━━\u001b[0m\u001b[37m\u001b[0m \u001b[1m0s\u001b[0m 5ms/step - loss: 398.0739 - mae: 13.4213 - val_loss: 530.8801 - val_mae: 14.1441\n"
     ]
    }
   ],
   "source": [
    "# Write your code here. Add as many boxes as you need.\n",
    "model = Sequential([\n",
    "    Conv1D(filters=32, kernel_size=3, activation='relu', input_shape=(X_train.shape[1], 1)),\n",
    "    LSTM(64, return_sequences=False),\n",
    "    Dense(32, activation='relu'),\n",
    "    Dense(1)\n",
    "])\n",
    "\n",
    "model.compile(optimizer='adam', loss='mean_squared_error', metrics=['mae'])\n",
    "history = model.fit(X_train, y_train, epochs=100, batch_size=32, validation_split=0.2)\n"
   ]
  },
  {
   "cell_type": "markdown",
   "metadata": {},
   "source": [
    "---\n",
    "# Model Evaluation"
   ]
  },
  {
   "cell_type": "markdown",
   "metadata": {},
   "source": [
    "Use the trained model to make predictions for the test set."
   ]
  },
  {
   "cell_type": "code",
   "execution_count": 24,
   "metadata": {},
   "outputs": [
    {
     "name": "stdout",
     "output_type": "stream",
     "text": [
      "\u001b[1m13/13\u001b[0m \u001b[32m━━━━━━━━━━━━━━━━━━━━\u001b[0m\u001b[37m\u001b[0m \u001b[1m0s\u001b[0m 14ms/step\n"
     ]
    }
   ],
   "source": [
    "# Write your code here. Add as many boxes as you need.\n",
    "y_pred = model.predict(X_test)"
   ]
  },
  {
   "cell_type": "markdown",
   "metadata": {},
   "source": [
    "Assess the performance of the model by using different metrics provided by the `scikit-learn` library."
   ]
  },
  {
   "cell_type": "code",
   "execution_count": 25,
   "metadata": {},
   "outputs": [
    {
     "name": "stdout",
     "output_type": "stream",
     "text": [
      "MAE: 20.04430558204651\n",
      "MSE: 1027.1358760694393\n",
      "R^2 Score: 0.5046701548488253\n"
     ]
    }
   ],
   "source": [
    "# Write your code here. Add as many boxes as you need.\n",
    "mae = mean_absolute_error(y_test, y_pred)\n",
    "mse = mean_squared_error(y_test, y_pred)\n",
    "r2 = r2_score(y_test, y_pred)\n",
    "\n",
    "print(f\"MAE: {mae}\")\n",
    "print(f\"MSE: {mse}\")\n",
    "print(f\"R^2 Score: {r2}\")"
   ]
  },
  {
   "cell_type": "code",
   "execution_count": 26,
   "metadata": {},
   "outputs": [
    {
     "data": {
      "text/plain": [
       "<matplotlib.legend.Legend at 0x3ce04110>"
      ]
     },
     "execution_count": 26,
     "metadata": {},
     "output_type": "execute_result"
    },
    {
     "data": {
      "image/png": "[encoded data removed]",
      "text/plain": [
       "<Figure size 1000x600 with 1 Axes>"
      ]
     },
     "metadata": {},
     "output_type": "display_data"
    }
   ],
   "source": [
    "plt.figure(figsize=(10, 6))\n",
    "plt.plot(history.history['mae'], label='Training MAE')\n",
    "plt.plot(history.history['val_mae'], label='Validation MAE')\n",
    "\n",
    "plt.title('Model Loss over Epochs')\n",
    "plt.xlabel('Epochs')\n",
    "plt.ylabel('MAE')\n",
    "plt.legend()"
   ]
  }
 ],
 "metadata": {
  "kernelspec": {
   "display_name": "Python 3 (ipykernel)",
   "language": "python",
   "name": "python3"
  },
  "language_info": {
   "codemirror_mode": {
    "name": "ipython",
    "version": 3
   },
   "file_extension": ".py",
   "mimetype": "text/x-python",
   "name": "python",
   "nbconvert_exporter": "python",
   "pygments_lexer": "ipython3",
   "version": "3.12.0"
  }
 },
 "nbformat": 4,
 "nbformat_minor": 4
}
