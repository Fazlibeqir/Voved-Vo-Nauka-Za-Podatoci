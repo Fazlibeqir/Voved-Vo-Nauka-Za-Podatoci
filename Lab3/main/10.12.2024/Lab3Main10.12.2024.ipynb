{
 "cells": [
  {
   "cell_type": "markdown",
   "metadata": {
    "id": "rODb9vHvIEbp"
   },
   "source": [
    "# Requirements"
   ]
  },
  {
   "cell_type": "code",
   "execution_count": 1,
   "metadata": {},
   "outputs": [],
   "source": [
    "#!pip install tensorflow keras"
   ]
  },
  {
   "cell_type": "code",
   "execution_count": 2,
   "metadata": {
    "id": "-rgNa1IOH9KV"
   },
   "outputs": [],
   "source": [
    "import pandas as pd\n",
    "import matplotlib.pyplot as plt\n",
    "import seaborn as sns\n",
    "import numpy as np\n",
    "from sklearn.model_selection import train_test_split"
   ]
  },
  {
   "cell_type": "code",
   "execution_count": 3,
   "metadata": {
    "id": "U4KmHBd2cdx9"
   },
   "outputs": [],
   "source": [
    "# Add as many imports as you need."
   ]
  },
  {
   "cell_type": "markdown",
   "metadata": {
    "id": "_rAh_91OIjeS"
   },
   "source": [
    "## Introduction\n",
    "In this laboratory assignment, the focus is on time series forecasting, specifically targeting the prediction of the current **close price** for Bitcoin. To accomplish this, you will use data from the preceding 7 days, and past statistics. \n"
   ]
  },
  {
   "cell_type": "markdown",
   "metadata": {
    "id": "zBYI-EypaWom"
   },
   "source": [
    "## The Amazon Stock Price Dataset"
   ]
  },
  {
   "cell_type": "markdown",
   "metadata": {
    "id": "iAtPoYzAZo1v"
   },
   "source": [
    "The dataset comprises the following columns:\n",
    "- date - the date of the recorded price\n",
    "- symbol - the resource for prediction\n",
    "- open - the open price of BTC\n",
    "- high - the high price of BTC\n",
    "- low - the low price of BTC\n",
    "- volumeBTC - the volume of trades BTC\n",
    "- volumeUSD - the volume of trades USD\n",
    "- close - the close price of BTC\n",
    "\n",
    "Target:\n",
    "close"
   ]
  },
  {
   "cell_type": "markdown",
   "metadata": {
    "id": "DCm1qm1mZwMr"
   },
   "source": [
    "Load the dataset into a `pandas` data frame."
   ]
  },
  {
   "cell_type": "code",
   "execution_count": 4,
   "metadata": {
    "id": "KMOn4fgcZn8s"
   },
   "outputs": [
    {
     "data": {
      "text/html": [
       "<div>\n",
       "<style scoped>\n",
       "    .dataframe tbody tr th:only-of-type {\n",
       "        vertical-align: middle;\n",
       "    }\n",
       "\n",
       "    .dataframe tbody tr th {\n",
       "        vertical-align: top;\n",
       "    }\n",
       "\n",
       "    .dataframe thead th {\n",
       "        text-align: right;\n",
       "    }\n",
       "</style>\n",
       "<table border=\"1\" class=\"dataframe\">\n",
       "  <thead>\n",
       "    <tr style=\"text-align: right;\">\n",
       "      <th></th>\n",
       "      <th>date</th>\n",
       "      <th>symbol</th>\n",
       "      <th>open</th>\n",
       "      <th>high</th>\n",
       "      <th>low</th>\n",
       "      <th>close</th>\n",
       "      <th>Volume BTC</th>\n",
       "      <th>Volume USD</th>\n",
       "    </tr>\n",
       "  </thead>\n",
       "  <tbody>\n",
       "    <tr>\n",
       "      <th>0</th>\n",
       "      <td>3/1/2022 0:00</td>\n",
       "      <td>BTC/USD</td>\n",
       "      <td>43221.71</td>\n",
       "      <td>43626.49</td>\n",
       "      <td>43185.48</td>\n",
       "      <td>43185.48</td>\n",
       "      <td>49.006289</td>\n",
       "      <td>2.116360e+06</td>\n",
       "    </tr>\n",
       "    <tr>\n",
       "      <th>1</th>\n",
       "      <td>2/28/2022 0:00</td>\n",
       "      <td>BTC/USD</td>\n",
       "      <td>37717.10</td>\n",
       "      <td>44256.08</td>\n",
       "      <td>37468.99</td>\n",
       "      <td>43178.98</td>\n",
       "      <td>3160.618070</td>\n",
       "      <td>1.364723e+08</td>\n",
       "    </tr>\n",
       "    <tr>\n",
       "      <th>2</th>\n",
       "      <td>2/27/2022 0:00</td>\n",
       "      <td>BTC/USD</td>\n",
       "      <td>39146.66</td>\n",
       "      <td>39886.92</td>\n",
       "      <td>37015.74</td>\n",
       "      <td>37712.68</td>\n",
       "      <td>1701.817043</td>\n",
       "      <td>6.418008e+07</td>\n",
       "    </tr>\n",
       "    <tr>\n",
       "      <th>3</th>\n",
       "      <td>2/26/2022 0:00</td>\n",
       "      <td>BTC/USD</td>\n",
       "      <td>39242.64</td>\n",
       "      <td>40330.99</td>\n",
       "      <td>38600.00</td>\n",
       "      <td>39146.66</td>\n",
       "      <td>912.724087</td>\n",
       "      <td>3.573010e+07</td>\n",
       "    </tr>\n",
       "    <tr>\n",
       "      <th>4</th>\n",
       "      <td>2/25/2022 0:00</td>\n",
       "      <td>BTC/USD</td>\n",
       "      <td>38360.93</td>\n",
       "      <td>39727.97</td>\n",
       "      <td>38027.61</td>\n",
       "      <td>39231.64</td>\n",
       "      <td>2202.851827</td>\n",
       "      <td>8.642149e+07</td>\n",
       "    </tr>\n",
       "  </tbody>\n",
       "</table>\n",
       "</div>"
      ],
      "text/plain": [
       "             date   symbol      open      high       low     close  \\\n",
       "0   3/1/2022 0:00  BTC/USD  43221.71  43626.49  43185.48  43185.48   \n",
       "1  2/28/2022 0:00  BTC/USD  37717.10  44256.08  37468.99  43178.98   \n",
       "2  2/27/2022 0:00  BTC/USD  39146.66  39886.92  37015.74  37712.68   \n",
       "3  2/26/2022 0:00  BTC/USD  39242.64  40330.99  38600.00  39146.66   \n",
       "4  2/25/2022 0:00  BTC/USD  38360.93  39727.97  38027.61  39231.64   \n",
       "\n",
       "    Volume BTC    Volume USD  \n",
       "0    49.006289  2.116360e+06  \n",
       "1  3160.618070  1.364723e+08  \n",
       "2  1701.817043  6.418008e+07  \n",
       "3   912.724087  3.573010e+07  \n",
       "4  2202.851827  8.642149e+07  "
      ]
     },
     "execution_count": 4,
     "metadata": {},
     "output_type": "execute_result"
    }
   ],
   "source": [
    "# Write your code here. Add as many boxes as you need.\n",
    "df = pd.read_csv('BTC-Daily.csv')\n",
    "df.head()"
   ]
  },
  {
   "cell_type": "code",
   "execution_count": 5,
   "metadata": {},
   "outputs": [
    {
     "data": {
      "text/plain": [
       "date          0\n",
       "symbol        0\n",
       "open          0\n",
       "high          0\n",
       "low           0\n",
       "close         0\n",
       "Volume BTC    0\n",
       "Volume USD    0\n",
       "dtype: int64"
      ]
     },
     "execution_count": 5,
     "metadata": {},
     "output_type": "execute_result"
    }
   ],
   "source": [
    "df.isnull().sum()"
   ]
  },
  {
   "cell_type": "code",
   "execution_count": 6,
   "metadata": {},
   "outputs": [
    {
     "data": {
      "text/html": [
       "<div>\n",
       "<style scoped>\n",
       "    .dataframe tbody tr th:only-of-type {\n",
       "        vertical-align: middle;\n",
       "    }\n",
       "\n",
       "    .dataframe tbody tr th {\n",
       "        vertical-align: top;\n",
       "    }\n",
       "\n",
       "    .dataframe thead th {\n",
       "        text-align: right;\n",
       "    }\n",
       "</style>\n",
       "<table border=\"1\" class=\"dataframe\">\n",
       "  <thead>\n",
       "    <tr style=\"text-align: right;\">\n",
       "      <th></th>\n",
       "      <th>symbol</th>\n",
       "      <th>open</th>\n",
       "      <th>high</th>\n",
       "      <th>low</th>\n",
       "      <th>close</th>\n",
       "      <th>Volume BTC</th>\n",
       "      <th>Volume USD</th>\n",
       "    </tr>\n",
       "    <tr>\n",
       "      <th>date</th>\n",
       "      <th></th>\n",
       "      <th></th>\n",
       "      <th></th>\n",
       "      <th></th>\n",
       "      <th></th>\n",
       "      <th></th>\n",
       "      <th></th>\n",
       "    </tr>\n",
       "  </thead>\n",
       "  <tbody>\n",
       "    <tr>\n",
       "      <th>2022-03-01</th>\n",
       "      <td>BTC/USD</td>\n",
       "      <td>43221.71</td>\n",
       "      <td>43626.49</td>\n",
       "      <td>43185.48</td>\n",
       "      <td>43185.48</td>\n",
       "      <td>49.006289</td>\n",
       "      <td>2.116360e+06</td>\n",
       "    </tr>\n",
       "    <tr>\n",
       "      <th>2022-02-28</th>\n",
       "      <td>BTC/USD</td>\n",
       "      <td>37717.10</td>\n",
       "      <td>44256.08</td>\n",
       "      <td>37468.99</td>\n",
       "      <td>43178.98</td>\n",
       "      <td>3160.618070</td>\n",
       "      <td>1.364723e+08</td>\n",
       "    </tr>\n",
       "    <tr>\n",
       "      <th>2022-02-27</th>\n",
       "      <td>BTC/USD</td>\n",
       "      <td>39146.66</td>\n",
       "      <td>39886.92</td>\n",
       "      <td>37015.74</td>\n",
       "      <td>37712.68</td>\n",
       "      <td>1701.817043</td>\n",
       "      <td>6.418008e+07</td>\n",
       "    </tr>\n",
       "    <tr>\n",
       "      <th>2022-02-26</th>\n",
       "      <td>BTC/USD</td>\n",
       "      <td>39242.64</td>\n",
       "      <td>40330.99</td>\n",
       "      <td>38600.00</td>\n",
       "      <td>39146.66</td>\n",
       "      <td>912.724087</td>\n",
       "      <td>3.573010e+07</td>\n",
       "    </tr>\n",
       "    <tr>\n",
       "      <th>2022-02-25</th>\n",
       "      <td>BTC/USD</td>\n",
       "      <td>38360.93</td>\n",
       "      <td>39727.97</td>\n",
       "      <td>38027.61</td>\n",
       "      <td>39231.64</td>\n",
       "      <td>2202.851827</td>\n",
       "      <td>8.642149e+07</td>\n",
       "    </tr>\n",
       "  </tbody>\n",
       "</table>\n",
       "</div>"
      ],
      "text/plain": [
       "             symbol      open      high       low     close   Volume BTC  \\\n",
       "date                                                                       \n",
       "2022-03-01  BTC/USD  43221.71  43626.49  43185.48  43185.48    49.006289   \n",
       "2022-02-28  BTC/USD  37717.10  44256.08  37468.99  43178.98  3160.618070   \n",
       "2022-02-27  BTC/USD  39146.66  39886.92  37015.74  37712.68  1701.817043   \n",
       "2022-02-26  BTC/USD  39242.64  40330.99  38600.00  39146.66   912.724087   \n",
       "2022-02-25  BTC/USD  38360.93  39727.97  38027.61  39231.64  2202.851827   \n",
       "\n",
       "              Volume USD  \n",
       "date                      \n",
       "2022-03-01  2.116360e+06  \n",
       "2022-02-28  1.364723e+08  \n",
       "2022-02-27  6.418008e+07  \n",
       "2022-02-26  3.573010e+07  \n",
       "2022-02-25  8.642149e+07  "
      ]
     },
     "execution_count": 6,
     "metadata": {},
     "output_type": "execute_result"
    }
   ],
   "source": [
    "df['date'] = pd.to_datetime(df['date'])\n",
    "df.set_index('date',inplace=True)\n",
    "df.head()"
   ]
  },
  {
   "cell_type": "markdown",
   "metadata": {
    "id": "5slwyyhCKRo9"
   },
   "source": [
    "Explore the dataset using visualizations of your choice."
   ]
  },
  {
   "cell_type": "code",
   "execution_count": 7,
   "metadata": {
    "id": "DFY6TKhGKOY4"
   },
   "outputs": [
    {
     "data": {
      "image/png": "[encoded data removed]",
      "text/plain": [
       "<Figure size 1200x600 with 1 Axes>"
      ]
     },
     "metadata": {},
     "output_type": "display_data"
    }
   ],
   "source": [
    "# Write your code here. Add as many boxes as you need.\n",
    "plt.figure(figsize=(12, 6))\n",
    "plt.plot(df.index, df['close'], color='red')\n",
    "plt.grid()\n",
    "plt.show()"
   ]
  },
  {
   "cell_type": "code",
   "execution_count": 8,
   "metadata": {
    "scrolled": true
   },
   "outputs": [
    {
     "data": {
      "image/png": "[encoded data removed]",
      "text/plain": [
       "<Figure size 1000x800 with 2 Axes>"
      ]
     },
     "metadata": {},
     "output_type": "display_data"
    }
   ],
   "source": [
    "correlation = df.drop(columns=['symbol'],axis=1)\n",
    "plt.figure(figsize=(10,8))\n",
    "sns.heatmap(correlation.corr(), annot=True, cmap='coolwarm')\n",
    "plt.show()"
   ]
  },
  {
   "cell_type": "code",
   "execution_count": 9,
   "metadata": {},
   "outputs": [
    {
     "data": {
      "text/html": [
       "<div>\n",
       "<style scoped>\n",
       "    .dataframe tbody tr th:only-of-type {\n",
       "        vertical-align: middle;\n",
       "    }\n",
       "\n",
       "    .dataframe tbody tr th {\n",
       "        vertical-align: top;\n",
       "    }\n",
       "\n",
       "    .dataframe thead th {\n",
       "        text-align: right;\n",
       "    }\n",
       "</style>\n",
       "<table border=\"1\" class=\"dataframe\">\n",
       "  <thead>\n",
       "    <tr style=\"text-align: right;\">\n",
       "      <th></th>\n",
       "      <th>open</th>\n",
       "      <th>high</th>\n",
       "      <th>low</th>\n",
       "      <th>close</th>\n",
       "      <th>Volume BTC</th>\n",
       "      <th>Volume USD</th>\n",
       "    </tr>\n",
       "  </thead>\n",
       "  <tbody>\n",
       "    <tr>\n",
       "      <th>open</th>\n",
       "      <td>1.000000</td>\n",
       "      <td>0.999485</td>\n",
       "      <td>0.998983</td>\n",
       "      <td>0.998798</td>\n",
       "      <td>-0.048598</td>\n",
       "      <td>0.609992</td>\n",
       "    </tr>\n",
       "    <tr>\n",
       "      <th>high</th>\n",
       "      <td>0.999485</td>\n",
       "      <td>1.000000</td>\n",
       "      <td>0.998901</td>\n",
       "      <td>0.999474</td>\n",
       "      <td>-0.045371</td>\n",
       "      <td>0.617662</td>\n",
       "    </tr>\n",
       "    <tr>\n",
       "      <th>low</th>\n",
       "      <td>0.998983</td>\n",
       "      <td>0.998901</td>\n",
       "      <td>1.000000</td>\n",
       "      <td>0.999319</td>\n",
       "      <td>-0.056040</td>\n",
       "      <td>0.593531</td>\n",
       "    </tr>\n",
       "    <tr>\n",
       "      <th>close</th>\n",
       "      <td>0.998798</td>\n",
       "      <td>0.999474</td>\n",
       "      <td>0.999319</td>\n",
       "      <td>1.000000</td>\n",
       "      <td>-0.049489</td>\n",
       "      <td>0.608673</td>\n",
       "    </tr>\n",
       "    <tr>\n",
       "      <th>Volume BTC</th>\n",
       "      <td>-0.048598</td>\n",
       "      <td>-0.045371</td>\n",
       "      <td>-0.056040</td>\n",
       "      <td>-0.049489</td>\n",
       "      <td>1.000000</td>\n",
       "      <td>-0.160242</td>\n",
       "    </tr>\n",
       "    <tr>\n",
       "      <th>Volume USD</th>\n",
       "      <td>0.609992</td>\n",
       "      <td>0.617662</td>\n",
       "      <td>0.593531</td>\n",
       "      <td>0.608673</td>\n",
       "      <td>-0.160242</td>\n",
       "      <td>1.000000</td>\n",
       "    </tr>\n",
       "  </tbody>\n",
       "</table>\n",
       "</div>"
      ],
      "text/plain": [
       "                open      high       low     close  Volume BTC  Volume USD\n",
       "open        1.000000  0.999485  0.998983  0.998798   -0.048598    0.609992\n",
       "high        0.999485  1.000000  0.998901  0.999474   -0.045371    0.617662\n",
       "low         0.998983  0.998901  1.000000  0.999319   -0.056040    0.593531\n",
       "close       0.998798  0.999474  0.999319  1.000000   -0.049489    0.608673\n",
       "Volume BTC -0.048598 -0.045371 -0.056040 -0.049489    1.000000   -0.160242\n",
       "Volume USD  0.609992  0.617662  0.593531  0.608673   -0.160242    1.000000"
      ]
     },
     "execution_count": 9,
     "metadata": {},
     "output_type": "execute_result"
    }
   ],
   "source": [
    "correlation.corr()"
   ]
  },
  {
   "cell_type": "markdown",
   "metadata": {
    "id": "hZceBEFuiGpI"
   },
   "source": [
    "# Feauture Extraction\n",
    "Select the relevant features for prediction and apply a lag of up to 7 days to each chosen feature\n",
    "\n",
    "Hint: Use `df['column_name'].shift(period)`. Check the documentation at https://pandas.pydata.org/docs/reference/api/pandas.DataFrame.shift.html."
   ]
  },
  {
   "cell_type": "code",
   "execution_count": 10,
   "metadata": {
    "id": "qHwGg9ieiFL1"
   },
   "outputs": [
    {
     "data": {
      "text/html": [
       "<div>\n",
       "<style scoped>\n",
       "    .dataframe tbody tr th:only-of-type {\n",
       "        vertical-align: middle;\n",
       "    }\n",
       "\n",
       "    .dataframe tbody tr th {\n",
       "        vertical-align: top;\n",
       "    }\n",
       "\n",
       "    .dataframe thead th {\n",
       "        text-align: right;\n",
       "    }\n",
       "</style>\n",
       "<table border=\"1\" class=\"dataframe\">\n",
       "  <thead>\n",
       "    <tr style=\"text-align: right;\">\n",
       "      <th></th>\n",
       "      <th>symbol</th>\n",
       "      <th>open</th>\n",
       "      <th>high</th>\n",
       "      <th>low</th>\n",
       "      <th>close</th>\n",
       "      <th>Volume BTC</th>\n",
       "      <th>Volume USD</th>\n",
       "      <th>close_lag_1</th>\n",
       "      <th>close_lag_2</th>\n",
       "      <th>close_lag_3</th>\n",
       "      <th>close_lag_4</th>\n",
       "      <th>close_lag_5</th>\n",
       "      <th>close_lag_6</th>\n",
       "      <th>close_lag_7</th>\n",
       "    </tr>\n",
       "    <tr>\n",
       "      <th>date</th>\n",
       "      <th></th>\n",
       "      <th></th>\n",
       "      <th></th>\n",
       "      <th></th>\n",
       "      <th></th>\n",
       "      <th></th>\n",
       "      <th></th>\n",
       "      <th></th>\n",
       "      <th></th>\n",
       "      <th></th>\n",
       "      <th></th>\n",
       "      <th></th>\n",
       "      <th></th>\n",
       "      <th></th>\n",
       "    </tr>\n",
       "  </thead>\n",
       "  <tbody>\n",
       "    <tr>\n",
       "      <th>2022-02-22</th>\n",
       "      <td>BTC/USD</td>\n",
       "      <td>37036.98</td>\n",
       "      <td>38463.88</td>\n",
       "      <td>36368.99</td>\n",
       "      <td>38269.94</td>\n",
       "      <td>2388.759035</td>\n",
       "      <td>9.141766e+07</td>\n",
       "      <td>37274.18</td>\n",
       "      <td>38376.88</td>\n",
       "      <td>39231.64</td>\n",
       "      <td>39146.66</td>\n",
       "      <td>37712.68</td>\n",
       "      <td>43178.98</td>\n",
       "      <td>43185.48</td>\n",
       "    </tr>\n",
       "    <tr>\n",
       "      <th>2022-02-21</th>\n",
       "      <td>BTC/USD</td>\n",
       "      <td>38384.09</td>\n",
       "      <td>39494.11</td>\n",
       "      <td>36810.72</td>\n",
       "      <td>37076.60</td>\n",
       "      <td>3501.420364</td>\n",
       "      <td>1.298208e+08</td>\n",
       "      <td>38269.94</td>\n",
       "      <td>37274.18</td>\n",
       "      <td>38376.88</td>\n",
       "      <td>39231.64</td>\n",
       "      <td>39146.66</td>\n",
       "      <td>37712.68</td>\n",
       "      <td>43178.98</td>\n",
       "    </tr>\n",
       "    <tr>\n",
       "      <th>2022-02-20</th>\n",
       "      <td>BTC/USD</td>\n",
       "      <td>40108.62</td>\n",
       "      <td>40151.62</td>\n",
       "      <td>37974.18</td>\n",
       "      <td>38373.90</td>\n",
       "      <td>1283.511547</td>\n",
       "      <td>4.925334e+07</td>\n",
       "      <td>37076.60</td>\n",
       "      <td>38269.94</td>\n",
       "      <td>37274.18</td>\n",
       "      <td>38376.88</td>\n",
       "      <td>39231.64</td>\n",
       "      <td>39146.66</td>\n",
       "      <td>37712.68</td>\n",
       "    </tr>\n",
       "    <tr>\n",
       "      <th>2022-02-19</th>\n",
       "      <td>BTC/USD</td>\n",
       "      <td>40008.75</td>\n",
       "      <td>40471.27</td>\n",
       "      <td>39587.08</td>\n",
       "      <td>40109.02</td>\n",
       "      <td>695.654296</td>\n",
       "      <td>2.790201e+07</td>\n",
       "      <td>38373.90</td>\n",
       "      <td>37076.60</td>\n",
       "      <td>38269.94</td>\n",
       "      <td>37274.18</td>\n",
       "      <td>38376.88</td>\n",
       "      <td>39231.64</td>\n",
       "      <td>39146.66</td>\n",
       "    </tr>\n",
       "    <tr>\n",
       "      <th>2022-02-18</th>\n",
       "      <td>BTC/USD</td>\n",
       "      <td>40532.66</td>\n",
       "      <td>40996.31</td>\n",
       "      <td>39450.00</td>\n",
       "      <td>39996.99</td>\n",
       "      <td>2212.714920</td>\n",
       "      <td>8.850194e+07</td>\n",
       "      <td>40109.02</td>\n",
       "      <td>38373.90</td>\n",
       "      <td>37076.60</td>\n",
       "      <td>38269.94</td>\n",
       "      <td>37274.18</td>\n",
       "      <td>38376.88</td>\n",
       "      <td>39231.64</td>\n",
       "    </tr>\n",
       "  </tbody>\n",
       "</table>\n",
       "</div>"
      ],
      "text/plain": [
       "             symbol      open      high       low     close   Volume BTC  \\\n",
       "date                                                                       \n",
       "2022-02-22  BTC/USD  37036.98  38463.88  36368.99  38269.94  2388.759035   \n",
       "2022-02-21  BTC/USD  38384.09  39494.11  36810.72  37076.60  3501.420364   \n",
       "2022-02-20  BTC/USD  40108.62  40151.62  37974.18  38373.90  1283.511547   \n",
       "2022-02-19  BTC/USD  40008.75  40471.27  39587.08  40109.02   695.654296   \n",
       "2022-02-18  BTC/USD  40532.66  40996.31  39450.00  39996.99  2212.714920   \n",
       "\n",
       "              Volume USD  close_lag_1  close_lag_2  close_lag_3  close_lag_4  \\\n",
       "date                                                                           \n",
       "2022-02-22  9.141766e+07     37274.18     38376.88     39231.64     39146.66   \n",
       "2022-02-21  1.298208e+08     38269.94     37274.18     38376.88     39231.64   \n",
       "2022-02-20  4.925334e+07     37076.60     38269.94     37274.18     38376.88   \n",
       "2022-02-19  2.790201e+07     38373.90     37076.60     38269.94     37274.18   \n",
       "2022-02-18  8.850194e+07     40109.02     38373.90     37076.60     38269.94   \n",
       "\n",
       "            close_lag_5  close_lag_6  close_lag_7  \n",
       "date                                               \n",
       "2022-02-22     37712.68     43178.98     43185.48  \n",
       "2022-02-21     39146.66     37712.68     43178.98  \n",
       "2022-02-20     39231.64     39146.66     37712.68  \n",
       "2022-02-19     38376.88     39231.64     39146.66  \n",
       "2022-02-18     37274.18     38376.88     39231.64  "
      ]
     },
     "execution_count": 10,
     "metadata": {},
     "output_type": "execute_result"
    }
   ],
   "source": [
    "# Write your code here. Add as many boxes as you need.\n",
    "for lag in range(1,8):\n",
    "        df[f'close_lag_{lag}'] = df['close'].shift(lag)\n",
    "df.dropna(inplace=True)\n",
    "df.head()"
   ]
  },
  {
   "cell_type": "markdown",
   "metadata": {
    "id": "tls69_PrbJKW"
   },
   "source": [
    "## Dataset Splitting\n",
    "Partition the dataset into training and testing sets with an 80:20 ratio.\n",
    "\n",
    "**WARNING: DO NOT SHUFFLE THE DATASET.**\n",
    "\n"
   ]
  },
  {
   "cell_type": "code",
   "execution_count": 11,
   "metadata": {
    "id": "PjGGGMxebeoB"
   },
   "outputs": [],
   "source": [
    "# Write your code here. Add as many boxes as you need.\n",
    "X = df.drop(columns=['symbol','open','high','low','close','Volume BTC','Volume USD'])\n",
    "y = df['close']"
   ]
  },
  {
   "cell_type": "code",
   "execution_count": 12,
   "metadata": {},
   "outputs": [
    {
     "data": {
      "text/html": [
       "<div>\n",
       "<style scoped>\n",
       "    .dataframe tbody tr th:only-of-type {\n",
       "        vertical-align: middle;\n",
       "    }\n",
       "\n",
       "    .dataframe tbody tr th {\n",
       "        vertical-align: top;\n",
       "    }\n",
       "\n",
       "    .dataframe thead th {\n",
       "        text-align: right;\n",
       "    }\n",
       "</style>\n",
       "<table border=\"1\" class=\"dataframe\">\n",
       "  <thead>\n",
       "    <tr style=\"text-align: right;\">\n",
       "      <th></th>\n",
       "      <th>close_lag_1</th>\n",
       "      <th>close_lag_2</th>\n",
       "      <th>close_lag_3</th>\n",
       "      <th>close_lag_4</th>\n",
       "      <th>close_lag_5</th>\n",
       "      <th>close_lag_6</th>\n",
       "      <th>close_lag_7</th>\n",
       "    </tr>\n",
       "    <tr>\n",
       "      <th>date</th>\n",
       "      <th></th>\n",
       "      <th></th>\n",
       "      <th></th>\n",
       "      <th></th>\n",
       "      <th></th>\n",
       "      <th></th>\n",
       "      <th></th>\n",
       "    </tr>\n",
       "  </thead>\n",
       "  <tbody>\n",
       "    <tr>\n",
       "      <th>2022-02-22</th>\n",
       "      <td>37274.18</td>\n",
       "      <td>38376.88</td>\n",
       "      <td>39231.64</td>\n",
       "      <td>39146.66</td>\n",
       "      <td>37712.68</td>\n",
       "      <td>43178.98</td>\n",
       "      <td>43185.48</td>\n",
       "    </tr>\n",
       "    <tr>\n",
       "      <th>2022-02-21</th>\n",
       "      <td>38269.94</td>\n",
       "      <td>37274.18</td>\n",
       "      <td>38376.88</td>\n",
       "      <td>39231.64</td>\n",
       "      <td>39146.66</td>\n",
       "      <td>37712.68</td>\n",
       "      <td>43178.98</td>\n",
       "    </tr>\n",
       "    <tr>\n",
       "      <th>2022-02-20</th>\n",
       "      <td>37076.60</td>\n",
       "      <td>38269.94</td>\n",
       "      <td>37274.18</td>\n",
       "      <td>38376.88</td>\n",
       "      <td>39231.64</td>\n",
       "      <td>39146.66</td>\n",
       "      <td>37712.68</td>\n",
       "    </tr>\n",
       "    <tr>\n",
       "      <th>2022-02-19</th>\n",
       "      <td>38373.90</td>\n",
       "      <td>37076.60</td>\n",
       "      <td>38269.94</td>\n",
       "      <td>37274.18</td>\n",
       "      <td>38376.88</td>\n",
       "      <td>39231.64</td>\n",
       "      <td>39146.66</td>\n",
       "    </tr>\n",
       "    <tr>\n",
       "      <th>2022-02-18</th>\n",
       "      <td>40109.02</td>\n",
       "      <td>38373.90</td>\n",
       "      <td>37076.60</td>\n",
       "      <td>38269.94</td>\n",
       "      <td>37274.18</td>\n",
       "      <td>38376.88</td>\n",
       "      <td>39231.64</td>\n",
       "    </tr>\n",
       "    <tr>\n",
       "      <th>...</th>\n",
       "      <td>...</td>\n",
       "      <td>...</td>\n",
       "      <td>...</td>\n",
       "      <td>...</td>\n",
       "      <td>...</td>\n",
       "      <td>...</td>\n",
       "      <td>...</td>\n",
       "    </tr>\n",
       "    <tr>\n",
       "      <th>2014-12-02</th>\n",
       "      <td>376.67</td>\n",
       "      <td>365.20</td>\n",
       "      <td>374.95</td>\n",
       "      <td>375.07</td>\n",
       "      <td>376.87</td>\n",
       "      <td>364.61</td>\n",
       "      <td>350.49</td>\n",
       "    </tr>\n",
       "    <tr>\n",
       "      <th>2014-12-01</th>\n",
       "      <td>379.25</td>\n",
       "      <td>376.67</td>\n",
       "      <td>365.20</td>\n",
       "      <td>374.95</td>\n",
       "      <td>375.07</td>\n",
       "      <td>376.87</td>\n",
       "      <td>364.61</td>\n",
       "    </tr>\n",
       "    <tr>\n",
       "      <th>2014-11-30</th>\n",
       "      <td>378.39</td>\n",
       "      <td>379.25</td>\n",
       "      <td>376.67</td>\n",
       "      <td>365.20</td>\n",
       "      <td>374.95</td>\n",
       "      <td>375.07</td>\n",
       "      <td>376.87</td>\n",
       "    </tr>\n",
       "    <tr>\n",
       "      <th>2014-11-29</th>\n",
       "      <td>373.34</td>\n",
       "      <td>378.39</td>\n",
       "      <td>379.25</td>\n",
       "      <td>376.67</td>\n",
       "      <td>365.20</td>\n",
       "      <td>374.95</td>\n",
       "      <td>375.07</td>\n",
       "    </tr>\n",
       "    <tr>\n",
       "      <th>2014-11-28</th>\n",
       "      <td>376.72</td>\n",
       "      <td>373.34</td>\n",
       "      <td>378.39</td>\n",
       "      <td>379.25</td>\n",
       "      <td>376.67</td>\n",
       "      <td>365.20</td>\n",
       "      <td>374.95</td>\n",
       "    </tr>\n",
       "  </tbody>\n",
       "</table>\n",
       "<p>2644 rows × 7 columns</p>\n",
       "</div>"
      ],
      "text/plain": [
       "            close_lag_1  close_lag_2  close_lag_3  close_lag_4  close_lag_5  \\\n",
       "date                                                                          \n",
       "2022-02-22     37274.18     38376.88     39231.64     39146.66     37712.68   \n",
       "2022-02-21     38269.94     37274.18     38376.88     39231.64     39146.66   \n",
       "2022-02-20     37076.60     38269.94     37274.18     38376.88     39231.64   \n",
       "2022-02-19     38373.90     37076.60     38269.94     37274.18     38376.88   \n",
       "2022-02-18     40109.02     38373.90     37076.60     38269.94     37274.18   \n",
       "...                 ...          ...          ...          ...          ...   \n",
       "2014-12-02       376.67       365.20       374.95       375.07       376.87   \n",
       "2014-12-01       379.25       376.67       365.20       374.95       375.07   \n",
       "2014-11-30       378.39       379.25       376.67       365.20       374.95   \n",
       "2014-11-29       373.34       378.39       379.25       376.67       365.20   \n",
       "2014-11-28       376.72       373.34       378.39       379.25       376.67   \n",
       "\n",
       "            close_lag_6  close_lag_7  \n",
       "date                                  \n",
       "2022-02-22     43178.98     43185.48  \n",
       "2022-02-21     37712.68     43178.98  \n",
       "2022-02-20     39146.66     37712.68  \n",
       "2022-02-19     39231.64     39146.66  \n",
       "2022-02-18     38376.88     39231.64  \n",
       "...                 ...          ...  \n",
       "2014-12-02       364.61       350.49  \n",
       "2014-12-01       376.87       364.61  \n",
       "2014-11-30       375.07       376.87  \n",
       "2014-11-29       374.95       375.07  \n",
       "2014-11-28       365.20       374.95  \n",
       "\n",
       "[2644 rows x 7 columns]"
      ]
     },
     "execution_count": 12,
     "metadata": {},
     "output_type": "execute_result"
    }
   ],
   "source": [
    "X"
   ]
  },
  {
   "cell_type": "code",
   "execution_count": 13,
   "metadata": {},
   "outputs": [],
   "source": [
    "X_train, X_test, y_train, y_test = train_test_split(X, y, test_size=0.2, shuffle=False)"
   ]
  },
  {
   "cell_type": "code",
   "execution_count": 14,
   "metadata": {},
   "outputs": [
    {
     "data": {
      "text/plain": [
       "7"
      ]
     },
     "execution_count": 14,
     "metadata": {},
     "output_type": "execute_result"
    }
   ],
   "source": [
    "n = len(X_train.columns)\n",
    "n"
   ]
  },
  {
   "cell_type": "code",
   "execution_count": 15,
   "metadata": {},
   "outputs": [],
   "source": [
    "from sklearn.preprocessing import MinMaxScaler\n",
    "scaler = MinMaxScaler()\n",
    "X_train = scaler.fit_transform(X_train)\n",
    "X_test = scaler.transform(X_test)"
   ]
  },
  {
   "cell_type": "code",
   "execution_count": 16,
   "metadata": {},
   "outputs": [
    {
     "data": {
      "text/plain": [
       "35955"
      ]
     },
     "execution_count": 16,
     "metadata": {},
     "output_type": "execute_result"
    }
   ],
   "source": [
    "expected_size = X_train.shape[0] * 17 * 1\n",
    "expected_size"
   ]
  },
  {
   "cell_type": "markdown",
   "metadata": {
    "id": "VIkAR1Hibiwr"
   },
   "source": [
    "## Neural Networks"
   ]
  },
  {
   "cell_type": "markdown",
   "metadata": {
    "id": "qWn1pafKbnxH"
   },
   "source": [
    "Create an LSTM model and train it using the `train` function."
   ]
  },
  {
   "cell_type": "code",
   "execution_count": 17,
   "metadata": {
    "id": "IXFIrQthbnkb"
   },
   "outputs": [
    {
     "name": "stderr",
     "output_type": "stream",
     "text": [
      "F:\\Anaconda\\Lib\\site-packages\\keras\\src\\layers\\rnn\\rnn.py:200: UserWarning: Do not pass an `input_shape`/`input_dim` argument to a layer. When using Sequential models, prefer using an `Input(shape)` object as the first layer in the model instead.\n",
      "  super().__init__(**kwargs)\n"
     ]
    }
   ],
   "source": [
    "# Write your code here. Add as many boxes as you need.\n",
    "from keras.models import Sequential\n",
    "from keras.layers import LSTM, Dense, Dropout\n",
    "X_train_lstm = X_train.reshape(X_train.shape[0], 1, n)\n",
    "X_test_lstm = X_test.reshape(X_test.shape[0], 1, n)\n",
    "\n",
    "model = Sequential([\n",
    "    LSTM(64, return_sequences=True, input_shape=(X_train_lstm.shape[1],X_train_lstm.shape[2])),\n",
    "    Dropout(0.3),\n",
    "    LSTM(32),\n",
    "    Dropout(0.3),\n",
    "    Dense(1) \n",
    "])"
   ]
  },
  {
   "cell_type": "code",
   "execution_count": 18,
   "metadata": {},
   "outputs": [],
   "source": [
    "model.compile(optimizer='adam', loss='mean_squared_error')"
   ]
  },
  {
   "cell_type": "code",
   "execution_count": 19,
   "metadata": {},
   "outputs": [
    {
     "name": "stdout",
     "output_type": "stream",
     "text": [
      "Epoch 1/20\n",
      "\u001b[1m67/67\u001b[0m \u001b[32m━━━━━━━━━━━━━━━━━━━━\u001b[0m\u001b[37m\u001b[0m \u001b[1m4s\u001b[0m 9ms/step - loss: 515136192.0000 - val_loss: 104043.5703\n",
      "Epoch 2/20\n",
      "\u001b[1m67/67\u001b[0m \u001b[32m━━━━━━━━━━━━━━━━━━━━\u001b[0m\u001b[37m\u001b[0m \u001b[1m0s\u001b[0m 4ms/step - loss: 509175648.0000 - val_loss: 102571.7422\n",
      "Epoch 3/20\n",
      "\u001b[1m67/67\u001b[0m \u001b[32m━━━━━━━━━━━━━━━━━━━━\u001b[0m\u001b[37m\u001b[0m \u001b[1m0s\u001b[0m 4ms/step - loss: 510208416.0000 - val_loss: 100265.4375\n",
      "Epoch 4/20\n",
      "\u001b[1m67/67\u001b[0m \u001b[32m━━━━━━━━━━━━━━━━━━━━\u001b[0m\u001b[37m\u001b[0m \u001b[1m0s\u001b[0m 3ms/step - loss: 474453440.0000 - val_loss: 98030.3203\n",
      "Epoch 5/20\n",
      "\u001b[1m67/67\u001b[0m \u001b[32m━━━━━━━━━━━━━━━━━━━━\u001b[0m\u001b[37m\u001b[0m \u001b[1m0s\u001b[0m 3ms/step - loss: 494689696.0000 - val_loss: 96142.8672\n",
      "Epoch 6/20\n",
      "\u001b[1m67/67\u001b[0m \u001b[32m━━━━━━━━━━━━━━━━━━━━\u001b[0m\u001b[37m\u001b[0m \u001b[1m0s\u001b[0m 3ms/step - loss: 483334336.0000 - val_loss: 94526.9141\n",
      "Epoch 7/20\n",
      "\u001b[1m67/67\u001b[0m \u001b[32m━━━━━━━━━━━━━━━━━━━━\u001b[0m\u001b[37m\u001b[0m \u001b[1m0s\u001b[0m 3ms/step - loss: 496934240.0000 - val_loss: 93106.5625\n",
      "Epoch 8/20\n",
      "\u001b[1m67/67\u001b[0m \u001b[32m━━━━━━━━━━━━━━━━━━━━\u001b[0m\u001b[37m\u001b[0m \u001b[1m0s\u001b[0m 3ms/step - loss: 484285632.0000 - val_loss: 91809.2344\n",
      "Epoch 9/20\n",
      "\u001b[1m67/67\u001b[0m \u001b[32m━━━━━━━━━━━━━━━━━━━━\u001b[0m\u001b[37m\u001b[0m \u001b[1m0s\u001b[0m 3ms/step - loss: 501551520.0000 - val_loss: 90586.9844\n",
      "Epoch 10/20\n",
      "\u001b[1m67/67\u001b[0m \u001b[32m━━━━━━━━━━━━━━━━━━━━\u001b[0m\u001b[37m\u001b[0m \u001b[1m0s\u001b[0m 3ms/step - loss: 466772736.0000 - val_loss: 89436.3906\n",
      "Epoch 11/20\n",
      "\u001b[1m67/67\u001b[0m \u001b[32m━━━━━━━━━━━━━━━━━━━━\u001b[0m\u001b[37m\u001b[0m \u001b[1m0s\u001b[0m 3ms/step - loss: 509339008.0000 - val_loss: 88319.6250\n",
      "Epoch 12/20\n",
      "\u001b[1m67/67\u001b[0m \u001b[32m━━━━━━━━━━━━━━━━━━━━\u001b[0m\u001b[37m\u001b[0m \u001b[1m0s\u001b[0m 3ms/step - loss: 505267648.0000 - val_loss: 87261.5625\n",
      "Epoch 13/20\n",
      "\u001b[1m67/67\u001b[0m \u001b[32m━━━━━━━━━━━━━━━━━━━━\u001b[0m\u001b[37m\u001b[0m \u001b[1m0s\u001b[0m 3ms/step - loss: 506243584.0000 - val_loss: 86215.8906\n",
      "Epoch 14/20\n",
      "\u001b[1m67/67\u001b[0m \u001b[32m━━━━━━━━━━━━━━━━━━━━\u001b[0m\u001b[37m\u001b[0m \u001b[1m0s\u001b[0m 3ms/step - loss: 481699328.0000 - val_loss: 85204.6875\n",
      "Epoch 15/20\n",
      "\u001b[1m67/67\u001b[0m \u001b[32m━━━━━━━━━━━━━━━━━━━━\u001b[0m\u001b[37m\u001b[0m \u001b[1m0s\u001b[0m 3ms/step - loss: 509888928.0000 - val_loss: 84205.2500\n",
      "Epoch 16/20\n",
      "\u001b[1m67/67\u001b[0m \u001b[32m━━━━━━━━━━━━━━━━━━━━\u001b[0m\u001b[37m\u001b[0m \u001b[1m0s\u001b[0m 3ms/step - loss: 505349056.0000 - val_loss: 83214.7812\n",
      "Epoch 17/20\n",
      "\u001b[1m67/67\u001b[0m \u001b[32m━━━━━━━━━━━━━━━━━━━━\u001b[0m\u001b[37m\u001b[0m \u001b[1m0s\u001b[0m 3ms/step - loss: 512389152.0000 - val_loss: 82255.6562\n",
      "Epoch 18/20\n",
      "\u001b[1m67/67\u001b[0m \u001b[32m━━━━━━━━━━━━━━━━━━━━\u001b[0m\u001b[37m\u001b[0m \u001b[1m0s\u001b[0m 3ms/step - loss: 514767968.0000 - val_loss: 81308.0547\n",
      "Epoch 19/20\n",
      "\u001b[1m67/67\u001b[0m \u001b[32m━━━━━━━━━━━━━━━━━━━━\u001b[0m\u001b[37m\u001b[0m \u001b[1m0s\u001b[0m 4ms/step - loss: 524026624.0000 - val_loss: 80373.3750\n",
      "Epoch 20/20\n",
      "\u001b[1m67/67\u001b[0m \u001b[32m━━━━━━━━━━━━━━━━━━━━\u001b[0m\u001b[37m\u001b[0m \u001b[1m0s\u001b[0m 3ms/step - loss: 486042080.0000 - val_loss: 79437.9609\n"
     ]
    }
   ],
   "source": [
    "history = model.fit(X_train_lstm, y_train, epochs=20, batch_size=32, validation_data=(X_test_lstm,y_test),verbose=1)"
   ]
  },
  {
   "cell_type": "code",
   "execution_count": 20,
   "metadata": {},
   "outputs": [
    {
     "data": {
      "image/png": "[encoded data removed]",
      "text/plain": [
       "<Figure size 640x480 with 1 Axes>"
      ]
     },
     "metadata": {},
     "output_type": "display_data"
    }
   ],
   "source": [
    "plt.plot(history.history['loss'], color='red',label='Train Loss')\n",
    "plt.plot(history.history['val_loss'], color='green', label='Val Loss')\n",
    "plt.xlabel('Epochs')\n",
    "plt.ylabel('Loss')\n",
    "plt.legend()\n",
    "plt.show()"
   ]
  },
  {
   "cell_type": "markdown",
   "metadata": {
    "id": "gyXZwAVab8Cp"
   },
   "source": [
    "Use the trained model to make predictions for the test set."
   ]
  },
  {
   "cell_type": "code",
   "execution_count": 21,
   "metadata": {
    "id": "EvMfVum6b_9b"
   },
   "outputs": [
    {
     "name": "stdout",
     "output_type": "stream",
     "text": [
      "\u001b[1m17/17\u001b[0m \u001b[32m━━━━━━━━━━━━━━━━━━━━\u001b[0m\u001b[37m\u001b[0m \u001b[1m1s\u001b[0m 19ms/step\n"
     ]
    }
   ],
   "source": [
    "# Write your code here. Add as many boxes as you need.\n",
    "y_pred = model.predict(X_test_lstm)"
   ]
  },
  {
   "cell_type": "markdown",
   "metadata": {
    "id": "3VxAvDPtcNCh"
   },
   "source": [
    "Assess the performance of the model by using different metrics provided by the `scikit-learn` library."
   ]
  },
  {
   "cell_type": "code",
   "execution_count": 22,
   "metadata": {
    "id": "V4axpktycQhp"
   },
   "outputs": [
    {
     "name": "stdout",
     "output_type": "stream",
     "text": [
      "Mean Absolute Error: 269.9877\n",
      "Mean Squared Error: 79437.9633\n",
      "R2 Score: -11.1347\n"
     ]
    }
   ],
   "source": [
    "# Write your code here. Add as many boxes as you need.\n",
    "from sklearn.metrics import mean_absolute_error, mean_squared_error, r2_score\n",
    "mae = mean_absolute_error(y_test, y_pred)\n",
    "mse = mean_squared_error(y_test, y_pred)\n",
    "r2 = r2_score(y_test, y_pred)\n",
    "\n",
    "print(f\"Mean Absolute Error: {mae:.4f}\")\n",
    "print(f\"Mean Squared Error: {mse:.4f}\")\n",
    "print(f\"R2 Score: {r2:.4f}\")"
   ]
  },
  {
   "cell_type": "markdown",
   "metadata": {},
   "source": [
    "# Additional Bonus Task"
   ]
  },
  {
   "cell_type": "markdown",
   "metadata": {},
   "source": [
    "Group the data by month. You can use [pandas.Grouper](https://pandas.pydata.org/docs/reference/api/pandas.Grouper.html) function."
   ]
  },
  {
   "cell_type": "markdown",
   "metadata": {},
   "source": [
    "Create an LSTM model to predict the 'close' price on a montly frequency."
   ]
  },
  {
   "cell_type": "code",
   "execution_count": 23,
   "metadata": {},
   "outputs": [],
   "source": [
    "df = df.drop(columns='symbol')"
   ]
  },
  {
   "cell_type": "code",
   "execution_count": 24,
   "metadata": {},
   "outputs": [
    {
     "name": "stderr",
     "output_type": "stream",
     "text": [
      "C:\\Users\\Beqir\\AppData\\Local\\Temp\\ipykernel_25612\\167305431.py:1: FutureWarning: 'M' is deprecated and will be removed in a future version, please use 'ME' instead.\n",
      "  monthly_data = df.groupby(pd.Grouper(freq='M')).mean()\n"
     ]
    },
    {
     "data": {
      "text/html": [
       "<div>\n",
       "<style scoped>\n",
       "    .dataframe tbody tr th:only-of-type {\n",
       "        vertical-align: middle;\n",
       "    }\n",
       "\n",
       "    .dataframe tbody tr th {\n",
       "        vertical-align: top;\n",
       "    }\n",
       "\n",
       "    .dataframe thead th {\n",
       "        text-align: right;\n",
       "    }\n",
       "</style>\n",
       "<table border=\"1\" class=\"dataframe\">\n",
       "  <thead>\n",
       "    <tr style=\"text-align: right;\">\n",
       "      <th></th>\n",
       "      <th>open</th>\n",
       "      <th>high</th>\n",
       "      <th>low</th>\n",
       "      <th>close</th>\n",
       "      <th>Volume BTC</th>\n",
       "      <th>Volume USD</th>\n",
       "      <th>close_lag_1</th>\n",
       "      <th>close_lag_2</th>\n",
       "      <th>close_lag_3</th>\n",
       "      <th>close_lag_4</th>\n",
       "      <th>close_lag_5</th>\n",
       "      <th>close_lag_6</th>\n",
       "      <th>close_lag_7</th>\n",
       "    </tr>\n",
       "    <tr>\n",
       "      <th>date</th>\n",
       "      <th></th>\n",
       "      <th></th>\n",
       "      <th></th>\n",
       "      <th></th>\n",
       "      <th></th>\n",
       "      <th></th>\n",
       "      <th></th>\n",
       "      <th></th>\n",
       "      <th></th>\n",
       "      <th></th>\n",
       "      <th></th>\n",
       "      <th></th>\n",
       "      <th></th>\n",
       "    </tr>\n",
       "  </thead>\n",
       "  <tbody>\n",
       "    <tr>\n",
       "      <th>2014-11-30</th>\n",
       "      <td>372.193333</td>\n",
       "      <td>383.310000</td>\n",
       "      <td>368.713333</td>\n",
       "      <td>375.446667</td>\n",
       "      <td>2.370867e+06</td>\n",
       "      <td>6302.890000</td>\n",
       "      <td>376.150000</td>\n",
       "      <td>376.993333</td>\n",
       "      <td>378.103333</td>\n",
       "      <td>373.706667</td>\n",
       "      <td>372.273333</td>\n",
       "      <td>371.740000</td>\n",
       "      <td>375.630000</td>\n",
       "    </tr>\n",
       "    <tr>\n",
       "      <th>2014-12-31</th>\n",
       "      <td>343.688387</td>\n",
       "      <td>348.636452</td>\n",
       "      <td>336.454194</td>\n",
       "      <td>341.813548</td>\n",
       "      <td>2.890151e+06</td>\n",
       "      <td>8538.789677</td>\n",
       "      <td>339.810968</td>\n",
       "      <td>337.787097</td>\n",
       "      <td>334.862581</td>\n",
       "      <td>331.618065</td>\n",
       "      <td>328.451935</td>\n",
       "      <td>325.281935</td>\n",
       "      <td>322.053871</td>\n",
       "    </tr>\n",
       "    <tr>\n",
       "      <th>2015-01-31</th>\n",
       "      <td>250.943226</td>\n",
       "      <td>260.632903</td>\n",
       "      <td>238.363871</td>\n",
       "      <td>247.703871</td>\n",
       "      <td>5.431845e+06</td>\n",
       "      <td>23554.290645</td>\n",
       "      <td>244.429355</td>\n",
       "      <td>241.895806</td>\n",
       "      <td>240.003548</td>\n",
       "      <td>238.790000</td>\n",
       "      <td>236.860968</td>\n",
       "      <td>235.121613</td>\n",
       "      <td>233.567097</td>\n",
       "    </tr>\n",
       "    <tr>\n",
       "      <th>2015-02-28</th>\n",
       "      <td>233.012500</td>\n",
       "      <td>239.859643</td>\n",
       "      <td>226.930357</td>\n",
       "      <td>234.278214</td>\n",
       "      <td>1.906693e+06</td>\n",
       "      <td>8128.418929</td>\n",
       "      <td>235.742857</td>\n",
       "      <td>237.029643</td>\n",
       "      <td>238.874286</td>\n",
       "      <td>240.403929</td>\n",
       "      <td>242.432500</td>\n",
       "      <td>244.231786</td>\n",
       "      <td>245.909643</td>\n",
       "    </tr>\n",
       "    <tr>\n",
       "      <th>2015-03-31</th>\n",
       "      <td>268.984516</td>\n",
       "      <td>274.261613</td>\n",
       "      <td>261.617419</td>\n",
       "      <td>268.596774</td>\n",
       "      <td>2.456041e+06</td>\n",
       "      <td>9173.153548</td>\n",
       "      <td>268.279677</td>\n",
       "      <td>267.607419</td>\n",
       "      <td>266.794194</td>\n",
       "      <td>266.265806</td>\n",
       "      <td>265.836774</td>\n",
       "      <td>265.274516</td>\n",
       "      <td>264.592581</td>\n",
       "    </tr>\n",
       "  </tbody>\n",
       "</table>\n",
       "</div>"
      ],
      "text/plain": [
       "                  open        high         low       close    Volume BTC  \\\n",
       "date                                                                       \n",
       "2014-11-30  372.193333  383.310000  368.713333  375.446667  2.370867e+06   \n",
       "2014-12-31  343.688387  348.636452  336.454194  341.813548  2.890151e+06   \n",
       "2015-01-31  250.943226  260.632903  238.363871  247.703871  5.431845e+06   \n",
       "2015-02-28  233.012500  239.859643  226.930357  234.278214  1.906693e+06   \n",
       "2015-03-31  268.984516  274.261613  261.617419  268.596774  2.456041e+06   \n",
       "\n",
       "              Volume USD  close_lag_1  close_lag_2  close_lag_3  close_lag_4  \\\n",
       "date                                                                           \n",
       "2014-11-30   6302.890000   376.150000   376.993333   378.103333   373.706667   \n",
       "2014-12-31   8538.789677   339.810968   337.787097   334.862581   331.618065   \n",
       "2015-01-31  23554.290645   244.429355   241.895806   240.003548   238.790000   \n",
       "2015-02-28   8128.418929   235.742857   237.029643   238.874286   240.403929   \n",
       "2015-03-31   9173.153548   268.279677   267.607419   266.794194   266.265806   \n",
       "\n",
       "            close_lag_5  close_lag_6  close_lag_7  \n",
       "date                                               \n",
       "2014-11-30   372.273333   371.740000   375.630000  \n",
       "2014-12-31   328.451935   325.281935   322.053871  \n",
       "2015-01-31   236.860968   235.121613   233.567097  \n",
       "2015-02-28   242.432500   244.231786   245.909643  \n",
       "2015-03-31   265.836774   265.274516   264.592581  "
      ]
     },
     "execution_count": 24,
     "metadata": {},
     "output_type": "execute_result"
    }
   ],
   "source": [
    "monthly_data = df.groupby(pd.Grouper(freq='M')).mean()\n",
    "monthly_data.head()"
   ]
  },
  {
   "cell_type": "code",
   "execution_count": 26,
   "metadata": {},
   "outputs": [
    {
     "data": {
      "text/html": [
       "<div>\n",
       "<style scoped>\n",
       "    .dataframe tbody tr th:only-of-type {\n",
       "        vertical-align: middle;\n",
       "    }\n",
       "\n",
       "    .dataframe tbody tr th {\n",
       "        vertical-align: top;\n",
       "    }\n",
       "\n",
       "    .dataframe thead th {\n",
       "        text-align: right;\n",
       "    }\n",
       "</style>\n",
       "<table border=\"1\" class=\"dataframe\">\n",
       "  <thead>\n",
       "    <tr style=\"text-align: right;\">\n",
       "      <th></th>\n",
       "      <th>close_lag_1</th>\n",
       "      <th>close_lag_2</th>\n",
       "      <th>close_lag_3</th>\n",
       "      <th>close_lag_4</th>\n",
       "      <th>close_lag_5</th>\n",
       "      <th>close_lag_6</th>\n",
       "      <th>close_lag_7</th>\n",
       "    </tr>\n",
       "    <tr>\n",
       "      <th>date</th>\n",
       "      <th></th>\n",
       "      <th></th>\n",
       "      <th></th>\n",
       "      <th></th>\n",
       "      <th></th>\n",
       "      <th></th>\n",
       "      <th></th>\n",
       "    </tr>\n",
       "  </thead>\n",
       "  <tbody>\n",
       "    <tr>\n",
       "      <th>2014-11-30</th>\n",
       "      <td>376.150000</td>\n",
       "      <td>376.993333</td>\n",
       "      <td>378.103333</td>\n",
       "      <td>373.706667</td>\n",
       "      <td>372.273333</td>\n",
       "      <td>371.740000</td>\n",
       "      <td>375.630000</td>\n",
       "    </tr>\n",
       "    <tr>\n",
       "      <th>2014-12-31</th>\n",
       "      <td>339.810968</td>\n",
       "      <td>337.787097</td>\n",
       "      <td>334.862581</td>\n",
       "      <td>331.618065</td>\n",
       "      <td>328.451935</td>\n",
       "      <td>325.281935</td>\n",
       "      <td>322.053871</td>\n",
       "    </tr>\n",
       "    <tr>\n",
       "      <th>2015-01-31</th>\n",
       "      <td>244.429355</td>\n",
       "      <td>241.895806</td>\n",
       "      <td>240.003548</td>\n",
       "      <td>238.790000</td>\n",
       "      <td>236.860968</td>\n",
       "      <td>235.121613</td>\n",
       "      <td>233.567097</td>\n",
       "    </tr>\n",
       "    <tr>\n",
       "      <th>2015-02-28</th>\n",
       "      <td>235.742857</td>\n",
       "      <td>237.029643</td>\n",
       "      <td>238.874286</td>\n",
       "      <td>240.403929</td>\n",
       "      <td>242.432500</td>\n",
       "      <td>244.231786</td>\n",
       "      <td>245.909643</td>\n",
       "    </tr>\n",
       "    <tr>\n",
       "      <th>2015-03-31</th>\n",
       "      <td>268.279677</td>\n",
       "      <td>267.607419</td>\n",
       "      <td>266.794194</td>\n",
       "      <td>266.265806</td>\n",
       "      <td>265.836774</td>\n",
       "      <td>265.274516</td>\n",
       "      <td>264.592581</td>\n",
       "    </tr>\n",
       "    <tr>\n",
       "      <th>...</th>\n",
       "      <td>...</td>\n",
       "      <td>...</td>\n",
       "      <td>...</td>\n",
       "      <td>...</td>\n",
       "      <td>...</td>\n",
       "      <td>...</td>\n",
       "      <td>...</td>\n",
       "    </tr>\n",
       "    <tr>\n",
       "      <th>2021-10-31</th>\n",
       "      <td>58328.484839</td>\n",
       "      <td>58830.878387</td>\n",
       "      <td>59304.903871</td>\n",
       "      <td>59698.939677</td>\n",
       "      <td>60006.382258</td>\n",
       "      <td>60206.274194</td>\n",
       "      <td>60513.125806</td>\n",
       "    </tr>\n",
       "    <tr>\n",
       "      <th>2021-11-30</th>\n",
       "      <td>60583.118667</td>\n",
       "      <td>60359.384000</td>\n",
       "      <td>60053.149667</td>\n",
       "      <td>59645.740333</td>\n",
       "      <td>59260.117333</td>\n",
       "      <td>58893.869333</td>\n",
       "      <td>58471.446667</td>\n",
       "    </tr>\n",
       "    <tr>\n",
       "      <th>2021-12-31</th>\n",
       "      <td>49022.730645</td>\n",
       "      <td>48726.029355</td>\n",
       "      <td>48490.422903</td>\n",
       "      <td>48380.262581</td>\n",
       "      <td>48185.829677</td>\n",
       "      <td>47945.268387</td>\n",
       "      <td>47651.989032</td>\n",
       "    </tr>\n",
       "    <tr>\n",
       "      <th>2022-01-31</th>\n",
       "      <td>40820.095484</td>\n",
       "      <td>40483.749677</td>\n",
       "      <td>40189.563226</td>\n",
       "      <td>40052.775161</td>\n",
       "      <td>39987.998387</td>\n",
       "      <td>39966.148065</td>\n",
       "      <td>40041.418387</td>\n",
       "    </tr>\n",
       "    <tr>\n",
       "      <th>2022-02-28</th>\n",
       "      <td>41135.873636</td>\n",
       "      <td>41201.936364</td>\n",
       "      <td>41288.824091</td>\n",
       "      <td>41178.237273</td>\n",
       "      <td>41009.371818</td>\n",
       "      <td>41043.860000</td>\n",
       "      <td>41012.789091</td>\n",
       "    </tr>\n",
       "  </tbody>\n",
       "</table>\n",
       "<p>88 rows × 7 columns</p>\n",
       "</div>"
      ],
      "text/plain": [
       "             close_lag_1   close_lag_2   close_lag_3   close_lag_4  \\\n",
       "date                                                                 \n",
       "2014-11-30    376.150000    376.993333    378.103333    373.706667   \n",
       "2014-12-31    339.810968    337.787097    334.862581    331.618065   \n",
       "2015-01-31    244.429355    241.895806    240.003548    238.790000   \n",
       "2015-02-28    235.742857    237.029643    238.874286    240.403929   \n",
       "2015-03-31    268.279677    267.607419    266.794194    266.265806   \n",
       "...                  ...           ...           ...           ...   \n",
       "2021-10-31  58328.484839  58830.878387  59304.903871  59698.939677   \n",
       "2021-11-30  60583.118667  60359.384000  60053.149667  59645.740333   \n",
       "2021-12-31  49022.730645  48726.029355  48490.422903  48380.262581   \n",
       "2022-01-31  40820.095484  40483.749677  40189.563226  40052.775161   \n",
       "2022-02-28  41135.873636  41201.936364  41288.824091  41178.237273   \n",
       "\n",
       "             close_lag_5   close_lag_6   close_lag_7  \n",
       "date                                                  \n",
       "2014-11-30    372.273333    371.740000    375.630000  \n",
       "2014-12-31    328.451935    325.281935    322.053871  \n",
       "2015-01-31    236.860968    235.121613    233.567097  \n",
       "2015-02-28    242.432500    244.231786    245.909643  \n",
       "2015-03-31    265.836774    265.274516    264.592581  \n",
       "...                  ...           ...           ...  \n",
       "2021-10-31  60006.382258  60206.274194  60513.125806  \n",
       "2021-11-30  59260.117333  58893.869333  58471.446667  \n",
       "2021-12-31  48185.829677  47945.268387  47651.989032  \n",
       "2022-01-31  39987.998387  39966.148065  40041.418387  \n",
       "2022-02-28  41009.371818  41043.860000  41012.789091  \n",
       "\n",
       "[88 rows x 7 columns]"
      ]
     },
     "execution_count": 26,
     "metadata": {},
     "output_type": "execute_result"
    }
   ],
   "source": [
    "X_monthly = monthly_data.drop(columns=['open','high','low','close','Volume BTC','Volume USD'])\n",
    "y_monthly = monthly_data['close']\n",
    "X_monthly"
   ]
  },
  {
   "cell_type": "code",
   "execution_count": 27,
   "metadata": {},
   "outputs": [],
   "source": [
    "X_train_monthly, X_test_monthly, y_train_monthly, y_test_monthly = train_test_split(X_monthly, y_monthly\n",
    "                                                                                   , test_size= 0.2, shuffle=False)"
   ]
  },
  {
   "cell_type": "code",
   "execution_count": 28,
   "metadata": {},
   "outputs": [],
   "source": [
    "scaler_m = MinMaxScaler()\n",
    "X_train_monthly = scaler_m.fit_transform(X_train_monthly)\n",
    "X_test_monthly = scaler_m.transform(X_test_monthly)"
   ]
  },
  {
   "cell_type": "code",
   "execution_count": 29,
   "metadata": {},
   "outputs": [],
   "source": [
    "X_train_lstm_monthly = X_train_monthly.reshape(X_train_monthly.shape[0], 1, n)\n",
    "X_test_lstm_monthly = X_test_monthly.reshape(X_test_monthly.shape[0], 1, n)"
   ]
  },
  {
   "cell_type": "code",
   "execution_count": 30,
   "metadata": {},
   "outputs": [
    {
     "name": "stderr",
     "output_type": "stream",
     "text": [
      "F:\\Anaconda\\Lib\\site-packages\\keras\\src\\layers\\rnn\\rnn.py:200: UserWarning: Do not pass an `input_shape`/`input_dim` argument to a layer. When using Sequential models, prefer using an `Input(shape)` object as the first layer in the model instead.\n",
      "  super().__init__(**kwargs)\n"
     ]
    }
   ],
   "source": [
    "model_monthly = Sequential([\n",
    "    LSTM(64, return_sequences=True, input_shape=(X_train_lstm_monthly.shape[1], X_train_lstm_monthly.shape[2])),\n",
    "    Dropout(0.3),\n",
    "    LSTM(32),\n",
    "    Dropout(0.3),\n",
    "    Dense(1)\n",
    "])"
   ]
  },
  {
   "cell_type": "code",
   "execution_count": 31,
   "metadata": {},
   "outputs": [],
   "source": [
    "model_monthly.compile(optimizer='adam', loss='mean_squared_error')"
   ]
  },
  {
   "cell_type": "code",
   "execution_count": 32,
   "metadata": {},
   "outputs": [
    {
     "name": "stdout",
     "output_type": "stream",
     "text": [
      "Epoch 1/20\n",
      "\u001b[1m3/3\u001b[0m \u001b[32m━━━━━━━━━━━━━━━━━━━━\u001b[0m\u001b[37m\u001b[0m \u001b[1m4s\u001b[0m 257ms/step - loss: 35468472.0000 - val_loss: 1796100352.0000\n",
      "Epoch 2/20\n",
      "\u001b[1m3/3\u001b[0m \u001b[32m━━━━━━━━━━━━━━━━━━━━\u001b[0m\u001b[37m\u001b[0m \u001b[1m0s\u001b[0m 39ms/step - loss: 34613092.0000 - val_loss: 1796093952.0000\n",
      "Epoch 3/20\n",
      "\u001b[1m3/3\u001b[0m \u001b[32m━━━━━━━━━━━━━━━━━━━━\u001b[0m\u001b[37m\u001b[0m \u001b[1m0s\u001b[0m 40ms/step - loss: 37741752.0000 - val_loss: 1796087296.0000\n",
      "Epoch 4/20\n",
      "\u001b[1m3/3\u001b[0m \u001b[32m━━━━━━━━━━━━━━━━━━━━\u001b[0m\u001b[37m\u001b[0m \u001b[1m0s\u001b[0m 41ms/step - loss: 36230820.0000 - val_loss: 1796080128.0000\n",
      "Epoch 5/20\n",
      "\u001b[1m3/3\u001b[0m \u001b[32m━━━━━━━━━━━━━━━━━━━━\u001b[0m\u001b[37m\u001b[0m \u001b[1m0s\u001b[0m 40ms/step - loss: 33961148.0000 - val_loss: 1796072320.0000\n",
      "Epoch 6/20\n",
      "\u001b[1m3/3\u001b[0m \u001b[32m━━━━━━━━━━━━━━━━━━━━\u001b[0m\u001b[37m\u001b[0m \u001b[1m0s\u001b[0m 42ms/step - loss: 35708948.0000 - val_loss: 1796062976.0000\n",
      "Epoch 7/20\n",
      "\u001b[1m3/3\u001b[0m \u001b[32m━━━━━━━━━━━━━━━━━━━━\u001b[0m\u001b[37m\u001b[0m \u001b[1m0s\u001b[0m 38ms/step - loss: 33171544.0000 - val_loss: 1796052736.0000\n",
      "Epoch 8/20\n",
      "\u001b[1m3/3\u001b[0m \u001b[32m━━━━━━━━━━━━━━━━━━━━\u001b[0m\u001b[37m\u001b[0m \u001b[1m0s\u001b[0m 42ms/step - loss: 31880752.0000 - val_loss: 1796040192.0000\n",
      "Epoch 9/20\n",
      "\u001b[1m3/3\u001b[0m \u001b[32m━━━━━━━━━━━━━━━━━━━━\u001b[0m\u001b[37m\u001b[0m \u001b[1m0s\u001b[0m 42ms/step - loss: 35900056.0000 - val_loss: 1796025984.0000\n",
      "Epoch 10/20\n",
      "\u001b[1m3/3\u001b[0m \u001b[32m━━━━━━━━━━━━━━━━━━━━\u001b[0m\u001b[37m\u001b[0m \u001b[1m0s\u001b[0m 36ms/step - loss: 33478804.0000 - val_loss: 1796009728.0000\n",
      "Epoch 11/20\n",
      "\u001b[1m3/3\u001b[0m \u001b[32m━━━━━━━━━━━━━━━━━━━━\u001b[0m\u001b[37m\u001b[0m \u001b[1m0s\u001b[0m 38ms/step - loss: 34664080.0000 - val_loss: 1795990144.0000\n",
      "Epoch 12/20\n",
      "\u001b[1m3/3\u001b[0m \u001b[32m━━━━━━━━━━━━━━━━━━━━\u001b[0m\u001b[37m\u001b[0m \u001b[1m0s\u001b[0m 42ms/step - loss: 35332136.0000 - val_loss: 1795967872.0000\n",
      "Epoch 13/20\n",
      "\u001b[1m3/3\u001b[0m \u001b[32m━━━━━━━━━━━━━━━━━━━━\u001b[0m\u001b[37m\u001b[0m \u001b[1m0s\u001b[0m 36ms/step - loss: 37595112.0000 - val_loss: 1795942272.0000\n",
      "Epoch 14/20\n",
      "\u001b[1m3/3\u001b[0m \u001b[32m━━━━━━━━━━━━━━━━━━━━\u001b[0m\u001b[37m\u001b[0m \u001b[1m0s\u001b[0m 40ms/step - loss: 36875368.0000 - val_loss: 1795913088.0000\n",
      "Epoch 15/20\n",
      "\u001b[1m3/3\u001b[0m \u001b[32m━━━━━━━━━━━━━━━━━━━━\u001b[0m\u001b[37m\u001b[0m \u001b[1m0s\u001b[0m 36ms/step - loss: 37553240.0000 - val_loss: 1795880960.0000\n",
      "Epoch 16/20\n",
      "\u001b[1m3/3\u001b[0m \u001b[32m━━━━━━━━━━━━━━━━━━━━\u001b[0m\u001b[37m\u001b[0m \u001b[1m0s\u001b[0m 38ms/step - loss: 36534144.0000 - val_loss: 1795845632.0000\n",
      "Epoch 17/20\n",
      "\u001b[1m3/3\u001b[0m \u001b[32m━━━━━━━━━━━━━━━━━━━━\u001b[0m\u001b[37m\u001b[0m \u001b[1m0s\u001b[0m 35ms/step - loss: 33689200.0000 - val_loss: 1795808512.0000\n",
      "Epoch 18/20\n",
      "\u001b[1m3/3\u001b[0m \u001b[32m━━━━━━━━━━━━━━━━━━━━\u001b[0m\u001b[37m\u001b[0m \u001b[1m0s\u001b[0m 37ms/step - loss: 34878104.0000 - val_loss: 1795771264.0000\n",
      "Epoch 19/20\n",
      "\u001b[1m3/3\u001b[0m \u001b[32m━━━━━━━━━━━━━━━━━━━━\u001b[0m\u001b[37m\u001b[0m \u001b[1m0s\u001b[0m 37ms/step - loss: 34715680.0000 - val_loss: 1795734400.0000\n",
      "Epoch 20/20\n",
      "\u001b[1m3/3\u001b[0m \u001b[32m━━━━━━━━━━━━━━━━━━━━\u001b[0m\u001b[37m\u001b[0m \u001b[1m0s\u001b[0m 47ms/step - loss: 35471288.0000 - val_loss: 1795697152.0000\n"
     ]
    }
   ],
   "source": [
    "history_monthly = model_monthly.fit(\n",
    "    X_train_lstm_monthly, y_train_monthly,\n",
    "    epochs=20, batch_size=32, validation_data=(X_test_lstm_monthly, y_test_monthly), verbose=1\n",
    ")"
   ]
  },
  {
   "cell_type": "code",
   "execution_count": 33,
   "metadata": {},
   "outputs": [
    {
     "data": {
      "image/png": "[encoded data removed]",
      "text/plain": [
       "<Figure size 640x480 with 1 Axes>"
      ]
     },
     "metadata": {},
     "output_type": "display_data"
    }
   ],
   "source": [
    "plt.plot(history_monthly.history['loss'], label='Train Loss')\n",
    "plt.plot(history_monthly.history['val_loss'], label='Validation Loss')\n",
    "plt.title('Model Loss')\n",
    "plt.xlabel('Epochs')\n",
    "plt.ylabel('Loss')\n",
    "plt.legend()\n",
    "plt.show()"
   ]
  },
  {
   "cell_type": "code",
   "execution_count": 34,
   "metadata": {},
   "outputs": [
    {
     "name": "stdout",
     "output_type": "stream",
     "text": [
      "\u001b[1m1/1\u001b[0m \u001b[32m━━━━━━━━━━━━━━━━━━━━\u001b[0m\u001b[37m\u001b[0m \u001b[1m0s\u001b[0m 346ms/step\n"
     ]
    }
   ],
   "source": [
    "y_pred_monthly = model_monthly.predict(X_test_lstm_monthly)"
   ]
  },
  {
   "cell_type": "code",
   "execution_count": 35,
   "metadata": {},
   "outputs": [
    {
     "name": "stdout",
     "output_type": "stream",
     "text": [
      "Monthly Prediction - MAE: 39600.6322\n",
      "Monthly Prediction - MSE: 1795697189.7907\n",
      "Monthly Prediction - R2 Score: -6.8926\n"
     ]
    }
   ],
   "source": [
    "mae_monthly = mean_absolute_error(y_test_monthly, y_pred_monthly)\n",
    "mse_monthly = mean_squared_error(y_test_monthly, y_pred_monthly)\n",
    "r2_monthly = r2_score(y_test_monthly, y_pred_monthly)\n",
    "\n",
    "print(f\"Monthly Prediction - MAE: {mae_monthly:.4f}\")\n",
    "print(f\"Monthly Prediction - MSE: {mse_monthly:.4f}\")\n",
    "print(f\"Monthly Prediction - R2 Score: {r2_monthly:.4f}\")"
   ]
  }
 ],
 "metadata": {
  "colab": {
   "provenance": []
  },
  "kernelspec": {
   "display_name": "Python 3 (ipykernel)",
   "language": "python",
   "name": "python3"
  },
  "language_info": {
   "codemirror_mode": {
    "name": "ipython",
    "version": 3
   },
   "file_extension": ".py",
   "mimetype": "text/x-python",
   "name": "python",
   "nbconvert_exporter": "python",
   "pygments_lexer": "ipython3",
   "version": "3.12.7"
  }
 },
 "nbformat": 4,
 "nbformat_minor": 4
}
